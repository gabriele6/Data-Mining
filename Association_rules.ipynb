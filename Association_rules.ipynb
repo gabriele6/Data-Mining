{
  "nbformat": 4,
  "nbformat_minor": 0,
  "metadata": {
    "colab": {
      "name": "Association rules.ipynb",
      "provenance": [],
      "collapsed_sections": [
        "BR6hSQtyQ-Pv",
        "keJGGsVNLF1N",
        "yDpvPgTtLKEf",
        "PKjqj2YnMQwD",
        "n7yCF1t6MptG",
        "7GZ8XjgQN3bN"
      ],
      "toc_visible": true
    },
    "kernelspec": {
      "name": "python3",
      "display_name": "Python 3"
    }
  },
  "cells": [
    {
      "cell_type": "markdown",
      "metadata": {
        "id": "BR6hSQtyQ-Pv"
      },
      "source": [
        "# Get Input Data"
      ]
    },
    {
      "cell_type": "code",
      "metadata": {
        "id": "C0HkvKQlQ3xh",
        "colab": {
          "base_uri": "https://localhost:8080/"
        },
        "outputId": "1cc71181-cf0e-42ea-bd9c-d666de6e15b9"
      },
      "source": [
        "import pandas as pd\n",
        "from sklearn.model_selection import train_test_split\n",
        "import numpy as np\n",
        "from mpl_toolkits.mplot3d import Axes3D\n",
        "import matplotlib.pyplot as plt\n",
        "import seaborn as sns\n",
        "\n",
        "\n",
        "trainingLink = \"https://raw.githubusercontent.com/LuisM78/Occupancy-detection-data/master/datatraining.txt\"\n",
        "dataTest1Link = \"https://raw.githubusercontent.com/LuisM78/Occupancy-detection-data/master/datatest.txt\"\n",
        "dataTest2Link = \"https://raw.githubusercontent.com/LuisM78/Occupancy-detection-data/master/datatest2.txt\"\n",
        "\n",
        "# ---- Variables: ----\n",
        "# tr = training set\n",
        "# ts1 = test set 1\n",
        "# ts2 = test set 2\n",
        "# trainX = training set input values\n",
        "# trainy = training set target values\n",
        "# test1X = test set 1 input values\n",
        "# test1y = test set 1 target values\n",
        "# test2X = test set 2 input values\n",
        "# test2y = test set 2 target values\n",
        "\n",
        "\n",
        "# getting training set\n",
        "tr = pd.read_csv(trainingLink, sep=\",\", skiprows=1, header=None)\n",
        "tr.columns = [\"Id\",\"date\",\"Temperature\",\"Humidity\",\"Light\",\"CO2\",\"HumidityRatio\",\"Occupancy\"]\n",
        "tr = tr.drop(columns=['Id'])\n",
        "# convert date string to datetime\n",
        "tr['date'] =  pd.to_datetime(tr['date'], format='%Y-%m-%d %H:%M:%S')\n",
        "# split day and time and drop date column\n",
        "dates, times = zip(*[(d.date(), d.time()) for d in tr['date']])\n",
        "tr.insert(0, 'Day', dates)\n",
        "tr.insert(1, 'Time', times)\n",
        "tr = tr.drop(columns=['date'])\n",
        "# splitting training set\n",
        "target = tr[tr.columns[-1:]]\n",
        "target.columns = [\"Occupancy\"]\n",
        "trainX = tr[tr.columns[:-1]]\n",
        "trainy = target\n",
        "\n",
        "\n",
        "# getting test set 1\n",
        "ts1 = pd.read_csv(dataTest1Link, sep=\",\", skiprows=1, header=None)\n",
        "ts1.columns = [\"Id\",\"date\",\"Temperature\",\"Humidity\",\"Light\",\"CO2\",\"HumidityRatio\",\"Occupancy\"]\n",
        "ts1 = ts1.drop(columns=['Id'])\n",
        "# convert date string to datetime\n",
        "ts1['date'] =  pd.to_datetime(ts1['date'], format='%Y-%m-%d %H:%M:%S')\n",
        "# split day and time and drop date column\n",
        "dates, times = zip(*[(d.date(), d.time()) for d in ts1['date']])\n",
        "ts1.insert(0, 'Day', dates)\n",
        "ts1.insert(1, 'Time', times)\n",
        "ts1 = ts1.drop(columns=['date'])\n",
        "# splitting training set\n",
        "target = ts1[ts1.columns[-1:]]\n",
        "target.columns = [\"Occupancy\"]\n",
        "test1X = ts1[ts1.columns[:-1]]\n",
        "test1y = target\n",
        "\n",
        "\n",
        "# getting test set 2\n",
        "ts2 = pd.read_csv(dataTest2Link, sep=\",\", skiprows=1, header=None)\n",
        "ts2.columns = [\"Id\",\"date\",\"Temperature\",\"Humidity\",\"Light\",\"CO2\",\"HumidityRatio\",\"Occupancy\"]\n",
        "ts2 = ts2.drop(columns=['Id'])\n",
        "# convert date string to datetime\n",
        "ts2['date'] =  pd.to_datetime(ts2['date'], format='%Y-%m-%d %H:%M:%S')\n",
        "# split day and time and drop date column\n",
        "dates, times = zip(*[(d.date(), d.time()) for d in ts2['date']])\n",
        "ts2.insert(0, 'Day', dates)\n",
        "ts2.insert(1, 'Time', times)\n",
        "ts2 = ts2.drop(columns=['date'])\n",
        "# splitting training set\n",
        "target = ts2[ts2.columns[-1:]]\n",
        "target.columns = [\"Occupancy\"]\n",
        "test2X = ts2[ts2.columns[:-1]]\n",
        "test2y = target"
      ],
      "execution_count": null,
      "outputs": [
        {
          "output_type": "stream",
          "text": [
            "/usr/local/lib/python3.6/dist-packages/statsmodels/tools/_testing.py:19: FutureWarning: pandas.util.testing is deprecated. Use the functions in the public API at pandas.testing instead.\n",
            "  import pandas.util.testing as tm\n"
          ],
          "name": "stderr"
        }
      ]
    },
    {
      "cell_type": "code",
      "metadata": {
        "id": "n32nCkZ5RHHI",
        "colab": {
          "base_uri": "https://localhost:8080/"
        },
        "outputId": "5e51adb5-26db-45f8-a68c-b064af4cc23a"
      },
      "source": [
        "# Scaling\n",
        "from sklearn.preprocessing import RobustScaler\n",
        "from sklearn.preprocessing import MinMaxScaler\n",
        "x = trainX.copy()\n",
        "x = x.drop(columns=['Day', 'Time'])\n",
        "\n",
        "scaler = RobustScaler()\n",
        "#scaler = MinMaxScaler() \n",
        "scaledX = scaler.fit_transform(x)\n",
        "print(x)\n",
        "print(scaledX)"
      ],
      "execution_count": null,
      "outputs": [
        {
          "output_type": "stream",
          "text": [
            "      Temperature  Humidity  Light         CO2  HumidityRatio\n",
            "0           23.18   27.2720  426.0  721.250000       0.004793\n",
            "1           23.15   27.2675  429.5  714.000000       0.004783\n",
            "2           23.15   27.2450  426.0  713.500000       0.004779\n",
            "3           23.15   27.2000  426.0  708.250000       0.004772\n",
            "4           23.10   27.2000  426.0  704.500000       0.004757\n",
            "...           ...       ...    ...         ...            ...\n",
            "8138        21.05   36.0975  433.0  787.250000       0.005579\n",
            "8139        21.05   35.9950  433.0  789.500000       0.005563\n",
            "8140        21.10   36.0950  433.0  798.500000       0.005596\n",
            "8141        21.10   36.2600  433.0  820.333333       0.005621\n",
            "8142        21.10   36.2000  447.0  821.000000       0.005612\n",
            "\n",
            "[8143 rows x 5 columns]\n",
            "[[1.65088757 0.10156452 1.66162847 1.33986656 0.77903789]\n",
            " [1.63313609 0.10112903 1.67528035 1.30358632 0.77154191]\n",
            " [1.63313609 0.09895161 1.66162847 1.30108424 0.76841904]\n",
            " ...\n",
            " [0.42011834 0.95540323 1.68893223 1.7264387  1.40923722]\n",
            " [0.42011834 0.97137097 1.68893223 1.83569641 1.42950216]\n",
            " [0.42011834 0.96556452 1.74353974 1.83903253 1.4221329 ]]\n"
          ],
          "name": "stdout"
        }
      ]
    },
    {
      "cell_type": "code",
      "metadata": {
        "id": "s2n_jgzvRNLu"
      },
      "source": [
        ""
      ],
      "execution_count": null,
      "outputs": []
    },
    {
      "cell_type": "markdown",
      "metadata": {
        "id": "6es1Fa9uRSVj"
      },
      "source": [
        "# Install and import neeeded packages"
      ]
    },
    {
      "cell_type": "code",
      "metadata": {
        "id": "wxMwwB8SRZNU",
        "colab": {
          "base_uri": "https://localhost:8080/",
          "height": 354
        },
        "outputId": "3c67bf97-4511-4ed2-c9f8-74f487e42e0f"
      },
      "source": [
        "import sys\n",
        "!{sys.executable} -m pip install apyori\n",
        "!{sys.executable} -m pip install pyfim"
      ],
      "execution_count": null,
      "outputs": [
        {
          "output_type": "stream",
          "text": [
            "Collecting apyori\n",
            "  Downloading https://files.pythonhosted.org/packages/5e/62/5ffde5c473ea4b033490617ec5caa80d59804875ad3c3c57c0976533a21a/apyori-1.1.2.tar.gz\n",
            "Building wheels for collected packages: apyori\n",
            "  Building wheel for apyori (setup.py) ... \u001b[?25l\u001b[?25hdone\n",
            "  Created wheel for apyori: filename=apyori-1.1.2-cp36-none-any.whl size=5975 sha256=1629b34cf2d2a4ff9188a390b3c480a28ad4d09da1462f1ff6acbebb24a8c845\n",
            "  Stored in directory: /root/.cache/pip/wheels/5d/92/bb/474bbadbc8c0062b9eb168f69982a0443263f8ab1711a8cad0\n",
            "Successfully built apyori\n",
            "Installing collected packages: apyori\n",
            "Successfully installed apyori-1.1.2\n",
            "Collecting pyfim\n",
            "\u001b[?25l  Downloading https://files.pythonhosted.org/packages/b4/af/6a0e2e9cb2dad10f94859ce198a81c2d9e98af75263a14a912ff9a0cdb75/pyfim-6.28.tar.gz (357kB)\n",
            "\u001b[K     |████████████████████████████████| 358kB 2.8MB/s \n",
            "\u001b[?25hBuilding wheels for collected packages: pyfim\n",
            "  Building wheel for pyfim (setup.py) ... \u001b[?25l\u001b[?25hdone\n",
            "  Created wheel for pyfim: filename=pyfim-6.28-cp36-cp36m-linux_x86_64.whl size=536896 sha256=7cb88781aec0eacaf70cd1523f3f54ad4355dd658a406576e8a93ae5a6c28ca4\n",
            "  Stored in directory: /root/.cache/pip/wheels/19/ac/b4/9ae8ceb2208d78b21b1157f8561cc4469d236b7d785e7422f1\n",
            "Successfully built pyfim\n",
            "Installing collected packages: pyfim\n",
            "Successfully installed pyfim-6.28\n"
          ],
          "name": "stdout"
        }
      ]
    },
    {
      "cell_type": "code",
      "metadata": {
        "id": "-E_4xOlIR6CN"
      },
      "source": [
        "from apyori import apriori, load_transactions\n",
        "import math\n",
        "import numpy as np\n",
        "import pandas as pd\n",
        "import scipy.stats as stats\n",
        "import matplotlib.pyplot as plt\n",
        "import subprocess\n",
        "from collections import defaultdict\n",
        "from scipy.stats.stats import pearsonr\n",
        "\n",
        "import fim\n",
        "from fim import apriori\n"
      ],
      "execution_count": null,
      "outputs": []
    },
    {
      "cell_type": "code",
      "metadata": {
        "id": "uD8MnFVzh54L",
        "colab": {
          "base_uri": "https://localhost:8080/",
          "height": 1000
        },
        "outputId": "c0cbfb02-3e39-4310-a01a-966f4c6ae3b7"
      },
      "source": [
        "help(fim.apriori)"
      ],
      "execution_count": null,
      "outputs": [
        {
          "output_type": "stream",
          "text": [
            "Help on built-in function apriori in module fim:\n",
            "\n",
            "apriori(...)\n",
            "    apriori (tracts, target='s', supp=10, zmin=1, zmax=None, report='a',\n",
            "             eval='x', agg='x', thresh=10, prune=None, algo='b', mode='',\n",
            "             border=None)\n",
            "    Find frequent item sets with the Apriori algorithm.\n",
            "    tracts  transaction database to mine (mandatory)\n",
            "            The database must be an iterable of transactions;\n",
            "            each transaction must be an iterable of items;\n",
            "            each item must be a hashable object.\n",
            "            If the database is a dictionary, the transactions are\n",
            "            the keys, the values their (integer) multiplicities.\n",
            "    target  type of frequent item sets to find     (default: s)\n",
            "            s/a   sets/all   all     frequent item sets\n",
            "            c     closed     closed  frequent item sets\n",
            "            m     maximal    maximal frequent item sets\n",
            "            g     gens       generators\n",
            "            r     rules      association rules\n",
            "    supp    minimum support of an item set         (default: 10)\n",
            "            (positive: percentage, negative: absolute number)\n",
            "    conf    minimum confidence of an assoc. rule   (default: 80%)\n",
            "    zmin    minimum number of items per item set   (default: 1)\n",
            "    zmax    maximum number of items per item set   (default: no limit)\n",
            "    report  values to report with an item set      (default: a)\n",
            "            a     absolute item set support (number of transactions)\n",
            "            s     relative item set support as a fraction\n",
            "            S     relative item set support as a percentage\n",
            "            e     value of item set evaluation measure\n",
            "            E     value of item set evaluation measure as a percentage\n",
            "            (     combine values in a tuple (must be first character)\n",
            "            [     combine values in a list  (must be first character)\n",
            "            #     pattern spectrum as a dictionary  (no patterns)\n",
            "            =     pattern spectrum as a list        (no patterns)\n",
            "            |     pattern spectrum as three columns (no patterns)\n",
            "            for target 'r' (association rules) also available:\n",
            "            b     absolute body set  support (number of transactions)\n",
            "            x     relative body set  support as a fraction\n",
            "            X     relative body set  support as a percentage\n",
            "            h     absolute head item support (number of transactions)\n",
            "            y     relative head item support as a fraction\n",
            "            Y     relative head item support as a percentage\n",
            "            c     rule confidence as a fraction\n",
            "            C     rule confidence as a percentage\n",
            "            l     lift value of a rule (confidence/prior)\n",
            "            L     lift value of a rule as a percentage\n",
            "            Q     support of the empty set (total number of transactions)\n",
            "    eval    measure for item set evaluation        (default: x)\n",
            "            x     none       no measure / zero (default)\n",
            "            b     ldratio    binary logarithm of support quotient       (+)\n",
            "            c     conf       rule confidence                            (+)\n",
            "            d     confdiff   absolute confidence difference to prior    (+)\n",
            "            l     lift       lift value (confidence divided by prior)   (+)\n",
            "            a     liftdiff   absolute difference of lift value to 1     (+)\n",
            "            q     liftquot   difference of lift quotient to 1           (+)\n",
            "            v     cvct       conviction (inverse lift for negated head) (+)\n",
            "            e     cvctdiff   absolute difference of conviction to 1     (+)\n",
            "            r     cvctquot   difference of conviction quotient to 1     (+)\n",
            "            k     cprob      conditional probability ratio              (+)\n",
            "            j     import     importance (binary log. of prob. ratio)    (+)\n",
            "            z     cert       certainty factor (relative conf. change)   (+)\n",
            "            n     chi2       normalized chi^2 measure                   (+)\n",
            "            p     chi2pval   p-value from (unnormalized) chi^2 measure  (-)\n",
            "            y     yates      normalized chi^2 with Yates' correction    (+)\n",
            "            t     yatespval  p-value from Yates-corrected chi^2 measure (-)\n",
            "            i     info       information difference to prior            (+)\n",
            "            g     infopval   p-value from G statistic/info. difference  (-)\n",
            "            f     fetprob    Fisher's exact test (table probability)    (-)\n",
            "            h     fetchi2    Fisher's exact test (chi^2 measure)        (-)\n",
            "            m     fetinfo    Fisher's exact test (mutual information)   (-)\n",
            "            s     fetsupp    Fisher's exact test (support)              (-)\n",
            "            Measures marked with (+) must meet or exceed the threshold,\n",
            "            measures marked with (-) must not exceed the threshold\n",
            "            in order for the item set to be reported.\n",
            "    agg     evaluation measure aggregation mode    (default: x)\n",
            "            x     none       no aggregation (use first value)\n",
            "            m     min        minimum of individual measure values\n",
            "            n     max        maximum of individual measure values\n",
            "            a     avg        average of individual measure values\n",
            "    thresh  threshold for evaluation measure       (default: 10%)\n",
            "    prune   min. size for evaluation filtering     (default: no pruning)\n",
            "            = 0   backward filtering       (no subset check)\n",
            "            < 0   weak   forward filtering (one subset  must qualify)\n",
            "            > 0   strong forward filtering (all subsets must qualify)\n",
            "    algo    algorithm variant to use               (default: a)\n",
            "            b     basic      standard algorithm (only choice)\n",
            "    mode    operation mode indicators/flags        (default: None)\n",
            "            x     do not use perfect extension pruning\n",
            "            t/T   do not organize transactions as a prefix tree\n",
            "            y     a-posteriori pruning of infrequent item sets\n",
            "            z     invalidate evaluation below expected support\n",
            "            o     use original rule support definition (body & head)\n",
            "    border  support border for filtering item sets (default: None)\n",
            "            Must be a list or tuple of (absolute) minimum support values\n",
            "            per item set size (by which the list/tuple is indexed).\n",
            "    appear  dictionary mapping items to item appearance indicators,\n",
            "            with the key None referring to the default item appearance.\n",
            "            (If None does not occur as a key or no dictionary is given,\n",
            "            the default item appearance indicator is 'both'.)\n",
            "            This parameter is only used if the target type is rules.\n",
            "            * item may not appear anywhere in a rule:\n",
            "              '-', 'n', 'none', 'neither', 'ignore'\n",
            "            * item may appear only in rule body/antecedent:\n",
            "              'i', 'in', 'inp', 'input', 'b', 'body',\n",
            "              'a', 'ante', 'antecedent'\n",
            "            * item may appear only in rule head/consequent:\n",
            "              'o', 'out',      'output', 'h', 'head',\n",
            "              'c', 'cons', 'consequent'\n",
            "            * item may appear anywhere in a rule:\n",
            "              'io', 'i&o', 'inout', 'in&out', 'bh', 'b&h', 'both'\n",
            "    returns if report is not in ['#','=','|']:\n",
            "              if the target is association rules:\n",
            "                a list of rules (i.e. tuples with two or more elements),\n",
            "                each consisting of a head/consequent item, a tuple with\n",
            "                a body/antecedent item set, and the values selected by\n",
            "                the parameter 'report', which may be combined into a\n",
            "                tuple or a list if report[0] is '(' or '[', respectively.\n",
            "              if the target is a type of item sets:\n",
            "                a list of patterns (i.e. tuples with one or more elements),\n",
            "                each consisting of a tuple with a found frequent item set\n",
            "                and the values selected by the parameter 'report', which\n",
            "                may be combined into a tuple or list if report[0] is '('\n",
            "                or '[', respectively\n",
            "            if report in ['#','=','|']:\n",
            "              a pattern spectrum as a dictionary mapping pattern sizes\n",
            "              to the corresponding occurrence support ranges, as a list\n",
            "              of triplets (size, min. support, max. support) or as three\n",
            "              columns for sizes and minimum and maximum support values\n",
            "\n"
          ],
          "name": "stdout"
        }
      ]
    },
    {
      "cell_type": "markdown",
      "metadata": {
        "id": "f_GtebTkDWmA"
      },
      "source": [
        ""
      ]
    },
    {
      "cell_type": "markdown",
      "metadata": {
        "id": "c79RtGDPqeeB"
      },
      "source": [
        "#Discretizzazione"
      ]
    },
    {
      "cell_type": "code",
      "metadata": {
        "id": "VytcupoOqlY4",
        "colab": {
          "base_uri": "https://localhost:8080/",
          "height": 33
        },
        "outputId": "820ae230-3245-41f6-beb1-a1115a4636cd"
      },
      "source": [
        "# Determino num bins con la regola di Sturges\n",
        "import math\n",
        "\n",
        "n_bins = math.ceil(1 + ((10/3)*math.log10(8143)))\n",
        "print(n_bins)"
      ],
      "execution_count": null,
      "outputs": [
        {
          "output_type": "stream",
          "text": [
            "15\n"
          ],
          "name": "stdout"
        }
      ]
    },
    {
      "cell_type": "code",
      "metadata": {
        "id": "1CKS8FX2tWVz"
      },
      "source": [
        "discr_tr = tr.copy()\n",
        "discr_tr = discr_tr.drop(columns=['Day', 'Time'])"
      ],
      "execution_count": null,
      "outputs": []
    },
    {
      "cell_type": "code",
      "metadata": {
        "id": "mBPSApSJnJst"
      },
      "source": [
        "#discretizzo in 15 bins e rinomino\n",
        "\n",
        "#indici\n",
        "index = range(8143)\n",
        "discr_tr = discr_tr.assign(indexes = index)\n",
        "\n",
        "# Temperature\n",
        "T = pd.cut(discr_tr['Temperature'], 15, labels = ['T1', 'T2', 'T3', 'T4', 'T5', 'T6', 'T7', 'T8', 'T9', 'T10', 'T11', 'T12', 'T13', 'T14', 'T15'])\n",
        "discr_tr['T'] = T\n",
        "discr_tr = discr_tr.drop(labels = 'Temperature', axis = 1)\n",
        "\n",
        "# Humidity\n",
        "H = pd.cut(discr_tr['Humidity'], 15, labels = ['H1', 'H2', 'H3', 'H4', 'H5', 'H6', 'H7', 'H8', 'H9', 'H10', 'H11', 'H12', 'H13', 'H14', 'H15'])\n",
        "discr_tr['H'] = H\n",
        "discr_tr = discr_tr.drop(labels = 'Humidity', axis = 1)\n",
        "\n",
        "# HumidityRatio\n",
        "HR = pd.cut(discr_tr['HumidityRatio'], 15, labels = ['HR1', 'HR2', 'HR3', 'HR4', 'HR5', 'HR6', 'HR7', 'HR8', 'HR9', 'HR10', 'HR11', 'HR12', 'HR13', 'HR14', 'HR15'])\n",
        "discr_tr['HR'] = HR\n",
        "discr_tr = discr_tr.drop(labels = 'HumidityRatio', axis = 1)\n",
        "\n",
        "# Light\n",
        "L = pd.cut(discr_tr['Light'], 15, labels = ['L1', 'L2', 'L3', 'L4', 'L5', 'L6', 'L7', 'L8', 'L9', 'L10', 'L11', 'L12', 'L13', 'L14', 'L15'])\n",
        "discr_tr['L'] = L\n",
        "discr_tr = discr_tr.drop(labels = 'Light', axis = 1)\n",
        "\n",
        "# CO2\n",
        "C = pd.cut(discr_tr['CO2'], 15, labels = ['C1', 'C2', 'C3', 'C4', 'C5', 'C6', 'C7', 'C8', 'C9', 'C10', 'C11', 'C12', 'C13', 'C14', 'C15'])\n",
        "discr_tr['C'] = C\n",
        "discr_tr = discr_tr.drop(labels = 'CO2', axis = 1)\n",
        "\n",
        "# Occupancy\n",
        "OC = pd.cut(discr_tr['Occupancy'], 2, labels = ['OC0', 'OC1'])\n",
        "discr_tr['OC'] = OC\n",
        "discr_tr = discr_tr.drop(labels = 'Occupancy', axis = 1)"
      ],
      "execution_count": null,
      "outputs": []
    },
    {
      "cell_type": "code",
      "metadata": {
        "id": "E5jh9nTPqvSb",
        "colab": {
          "base_uri": "https://localhost:8080/",
          "height": 1000
        },
        "outputId": "cf97b911-647a-46a5-a6f0-8e98c8d94390"
      },
      "source": [
        "for c in discr_tr:\n",
        "  if(c!=\"indexes\"):\n",
        "    print(c)\n",
        "    s = 0\n",
        "    for n in discr_tr[c].unique():\n",
        "      l = len(discr_tr[discr_tr[c]==n])\n",
        "      print(\"Elementi nella categoria %s: %d\" %(n, l))\n",
        "      s += l\n",
        "    print(\"Sum: \",  s)\n",
        "    print()"
      ],
      "execution_count": null,
      "outputs": [
        {
          "output_type": "stream",
          "text": [
            "T\n",
            "Elementi nella categoria T15: 106\n",
            "Elementi nella categoria T14: 115\n",
            "Elementi nella categoria T13: 229\n",
            "Elementi nella categoria T12: 593\n",
            "Elementi nella categoria T11: 334\n",
            "Elementi nella categoria T10: 375\n",
            "Elementi nella categoria T9: 539\n",
            "Elementi nella categoria T8: 599\n",
            "Elementi nella categoria T7: 597\n",
            "Elementi nella categoria T6: 583\n",
            "Elementi nella categoria T5: 1160\n",
            "Elementi nella categoria T4: 615\n",
            "Elementi nella categoria T3: 633\n",
            "Elementi nella categoria T2: 1369\n",
            "Elementi nella categoria T1: 296\n",
            "Sum:  8143\n",
            "\n",
            "H\n",
            "Elementi nella categoria H8: 732\n",
            "Elementi nella categoria H7: 1377\n",
            "Elementi nella categoria H6: 488\n",
            "Elementi nella categoria H5: 319\n",
            "Elementi nella categoria H4: 360\n",
            "Elementi nella categoria H3: 742\n",
            "Elementi nella categoria H2: 1522\n",
            "Elementi nella categoria H1: 288\n",
            "Elementi nella categoria H9: 199\n",
            "Elementi nella categoria H10: 684\n",
            "Elementi nella categoria H11: 739\n",
            "Elementi nella categoria H12: 307\n",
            "Elementi nella categoria H13: 133\n",
            "Elementi nella categoria H14: 105\n",
            "Elementi nella categoria H15: 148\n",
            "Sum:  8143\n",
            "\n",
            "HR\n",
            "Elementi nella categoria HR9: 740\n",
            "Elementi nella categoria HR8: 284\n",
            "Elementi nella categoria HR7: 1119\n",
            "Elementi nella categoria HR6: 468\n",
            "Elementi nella categoria HR5: 1462\n",
            "Elementi nella categoria HR4: 517\n",
            "Elementi nella categoria HR3: 496\n",
            "Elementi nella categoria HR2: 950\n",
            "Elementi nella categoria HR1: 1354\n",
            "Elementi nella categoria HR10: 247\n",
            "Elementi nella categoria HR11: 179\n",
            "Elementi nella categoria HR12: 81\n",
            "Elementi nella categoria HR13: 48\n",
            "Elementi nella categoria HR14: 66\n",
            "Elementi nella categoria HR15: 132\n",
            "Sum:  8143\n",
            "\n",
            "L\n",
            "Elementi nella categoria L5: 1545\n",
            "Elementi nella categoria L1: 5883\n",
            "Elementi nella categoria L4: 214\n",
            "Elementi nella categoria L6: 156\n",
            "Elementi nella categoria L7: 15\n",
            "Elementi nella categoria L8: 2\n",
            "Elementi nella categoria L2: 177\n",
            "Elementi nella categoria L3: 148\n",
            "Elementi nella categoria L15: 2\n",
            "Elementi nella categoria L9: 1\n",
            "Sum:  8143\n",
            "\n",
            "C\n",
            "Elementi nella categoria C3: 301\n",
            "Elementi nella categoria C2: 384\n",
            "Elementi nella categoria C1: 5684\n",
            "Elementi nella categoria C4: 397\n",
            "Elementi nella categoria C5: 336\n",
            "Elementi nella categoria C6: 246\n",
            "Elementi nella categoria C7: 293\n",
            "Elementi nella categoria C8: 83\n",
            "Elementi nella categoria C9: 83\n",
            "Elementi nella categoria C10: 108\n",
            "Elementi nella categoria C11: 24\n",
            "Elementi nella categoria C12: 25\n",
            "Elementi nella categoria C13: 36\n",
            "Elementi nella categoria C14: 47\n",
            "Elementi nella categoria C15: 96\n",
            "Sum:  8143\n",
            "\n",
            "OC\n",
            "Elementi nella categoria OC1: 1729\n",
            "Elementi nella categoria OC0: 6414\n",
            "Sum:  8143\n",
            "\n"
          ],
          "name": "stdout"
        }
      ]
    },
    {
      "cell_type": "code",
      "metadata": {
        "id": "9vdH5NknHkWb",
        "colab": {
          "base_uri": "https://localhost:8080/",
          "height": 313
        },
        "outputId": "56ce1679-383d-475b-8f10-39db85580a83"
      },
      "source": [
        "import seaborn as sns\n",
        "sns.catplot(x=\"T\", kind=\"count\", data=discr_tr, height=4, aspect=7/4)"
      ],
      "execution_count": null,
      "outputs": [
        {
          "output_type": "execute_result",
          "data": {
            "text/plain": [
              "<seaborn.axisgrid.FacetGrid at 0x7fb7fbb6aa20>"
            ]
          },
          "metadata": {
            "tags": []
          },
          "execution_count": 10
        },
        {
          "output_type": "display_data",
          "data": {
            "image/png": "[encoded data removed]",
            "text/plain": [
              "<Figure size 504x288 with 1 Axes>"
            ]
          },
          "metadata": {
            "tags": [],
            "needs_background": "light"
          }
        }
      ]
    },
    {
      "cell_type": "code",
      "metadata": {
        "id": "O773Uz4AJ5-p",
        "colab": {
          "base_uri": "https://localhost:8080/",
          "height": 313
        },
        "outputId": "f674ccfe-b0ed-4b1d-f6e7-a4de9c1a333c"
      },
      "source": [
        "sns.catplot(x=\"H\", kind=\"count\", data=discr_tr, height=4, aspect=7/4)"
      ],
      "execution_count": null,
      "outputs": [
        {
          "output_type": "execute_result",
          "data": {
            "text/plain": [
              "<seaborn.axisgrid.FacetGrid at 0x7fb7fb31b8d0>"
            ]
          },
          "metadata": {
            "tags": []
          },
          "execution_count": 11
        },
        {
          "output_type": "display_data",
          "data": {
            "image/png": "[encoded data removed]",
            "text/plain": [
              "<Figure size 504x288 with 1 Axes>"
            ]
          },
          "metadata": {
            "tags": [],
            "needs_background": "light"
          }
        }
      ]
    },
    {
      "cell_type": "code",
      "metadata": {
        "id": "sJHRCRa2KDNt",
        "colab": {
          "base_uri": "https://localhost:8080/",
          "height": 313
        },
        "outputId": "a01c22cd-ddc2-4bae-bf38-1856d8abd92d"
      },
      "source": [
        "sns.catplot(x=\"HR\", kind=\"count\", data=discr_tr, height=4, aspect=7/4)"
      ],
      "execution_count": null,
      "outputs": [
        {
          "output_type": "execute_result",
          "data": {
            "text/plain": [
              "<seaborn.axisgrid.FacetGrid at 0x7fb7f85df978>"
            ]
          },
          "metadata": {
            "tags": []
          },
          "execution_count": 12
        },
        {
          "output_type": "display_data",
          "data": {
            "image/png": "[encoded data removed]",
            "text/plain": [
              "<Figure size 504x288 with 1 Axes>"
            ]
          },
          "metadata": {
            "tags": [],
            "needs_background": "light"
          }
        }
      ]
    },
    {
      "cell_type": "code",
      "metadata": {
        "id": "YG6RY9VNKRYA",
        "colab": {
          "base_uri": "https://localhost:8080/",
          "height": 313
        },
        "outputId": "96ced093-93a7-4764-b1d0-9c735c3d650a"
      },
      "source": [
        "sns.catplot(x=\"L\", kind=\"count\", data=discr_tr, height=4, aspect=7/4)"
      ],
      "execution_count": null,
      "outputs": [
        {
          "output_type": "execute_result",
          "data": {
            "text/plain": [
              "<seaborn.axisgrid.FacetGrid at 0x7fb7f84facc0>"
            ]
          },
          "metadata": {
            "tags": []
          },
          "execution_count": 13
        },
        {
          "output_type": "display_data",
          "data": {
            "image/png": "[encoded data removed]",
            "text/plain": [
              "<Figure size 504x288 with 1 Axes>"
            ]
          },
          "metadata": {
            "tags": [],
            "needs_background": "light"
          }
        }
      ]
    },
    {
      "cell_type": "code",
      "metadata": {
        "id": "-q-BwBoNKZPp",
        "colab": {
          "base_uri": "https://localhost:8080/",
          "height": 313
        },
        "outputId": "3b28f339-86ee-4e86-dd2d-545b60964551"
      },
      "source": [
        "sns.catplot(x=\"C\", kind=\"count\", data=discr_tr, height=4, aspect=7/4)"
      ],
      "execution_count": null,
      "outputs": [
        {
          "output_type": "execute_result",
          "data": {
            "text/plain": [
              "<seaborn.axisgrid.FacetGrid at 0x7fb7f8493e10>"
            ]
          },
          "metadata": {
            "tags": []
          },
          "execution_count": 14
        },
        {
          "output_type": "display_data",
          "data": {
            "image/png": "[encoded data removed]",
            "text/plain": [
              "<Figure size 504x288 with 1 Axes>"
            ]
          },
          "metadata": {
            "tags": [],
            "needs_background": "light"
          }
        }
      ]
    },
    {
      "cell_type": "code",
      "metadata": {
        "id": "O9DErMt7sCM6"
      },
      "source": [
        "#transform dataframe into a transaction like dictionary: index -> list of items\n",
        "baskets = defaultdict(list)\n",
        "\n",
        "for i in range(len(discr_tr)):\n",
        "    row = discr_tr[discr_tr['indexes'] == i]\n",
        "    item = row['T']\n",
        "    baskets[i].append(item[i])\n",
        "    item = row['H']\n",
        "    baskets[i].append(item[i])\n",
        "    item = row['HR']\n",
        "    baskets[i].append(item[i])\n",
        "    item = row['L']\n",
        "    baskets[i].append(item[i])\n",
        "    item = row['C']\n",
        "    baskets[i].append(item[i])\n",
        "    item = row['OC']\n",
        "    baskets[i].append(item[i])"
      ],
      "execution_count": null,
      "outputs": []
    },
    {
      "cell_type": "code",
      "metadata": {
        "id": "JyCxwIsYseCY"
      },
      "source": [
        "#get the list of items from the transactions\n",
        "baskets_lists = [b for b in baskets.values()]"
      ],
      "execution_count": null,
      "outputs": []
    },
    {
      "cell_type": "markdown",
      "metadata": {
        "id": "v-BxL5fAK6Ug"
      },
      "source": [
        "# Frequent itemset mining\n"
      ]
    },
    {
      "cell_type": "code",
      "metadata": {
        "id": "U0pZwcsFRtza"
      },
      "source": [
        "min_sup = []\n",
        "types = []\n",
        "itemsets_num = []"
      ],
      "execution_count": null,
      "outputs": []
    },
    {
      "cell_type": "markdown",
      "metadata": {
        "id": "keJGGsVNLF1N"
      },
      "source": [
        "## Support 2%\n"
      ]
    },
    {
      "cell_type": "code",
      "metadata": {
        "id": "tLqaLQJksgCH",
        "colab": {
          "base_uri": "https://localhost:8080/"
        },
        "outputId": "c77a35dc-c947-4fa1-b581-d7421a029b1c"
      },
      "source": [
        "# support 2%\n",
        "\n",
        "itemsets = apriori(baskets_lists, supp=2, zmin=2, report='as')\n",
        "print(len(itemsets))\n",
        "itemsets\n",
        "\n",
        "min_sup.append(0.02)\n",
        "types.append(\"frequent\")\n",
        "itemsets_num.append(len(itemsets))"
      ],
      "execution_count": null,
      "outputs": [
        {
          "output_type": "stream",
          "text": [
            "553\n"
          ],
          "name": "stdout"
        }
      ]
    },
    {
      "cell_type": "code",
      "metadata": {
        "id": "osj-xqsb1DC1",
        "colab": {
          "base_uri": "https://localhost:8080/"
        },
        "outputId": "1ee2a3db-436a-4de2-d514-52d0c76f2c38"
      },
      "source": [
        "itemsets = apriori(baskets_lists, zmin=2, supp=2, target='m', report='as')\n",
        "print(len(itemsets))\n",
        "itemsets\n",
        "min_sup.append(0.02)\n",
        "types.append(\"maximal\")\n",
        "itemsets_num.append(len(itemsets))"
      ],
      "execution_count": null,
      "outputs": [
        {
          "output_type": "stream",
          "text": [
            "41\n"
          ],
          "name": "stdout"
        }
      ]
    },
    {
      "cell_type": "code",
      "metadata": {
        "id": "7jH7eoOQOouB",
        "colab": {
          "base_uri": "https://localhost:8080/"
        },
        "outputId": "c7504231-ae00-4870-ff32-c44c27be9001"
      },
      "source": [
        "# Type --> closed\n",
        "\n",
        "itemsets = apriori(baskets_lists, supp=2, zmin=2, target='c', report='as')\n",
        "print(len(itemsets))\n",
        "itemsets\n",
        "\n",
        "min_sup.append(0.02)\n",
        "types.append(\"closed\")\n",
        "itemsets_num.append(len(itemsets))"
      ],
      "execution_count": null,
      "outputs": [
        {
          "output_type": "stream",
          "text": [
            "239\n"
          ],
          "name": "stdout"
        }
      ]
    },
    {
      "cell_type": "markdown",
      "metadata": {
        "id": "yDpvPgTtLKEf"
      },
      "source": [
        "## Support 3%"
      ]
    },
    {
      "cell_type": "code",
      "metadata": {
        "id": "Iym1_ia1LQ04",
        "colab": {
          "base_uri": "https://localhost:8080/"
        },
        "outputId": "d75093a2-8d71-4426-c50f-e57e5abfce42"
      },
      "source": [
        "# Type --> frequent\n",
        "\n",
        "itemsets = apriori(baskets_lists, supp=3, zmin=2, report='as')\n",
        "print(len(itemsets))\n",
        "itemsets\n",
        "\n",
        "min_sup.append(0.03)\n",
        "types.append(\"frequent\")\n",
        "itemsets_num.append(len(itemsets))"
      ],
      "execution_count": null,
      "outputs": [
        {
          "output_type": "stream",
          "text": [
            "446\n"
          ],
          "name": "stdout"
        }
      ]
    },
    {
      "cell_type": "code",
      "metadata": {
        "id": "f1bY63pCLeBk",
        "colab": {
          "base_uri": "https://localhost:8080/"
        },
        "outputId": "7f4b2e45-bc27-4606-9584-05fc93e5773e"
      },
      "source": [
        "# Type --> maximal\n",
        "\n",
        "itemsets = apriori(baskets_lists, supp=3, zmin=2, target='m', report='as')\n",
        "print(len(itemsets))\n",
        "itemsets\n",
        "\n",
        "min_sup.append(0.03)\n",
        "types.append(\"maximal\")\n",
        "itemsets_num.append(len(itemsets))"
      ],
      "execution_count": null,
      "outputs": [
        {
          "output_type": "stream",
          "text": [
            "31\n"
          ],
          "name": "stdout"
        }
      ]
    },
    {
      "cell_type": "code",
      "metadata": {
        "id": "X2UUbkjSO15b",
        "colab": {
          "base_uri": "https://localhost:8080/"
        },
        "outputId": "68786a8c-8a75-4a73-f243-c00014322c09"
      },
      "source": [
        "# Type --> closed\n",
        "\n",
        "itemsets = apriori(baskets_lists, supp=3, zmin=2, target='c', report='as')\n",
        "print(len(itemsets))\n",
        "itemsets\n",
        "\n",
        "min_sup.append(0.03)\n",
        "types.append(\"closed\")\n",
        "itemsets_num.append(len(itemsets))"
      ],
      "execution_count": null,
      "outputs": [
        {
          "output_type": "stream",
          "text": [
            "171\n"
          ],
          "name": "stdout"
        }
      ]
    },
    {
      "cell_type": "markdown",
      "metadata": {
        "id": "PKjqj2YnMQwD"
      },
      "source": [
        "## Support 4%"
      ]
    },
    {
      "cell_type": "code",
      "metadata": {
        "id": "XkE3J2TNMW7u",
        "colab": {
          "base_uri": "https://localhost:8080/"
        },
        "outputId": "ca0aa1ab-3b60-44dd-b6d4-2829755a4ae0"
      },
      "source": [
        "# Type --> frequent\n",
        "\n",
        "itemsets = apriori(baskets_lists, supp=4, zmin=2, report='as')\n",
        "print(len(itemsets))\n",
        "itemsets\n",
        "\n",
        "min_sup.append(0.04)\n",
        "types.append(\"frequent\")\n",
        "itemsets_num.append(len(itemsets))"
      ],
      "execution_count": null,
      "outputs": [
        {
          "output_type": "stream",
          "text": [
            "329\n"
          ],
          "name": "stdout"
        }
      ]
    },
    {
      "cell_type": "code",
      "metadata": {
        "id": "P13wlySvMc8F",
        "colab": {
          "base_uri": "https://localhost:8080/"
        },
        "outputId": "061f1237-7d08-4fe0-a717-cb9e0bab5518"
      },
      "source": [
        "# Type --> maximal\n",
        "\n",
        "itemsets = apriori(baskets_lists, supp=4, zmin=2, target = 'm', report='as')\n",
        "print(len(itemsets))\n",
        "itemsets\n",
        "\n",
        "min_sup.append(0.04)\n",
        "types.append(\"maximal\")\n",
        "itemsets_num.append(len(itemsets))"
      ],
      "execution_count": null,
      "outputs": [
        {
          "output_type": "stream",
          "text": [
            "17\n"
          ],
          "name": "stdout"
        }
      ]
    },
    {
      "cell_type": "code",
      "metadata": {
        "id": "7gihq3zmPmu2",
        "colab": {
          "base_uri": "https://localhost:8080/"
        },
        "outputId": "af0d0658-048b-4f4a-8040-84c67555a5bd"
      },
      "source": [
        "# Type --> closed\n",
        "\n",
        "itemsets = apriori(baskets_lists, supp=4, zmin=2, target='c', report='as')\n",
        "print(len(itemsets))\n",
        "itemsets\n",
        "\n",
        "min_sup.append(0.04)\n",
        "types.append(\"closed\")\n",
        "itemsets_num.append(len(itemsets))"
      ],
      "execution_count": null,
      "outputs": [
        {
          "output_type": "stream",
          "text": [
            "127\n"
          ],
          "name": "stdout"
        }
      ]
    },
    {
      "cell_type": "markdown",
      "metadata": {
        "id": "n7yCF1t6MptG"
      },
      "source": [
        "## Support 5%"
      ]
    },
    {
      "cell_type": "code",
      "metadata": {
        "id": "98QYbqpEMrv7",
        "colab": {
          "base_uri": "https://localhost:8080/"
        },
        "outputId": "c7aa7d96-10ff-45d2-d9b8-e84265e772a6"
      },
      "source": [
        "# Type --> frequent\n",
        "\n",
        "itemsets = apriori(baskets_lists, supp=5, zmin=2, report='as')\n",
        "print(len(itemsets))\n",
        "itemsets\n",
        "\n",
        "min_sup.append(0.05)\n",
        "types.append(\"frequent\")\n",
        "itemsets_num.append(len(itemsets))"
      ],
      "execution_count": null,
      "outputs": [
        {
          "output_type": "stream",
          "text": [
            "217\n"
          ],
          "name": "stdout"
        }
      ]
    },
    {
      "cell_type": "code",
      "metadata": {
        "id": "IHFqn_6UMwi_",
        "colab": {
          "base_uri": "https://localhost:8080/"
        },
        "outputId": "e34b5dbc-cd5f-4259-bf17-6bd3e01bbac0"
      },
      "source": [
        "# Type --> maximal\n",
        "\n",
        "itemsets = apriori(baskets_lists, supp=5, zmin=2, target='m', report='as')\n",
        "print(len(itemsets))\n",
        "itemsets\n",
        "\n",
        "min_sup.append(0.05)\n",
        "types.append(\"maximal\")\n",
        "itemsets_num.append(len(itemsets))"
      ],
      "execution_count": null,
      "outputs": [
        {
          "output_type": "stream",
          "text": [
            "16\n"
          ],
          "name": "stdout"
        }
      ]
    },
    {
      "cell_type": "code",
      "metadata": {
        "id": "8ypXJoxnPfxU",
        "colab": {
          "base_uri": "https://localhost:8080/"
        },
        "outputId": "346ab912-d5b0-4f99-a41f-78ee1357d017"
      },
      "source": [
        "# Type --> closed\n",
        "\n",
        "itemsets = apriori(baskets_lists, supp=5, zmin=2, target='c', report='as')\n",
        "print(len(itemsets))\n",
        "itemsets\n",
        "min_sup.append(0.05)\n",
        "types.append(\"closed\")\n",
        "itemsets_num.append(len(itemsets))"
      ],
      "execution_count": null,
      "outputs": [
        {
          "output_type": "stream",
          "text": [
            "104\n"
          ],
          "name": "stdout"
        }
      ]
    },
    {
      "cell_type": "code",
      "metadata": {
        "id": "CYjSHcAWUJhX",
        "colab": {
          "base_uri": "https://localhost:8080/"
        },
        "outputId": "cafe822a-bc64-4397-a328-68f7db9bf558"
      },
      "source": [
        "all_rules = apriori(baskets_lists, supp=5, conf=70, zmin=2, target='r', report='ascl')\n",
        "rules = []\n",
        "conf_list = []\n",
        "lift_list = []\n",
        "\n",
        "for r in all_rules:\n",
        "  conf_list.append(r[4])\n",
        "  lift_list.append(r[5])\n",
        "  if(r[0]=='OC0' or r[0]=='OC1'):\n",
        "    rules.append(r)\n",
        "\n",
        "\n",
        "print(len(all_rules))\n",
        "#rules"
      ],
      "execution_count": null,
      "outputs": [
        {
          "output_type": "stream",
          "text": [
            "492\n"
          ],
          "name": "stdout"
        }
      ]
    },
    {
      "cell_type": "code",
      "metadata": {
        "id": "jb3jzDA9eaGx",
        "colab": {
          "base_uri": "https://localhost:8080/"
        },
        "outputId": "b518cbce-2ec3-4f27-f31a-720611d05394"
      },
      "source": [
        "plt.hist(lift_list, bins='sturges')\n",
        "plt.title(\"Lift\")\n",
        "plt.xlabel(\"Lift value\")\n",
        "plt.ylabel(\"Occurrences\")"
      ],
      "execution_count": null,
      "outputs": [
        {
          "output_type": "execute_result",
          "data": {
            "text/plain": [
              "Text(0, 0.5, 'Occurrences')"
            ]
          },
          "metadata": {
            "tags": []
          },
          "execution_count": 31
        },
        {
          "output_type": "display_data",
          "data": {
            "image/png": "[encoded data removed]",
            "text/plain": [
              "<Figure size 432x288 with 1 Axes>"
            ]
          },
          "metadata": {
            "tags": [],
            "needs_background": "light"
          }
        }
      ]
    },
    {
      "cell_type": "code",
      "metadata": {
        "id": "jEi7z4eAhrx4",
        "colab": {
          "base_uri": "https://localhost:8080/"
        },
        "outputId": "88f7f3f5-f635-4379-b781-6d29c3bcf11d"
      },
      "source": [
        "plt.hist(conf_list, bins='sturges')\n",
        "plt.title(\"Confidence\")\n",
        "plt.xlabel(\"Confidence value\")\n",
        "plt.ylabel(\"Occurrences\")"
      ],
      "execution_count": null,
      "outputs": [
        {
          "output_type": "execute_result",
          "data": {
            "text/plain": [
              "Text(0, 0.5, 'Occurrences')"
            ]
          },
          "metadata": {
            "tags": []
          },
          "execution_count": 32
        },
        {
          "output_type": "display_data",
          "data": {
            "image/png": "[encoded data removed]",
            "text/plain": [
              "<Figure size 432x288 with 1 Axes>"
            ]
          },
          "metadata": {
            "tags": [],
            "needs_background": "light"
          }
        }
      ]
    },
    {
      "cell_type": "code",
      "metadata": {
        "id": "bUysT8HhbNes",
        "colab": {
          "base_uri": "https://localhost:8080/"
        },
        "outputId": "29764d51-1efc-426b-e1ec-b163dd2a31ac"
      },
      "source": [
        "all_rules = apriori(baskets_lists, supp=5, conf=80, zmin=2, target='r', report='ascl')\n",
        "rules = []\n",
        "\n",
        "rules = []\n",
        "conf_list = []\n",
        "lift_list = []\n",
        "\n",
        "for r in all_rules:\n",
        "  conf_list.append(r[4])\n",
        "  lift_list.append(r[5])\n",
        "  if(r[0]=='OC0' or r[0]=='OC1'):\n",
        "    rules.append(r)\n",
        "\n",
        "\n",
        "print(len(all_rules))\n",
        "#rules"
      ],
      "execution_count": null,
      "outputs": [
        {
          "output_type": "stream",
          "text": [
            "450\n"
          ],
          "name": "stdout"
        }
      ]
    },
    {
      "cell_type": "code",
      "metadata": {
        "id": "iChLXSfFhnTk",
        "colab": {
          "base_uri": "https://localhost:8080/"
        },
        "outputId": "b00137ca-3b4b-45ca-d1bd-b06f205a54aa"
      },
      "source": [
        "plt.hist(lift_list, bins='sturges')\n",
        "plt.title(\"Lift\")\n",
        "plt.xlabel(\"Lift value\")\n",
        "plt.ylabel(\"Occurrences\")"
      ],
      "execution_count": null,
      "outputs": [
        {
          "output_type": "execute_result",
          "data": {
            "text/plain": [
              "Text(0, 0.5, 'Occurrences')"
            ]
          },
          "metadata": {
            "tags": []
          },
          "execution_count": 34
        },
        {
          "output_type": "display_data",
          "data": {
            "image/png": "[encoded data removed]",
            "text/plain": [
              "<Figure size 432x288 with 1 Axes>"
            ]
          },
          "metadata": {
            "tags": [],
            "needs_background": "light"
          }
        }
      ]
    },
    {
      "cell_type": "code",
      "metadata": {
        "id": "lG_6z9BEh3mG",
        "colab": {
          "base_uri": "https://localhost:8080/"
        },
        "outputId": "bb3afeb4-409d-4814-8d3b-dcfc5975a74a"
      },
      "source": [
        "plt.hist(conf_list, bins='sturges')\n",
        "plt.title(\"Confidence\")\n",
        "plt.xlabel(\"Confidence value\")\n",
        "plt.ylabel(\"Occurrences\")"
      ],
      "execution_count": null,
      "outputs": [
        {
          "output_type": "execute_result",
          "data": {
            "text/plain": [
              "Text(0, 0.5, 'Occurrences')"
            ]
          },
          "metadata": {
            "tags": []
          },
          "execution_count": 35
        },
        {
          "output_type": "display_data",
          "data": {
            "image/png": "[encoded data removed]",
            "text/plain": [
              "<Figure size 432x288 with 1 Axes>"
            ]
          },
          "metadata": {
            "tags": [],
            "needs_background": "light"
          }
        }
      ]
    },
    {
      "cell_type": "code",
      "metadata": {
        "id": "61GStXTwbSLW",
        "colab": {
          "base_uri": "https://localhost:8080/"
        },
        "outputId": "c8696226-dacc-47d4-9720-689c9131dbe7"
      },
      "source": [
        "all_rules = apriori(baskets_lists, supp=5, conf=85, zmin=2, target='r', report='ascl')\n",
        "rules = []\n",
        "\n",
        "rules = []\n",
        "conf_list = []\n",
        "lift_list = []\n",
        "\n",
        "for r in all_rules:\n",
        "  conf_list.append(r[4])\n",
        "  lift_list.append(r[5])\n",
        "  if(r[0]=='OC0' or r[0]=='OC1'):\n",
        "    rules.append(r)\n",
        "\n",
        "\n",
        "print(len(all_rules))\n",
        "#rules"
      ],
      "execution_count": null,
      "outputs": [
        {
          "output_type": "stream",
          "text": [
            "416\n"
          ],
          "name": "stdout"
        }
      ]
    },
    {
      "cell_type": "code",
      "metadata": {
        "id": "o3Am1VWHjFNM",
        "colab": {
          "base_uri": "https://localhost:8080/"
        },
        "outputId": "bbc0fba8-f4ff-4258-857b-39313a367d34"
      },
      "source": [
        "plt.hist(lift_list, bins='sturges')\n",
        "plt.title(\"Lift\")\n",
        "plt.xlabel(\"Lift value\")\n",
        "plt.ylabel(\"Occurrences\")"
      ],
      "execution_count": null,
      "outputs": [
        {
          "output_type": "execute_result",
          "data": {
            "text/plain": [
              "Text(0, 0.5, 'Occurrences')"
            ]
          },
          "metadata": {
            "tags": []
          },
          "execution_count": 37
        },
        {
          "output_type": "display_data",
          "data": {
            "image/png": "[encoded data removed]",
            "text/plain": [
              "<Figure size 432x288 with 1 Axes>"
            ]
          },
          "metadata": {
            "tags": [],
            "needs_background": "light"
          }
        }
      ]
    },
    {
      "cell_type": "code",
      "metadata": {
        "id": "oDXz-bAGjJeG",
        "colab": {
          "base_uri": "https://localhost:8080/"
        },
        "outputId": "e9d59ce4-aee2-4175-a012-8a5093021d50"
      },
      "source": [
        "plt.hist(conf_list, bins='sturges')\n",
        "plt.title(\"Confidence\")\n",
        "plt.xlabel(\"Confidence value\")\n",
        "plt.ylabel(\"Occurrences\")"
      ],
      "execution_count": null,
      "outputs": [
        {
          "output_type": "execute_result",
          "data": {
            "text/plain": [
              "Text(0, 0.5, 'Occurrences')"
            ]
          },
          "metadata": {
            "tags": []
          },
          "execution_count": 38
        },
        {
          "output_type": "display_data",
          "data": {
            "image/png": "[encoded data removed]",
            "text/plain": [
              "<Figure size 432x288 with 1 Axes>"
            ]
          },
          "metadata": {
            "tags": [],
            "needs_background": "light"
          }
        }
      ]
    },
    {
      "cell_type": "code",
      "metadata": {
        "id": "WsTrmDANbWjA",
        "colab": {
          "base_uri": "https://localhost:8080/"
        },
        "outputId": "55ab45dd-fda8-45b2-8962-7a040fe2533d"
      },
      "source": [
        "all_rules = apriori(baskets_lists, supp=5, conf=90, zmin=2, target='r', report='ascl')\n",
        "rules = []\n",
        "\n",
        "rules = []\n",
        "conf_list = []\n",
        "lift_list = []\n",
        "\n",
        "for r in all_rules:\n",
        "  conf_list.append(r[4])\n",
        "  lift_list.append(r[5])\n",
        "  if(r[0]=='OC0' or r[0]=='OC1'):\n",
        "    rules.append(r)\n",
        "\n",
        "\n",
        "print(len(all_rules))\n",
        "#rules"
      ],
      "execution_count": null,
      "outputs": [
        {
          "output_type": "stream",
          "text": [
            "348\n"
          ],
          "name": "stdout"
        }
      ]
    },
    {
      "cell_type": "code",
      "metadata": {
        "id": "jL_PS2qrjan2",
        "colab": {
          "base_uri": "https://localhost:8080/"
        },
        "outputId": "bb210896-08b2-4383-fdc4-2960c25a8e11"
      },
      "source": [
        "plt.hist(lift_list, bins='sturges')\n",
        "plt.title(\"Lift\")\n",
        "plt.xlabel(\"Lift value\")\n",
        "plt.ylabel(\"Occurrences\")"
      ],
      "execution_count": null,
      "outputs": [
        {
          "output_type": "execute_result",
          "data": {
            "text/plain": [
              "Text(0, 0.5, 'Occurrences')"
            ]
          },
          "metadata": {
            "tags": []
          },
          "execution_count": 40
        },
        {
          "output_type": "display_data",
          "data": {
            "image/png": "[encoded data removed]",
            "text/plain": [
              "<Figure size 432x288 with 1 Axes>"
            ]
          },
          "metadata": {
            "tags": [],
            "needs_background": "light"
          }
        }
      ]
    },
    {
      "cell_type": "code",
      "metadata": {
        "id": "UB1_7CBnjiEK",
        "colab": {
          "base_uri": "https://localhost:8080/"
        },
        "outputId": "4849286b-c142-4b2b-a3f3-d4cb58a62cf6"
      },
      "source": [
        "plt.hist(conf_list, bins='sturges')\n",
        "plt.title(\"Confidence\")\n",
        "plt.xlabel(\"Confidence value\")\n",
        "plt.ylabel(\"Occurrences\")"
      ],
      "execution_count": null,
      "outputs": [
        {
          "output_type": "execute_result",
          "data": {
            "text/plain": [
              "Text(0, 0.5, 'Occurrences')"
            ]
          },
          "metadata": {
            "tags": []
          },
          "execution_count": 41
        },
        {
          "output_type": "display_data",
          "data": {
            "image/png": "[encoded data removed]",
            "text/plain": [
              "<Figure size 432x288 with 1 Axes>"
            ]
          },
          "metadata": {
            "tags": [],
            "needs_background": "light"
          }
        }
      ]
    },
    {
      "cell_type": "code",
      "metadata": {
        "id": "sIqFjZ7QbaXo",
        "colab": {
          "base_uri": "https://localhost:8080/"
        },
        "outputId": "e23734a2-eb7d-4153-c562-9d147ac41583"
      },
      "source": [
        "all_rules = apriori(baskets_lists, supp=5, conf=95, zmin=2, target='r', report='ascl')\n",
        "rules = []\n",
        "\n",
        "rules = []\n",
        "conf_list = []\n",
        "lift_list = []\n",
        "\n",
        "for r in all_rules:\n",
        "  conf_list.append(r[4])\n",
        "  lift_list.append(r[5])\n",
        "  if(r[0]=='OC0' or r[0]=='OC1'):\n",
        "    rules.append(r)\n",
        "\n",
        "\n",
        "print(len(all_rules))\n",
        "#rules"
      ],
      "execution_count": null,
      "outputs": [
        {
          "output_type": "stream",
          "text": [
            "288\n"
          ],
          "name": "stdout"
        }
      ]
    },
    {
      "cell_type": "code",
      "metadata": {
        "id": "u3P5WmlKjusc",
        "colab": {
          "base_uri": "https://localhost:8080/"
        },
        "outputId": "a78d124d-c2be-449a-d20c-766dd28ff2d2"
      },
      "source": [
        "plt.hist(lift_list, bins='sturges')\n",
        "plt.title(\"Lift\")\n",
        "plt.xlabel(\"Lift value\")\n",
        "plt.ylabel(\"Occurrences\")"
      ],
      "execution_count": null,
      "outputs": [
        {
          "output_type": "execute_result",
          "data": {
            "text/plain": [
              "Text(0, 0.5, 'Occurrences')"
            ]
          },
          "metadata": {
            "tags": []
          },
          "execution_count": 43
        },
        {
          "output_type": "display_data",
          "data": {
            "image/png": "[encoded data removed]",
            "text/plain": [
              "<Figure size 432x288 with 1 Axes>"
            ]
          },
          "metadata": {
            "tags": [],
            "needs_background": "light"
          }
        }
      ]
    },
    {
      "cell_type": "code",
      "metadata": {
        "id": "ki7WbJtAjytA",
        "colab": {
          "base_uri": "https://localhost:8080/"
        },
        "outputId": "f6addfc1-ea53-4842-ea51-5f0c857c66e8"
      },
      "source": [
        "plt.hist(conf_list, bins='sturges')\n",
        "plt.title(\"Confidence\")\n",
        "plt.xlabel(\"Confidence value\")\n",
        "plt.ylabel(\"Occurrences\")"
      ],
      "execution_count": null,
      "outputs": [
        {
          "output_type": "execute_result",
          "data": {
            "text/plain": [
              "Text(0, 0.5, 'Occurrences')"
            ]
          },
          "metadata": {
            "tags": []
          },
          "execution_count": 44
        },
        {
          "output_type": "display_data",
          "data": {
            "image/png": "[encoded data removed]",
            "text/plain": [
              "<Figure size 432x288 with 1 Axes>"
            ]
          },
          "metadata": {
            "tags": [],
            "needs_background": "light"
          }
        }
      ]
    },
    {
      "cell_type": "markdown",
      "metadata": {
        "id": "xhIwgBcDM9WI"
      },
      "source": [
        "## Support 6%"
      ]
    },
    {
      "cell_type": "code",
      "metadata": {
        "id": "if_CVFlGM_v_",
        "colab": {
          "base_uri": "https://localhost:8080/",
          "height": 33
        },
        "outputId": "e9d0d101-99a2-41c7-945e-f222ae398744"
      },
      "source": [
        "# Type --> frequent\n",
        "\n",
        "itemsets = apriori(baskets_lists, supp=6, zmin=2, report='as')\n",
        "print(len(itemsets))\n",
        "itemsets\n",
        "\n",
        "min_sup.append(0.06)\n",
        "types.append(\"frequent\")\n",
        "itemsets_num.append(len(itemsets))"
      ],
      "execution_count": null,
      "outputs": [
        {
          "output_type": "stream",
          "text": [
            "158\n"
          ],
          "name": "stdout"
        }
      ]
    },
    {
      "cell_type": "code",
      "metadata": {
        "id": "HcrMQcHNND2p",
        "colab": {
          "base_uri": "https://localhost:8080/",
          "height": 33
        },
        "outputId": "ec525eb3-3e5c-433d-caa6-ccfcbc809bdb"
      },
      "source": [
        "# Type --> maximal\n",
        "\n",
        "itemsets = apriori(baskets_lists, supp=6, zmin=2, target='m', report='as')\n",
        "print(len(itemsets))\n",
        "itemsets\n",
        "min_sup.append(0.06)\n",
        "types.append(\"maximal\")\n",
        "itemsets_num.append(len(itemsets))"
      ],
      "execution_count": null,
      "outputs": [
        {
          "output_type": "stream",
          "text": [
            "14\n"
          ],
          "name": "stdout"
        }
      ]
    },
    {
      "cell_type": "code",
      "metadata": {
        "id": "SIFXzJrYPaL3",
        "colab": {
          "base_uri": "https://localhost:8080/",
          "height": 33
        },
        "outputId": "31de5a1b-04ec-4f7b-ff1a-5ccb2bd0d114"
      },
      "source": [
        "# Type --> closed\n",
        "\n",
        "itemsets = apriori(baskets_lists, supp=6, zmin=2, target='c', report='as')\n",
        "print(len(itemsets))\n",
        "itemsets\n",
        "\n",
        "min_sup.append(0.06)\n",
        "types.append(\"closed\")\n",
        "itemsets_num.append(len(itemsets))"
      ],
      "execution_count": null,
      "outputs": [
        {
          "output_type": "stream",
          "text": [
            "83\n"
          ],
          "name": "stdout"
        }
      ]
    },
    {
      "cell_type": "code",
      "metadata": {
        "id": "42xjKqxHdyuk",
        "colab": {
          "base_uri": "https://localhost:8080/",
          "height": 33
        },
        "outputId": "ecff6581-4869-4394-a3a1-09ead3e499ba"
      },
      "source": [
        "all_rules = apriori(baskets_lists, supp=5, conf=70, zmin=2, target='r', report='ascl')\n",
        "rules = []\n",
        "conf_list = []\n",
        "lift_list = []\n",
        "\n",
        "for r in all_rules:\n",
        "  conf_list.append(r[4])\n",
        "  lift_list.append(r[5])\n",
        "  if(r[0]=='OC0' or r[0]=='OC1'):\n",
        "    rules.append(r)\n",
        "\n",
        "\n",
        "print(len(all_rules))\n",
        "#rules"
      ],
      "execution_count": null,
      "outputs": [
        {
          "output_type": "stream",
          "text": [
            "492\n"
          ],
          "name": "stdout"
        }
      ]
    },
    {
      "cell_type": "code",
      "metadata": {
        "id": "BPn7jBYOg99D",
        "colab": {
          "base_uri": "https://localhost:8080/",
          "height": 241
        },
        "outputId": "4b9228e9-fefb-4e3d-851e-6da8349712c8"
      },
      "source": [
        "f, axes = plt.subplots(1, 2, figsize=(12, 3))\n",
        "ax1 = sns.distplot(conf_list, kde=False, ax=axes[0])\n",
        "ax1.set_xlabel(\"Confidence\")\n",
        "ax1.set_ylabel(\"Occurrences\")\n",
        "\n",
        "ax2 = sns.distplot(lift_list, kde=False, ax=axes[1])\n",
        "ax2.set_xlabel(\"Lift\")\n",
        "ax2.set_ylabel(\"Occurrences\")"
      ],
      "execution_count": null,
      "outputs": [
        {
          "output_type": "execute_result",
          "data": {
            "text/plain": [
              "Text(0, 0.5, 'Occurrences')"
            ]
          },
          "metadata": {
            "tags": []
          },
          "execution_count": 49
        },
        {
          "output_type": "display_data",
          "data": {
            "image/png": "[encoded data removed]",
            "text/plain": [
              "<Figure size 864x216 with 2 Axes>"
            ]
          },
          "metadata": {
            "tags": [],
            "needs_background": "light"
          }
        }
      ]
    },
    {
      "cell_type": "code",
      "metadata": {
        "id": "PBMYqY4md265",
        "colab": {
          "base_uri": "https://localhost:8080/",
          "height": 33
        },
        "outputId": "88b9bcbb-64cd-41ef-8167-820cd6db41fb"
      },
      "source": [
        "all_rules = apriori(baskets_lists, supp=5, conf=75, zmin=2, target='r', report='ascl')\n",
        "rules = []\n",
        "conf_list = []\n",
        "lift_list = []\n",
        "\n",
        "for r in all_rules:\n",
        "  conf_list.append(r[4])\n",
        "  lift_list.append(r[5])\n",
        "  if(r[0]=='OC0' or r[0]=='OC1'):\n",
        "    rules.append(r)\n",
        "\n",
        "\n",
        "print(len(all_rules))\n",
        "#rules"
      ],
      "execution_count": null,
      "outputs": [
        {
          "output_type": "stream",
          "text": [
            "475\n"
          ],
          "name": "stdout"
        }
      ]
    },
    {
      "cell_type": "code",
      "metadata": {
        "id": "FwUAWv5pjgrR",
        "colab": {
          "base_uri": "https://localhost:8080/",
          "height": 243
        },
        "outputId": "e44a58b1-f7f4-407a-a67b-d9655b798f65"
      },
      "source": [
        "f, axes = plt.subplots(1, 2, figsize=(12, 3))\n",
        "ax1 = sns.distplot(conf_list, kde=False, ax=axes[0])\n",
        "ax1.set_xlabel(\"Confidence\")\n",
        "ax1.set_ylabel(\"Occurrences\")\n",
        "\n",
        "ax2 = sns.distplot(lift_list, kde=False, ax=axes[1])\n",
        "ax2.set_xlabel(\"Lift\")\n",
        "ax2.set_ylabel(\"Occurrences\")"
      ],
      "execution_count": null,
      "outputs": [
        {
          "output_type": "execute_result",
          "data": {
            "text/plain": [
              "Text(0, 0.5, 'Occurrences')"
            ]
          },
          "metadata": {
            "tags": []
          },
          "execution_count": 51
        },
        {
          "output_type": "display_data",
          "data": {
            "image/png": "[encoded data removed]",
            "text/plain": [
              "<Figure size 864x216 with 2 Axes>"
            ]
          },
          "metadata": {
            "tags": [],
            "needs_background": "light"
          }
        }
      ]
    },
    {
      "cell_type": "code",
      "metadata": {
        "id": "8K0XjSLweCKN",
        "colab": {
          "base_uri": "https://localhost:8080/",
          "height": 33
        },
        "outputId": "dd07ba58-cd2b-4620-c8db-cdbf448f8662"
      },
      "source": [
        "all_rules = apriori(baskets_lists, supp=5, conf=80, zmin=2, target='r', report='ascl')\n",
        "rules = []\n",
        "conf_list = []\n",
        "lift_list = []\n",
        "\n",
        "for r in all_rules:\n",
        "  conf_list.append(r[4])\n",
        "  lift_list.append(r[5])\n",
        "  if(r[0]=='OC0' or r[0]=='OC1'):\n",
        "    rules.append(r)\n",
        "\n",
        "\n",
        "print(len(all_rules))\n",
        "#rules"
      ],
      "execution_count": null,
      "outputs": [
        {
          "output_type": "stream",
          "text": [
            "450\n"
          ],
          "name": "stdout"
        }
      ]
    },
    {
      "cell_type": "code",
      "metadata": {
        "id": "4u2FXnN9jiIC",
        "colab": {
          "base_uri": "https://localhost:8080/",
          "height": 241
        },
        "outputId": "c71e9993-7806-47c5-81e6-e1f40e4c125b"
      },
      "source": [
        "f, axes = plt.subplots(1, 2, figsize=(12, 3))\n",
        "ax1 = sns.distplot(conf_list, kde=False, ax=axes[0])\n",
        "ax1.set_xlabel(\"Confidence\")\n",
        "ax1.set_ylabel(\"Occurrences\")\n",
        "\n",
        "ax2 = sns.distplot(lift_list, kde=False, ax=axes[1])\n",
        "ax2.set_xlabel(\"Lift\")\n",
        "ax2.set_ylabel(\"Occurrences\")"
      ],
      "execution_count": null,
      "outputs": [
        {
          "output_type": "execute_result",
          "data": {
            "text/plain": [
              "Text(0, 0.5, 'Occurrences')"
            ]
          },
          "metadata": {
            "tags": []
          },
          "execution_count": 53
        },
        {
          "output_type": "display_data",
          "data": {
            "image/png": "[encoded data removed]",
            "text/plain": [
              "<Figure size 864x216 with 2 Axes>"
            ]
          },
          "metadata": {
            "tags": [],
            "needs_background": "light"
          }
        }
      ]
    },
    {
      "cell_type": "code",
      "metadata": {
        "id": "Z-fC7lgseFGK",
        "colab": {
          "base_uri": "https://localhost:8080/",
          "height": 33
        },
        "outputId": "38da8473-9df6-4b6b-b423-214680d5b43d"
      },
      "source": [
        "all_rules = apriori(baskets_lists, supp=5, conf=85, zmin=2, target='r', report='ascl')\n",
        "rules = []\n",
        "conf_list = []\n",
        "lift_list = []\n",
        "\n",
        "for r in all_rules:\n",
        "  conf_list.append(r[4])\n",
        "  lift_list.append(r[5])\n",
        "  if(r[0]=='OC0' or r[0]=='OC1'):\n",
        "    rules.append(r)\n",
        "\n",
        "\n",
        "print(len(all_rules))\n",
        "#rules"
      ],
      "execution_count": null,
      "outputs": [
        {
          "output_type": "stream",
          "text": [
            "416\n"
          ],
          "name": "stdout"
        }
      ]
    },
    {
      "cell_type": "code",
      "metadata": {
        "id": "C0t7IvJOjjsW",
        "colab": {
          "base_uri": "https://localhost:8080/",
          "height": 241
        },
        "outputId": "b3f9d7f5-3d14-441e-aedd-919521aa5365"
      },
      "source": [
        "f, axes = plt.subplots(1, 2, figsize=(12, 3))\n",
        "ax1 = sns.distplot(conf_list, kde=False, ax=axes[0])\n",
        "ax1.set_xlabel(\"Confidence\")\n",
        "ax1.set_ylabel(\"Occurrences\")\n",
        "\n",
        "ax2 = sns.distplot(lift_list, kde=False, ax=axes[1])\n",
        "ax2.set_xlabel(\"Lift\")\n",
        "ax2.set_ylabel(\"Occurrences\")"
      ],
      "execution_count": null,
      "outputs": [
        {
          "output_type": "execute_result",
          "data": {
            "text/plain": [
              "Text(0, 0.5, 'Occurrences')"
            ]
          },
          "metadata": {
            "tags": []
          },
          "execution_count": 55
        },
        {
          "output_type": "display_data",
          "data": {
            "image/png": "[encoded data removed]",
            "text/plain": [
              "<Figure size 864x216 with 2 Axes>"
            ]
          },
          "metadata": {
            "tags": [],
            "needs_background": "light"
          }
        }
      ]
    },
    {
      "cell_type": "code",
      "metadata": {
        "id": "_c9cNJsYfdrh",
        "colab": {
          "base_uri": "https://localhost:8080/",
          "height": 33
        },
        "outputId": "b5ee5e7a-a874-42af-c84c-a318fa77d4a4"
      },
      "source": [
        "all_rules = apriori(baskets_lists, supp=5, conf=90, zmin=2, target='r', report='ascl')\n",
        "rules = []\n",
        "conf_list = []\n",
        "lift_list = []\n",
        "\n",
        "for r in all_rules:\n",
        "  conf_list.append(r[4])\n",
        "  lift_list.append(r[5])\n",
        "  if(r[0]=='OC0' or r[0]=='OC1'):\n",
        "    rules.append(r)\n",
        "\n",
        "\n",
        "print(len(all_rules))\n",
        "#rules"
      ],
      "execution_count": null,
      "outputs": [
        {
          "output_type": "stream",
          "text": [
            "348\n"
          ],
          "name": "stdout"
        }
      ]
    },
    {
      "cell_type": "code",
      "metadata": {
        "id": "IYzlc6l9jlCH",
        "colab": {
          "base_uri": "https://localhost:8080/",
          "height": 241
        },
        "outputId": "e9b70635-0632-44bf-f2e1-fb0495708823"
      },
      "source": [
        "f, axes = plt.subplots(1, 2, figsize=(12, 3))\n",
        "ax1 = sns.distplot(conf_list, kde=False, ax=axes[0])\n",
        "ax1.set_xlabel(\"Confidence\")\n",
        "ax1.set_ylabel(\"Occurrences\")\n",
        "\n",
        "ax2 = sns.distplot(lift_list, kde=False, ax=axes[1])\n",
        "ax2.set_xlabel(\"Lift\")\n",
        "ax2.set_ylabel(\"Occurrences\")"
      ],
      "execution_count": null,
      "outputs": [
        {
          "output_type": "execute_result",
          "data": {
            "text/plain": [
              "Text(0, 0.5, 'Occurrences')"
            ]
          },
          "metadata": {
            "tags": []
          },
          "execution_count": 57
        },
        {
          "output_type": "display_data",
          "data": {
            "image/png": "[encoded data removed]",
            "text/plain": [
              "<Figure size 864x216 with 2 Axes>"
            ]
          },
          "metadata": {
            "tags": [],
            "needs_background": "light"
          }
        }
      ]
    },
    {
      "cell_type": "code",
      "metadata": {
        "id": "YuX583Qgfkqu",
        "colab": {
          "base_uri": "https://localhost:8080/",
          "height": 33
        },
        "outputId": "88652943-a1d6-44e6-80fb-f06e38c7e63b"
      },
      "source": [
        "all_rules = apriori(baskets_lists, supp=5, conf=95, zmin=2, target='r', report='ascl')\n",
        "rules = []\n",
        "conf_list = []\n",
        "lift_list = []\n",
        "\n",
        "for r in all_rules:\n",
        "  conf_list.append(r[4])\n",
        "  lift_list.append(r[5])\n",
        "  if(r[0]=='OC0' or r[0]=='OC1'):\n",
        "    rules.append(r)\n",
        "\n",
        "\n",
        "print(len(all_rules))\n",
        "#rules"
      ],
      "execution_count": null,
      "outputs": [
        {
          "output_type": "stream",
          "text": [
            "288\n"
          ],
          "name": "stdout"
        }
      ]
    },
    {
      "cell_type": "code",
      "metadata": {
        "id": "L6ExZ9q0jmYp",
        "colab": {
          "base_uri": "https://localhost:8080/",
          "height": 241
        },
        "outputId": "90752c14-26d9-4b45-9d27-74240cbfffee"
      },
      "source": [
        "f, axes = plt.subplots(1, 2, figsize=(12, 3))\n",
        "ax1 = sns.distplot(conf_list, kde=False, ax=axes[0])\n",
        "ax1.set_xlabel(\"Confidence\")\n",
        "ax1.set_ylabel(\"Occurrences\")\n",
        "\n",
        "ax2 = sns.distplot(lift_list, kde=False, ax=axes[1])\n",
        "ax2.set_xlabel(\"Lift\")\n",
        "ax2.set_ylabel(\"Occurrences\")"
      ],
      "execution_count": null,
      "outputs": [
        {
          "output_type": "execute_result",
          "data": {
            "text/plain": [
              "Text(0, 0.5, 'Occurrences')"
            ]
          },
          "metadata": {
            "tags": []
          },
          "execution_count": 59
        },
        {
          "output_type": "display_data",
          "data": {
            "image/png": "[encoded data removed]",
            "text/plain": [
              "<Figure size 864x216 with 2 Axes>"
            ]
          },
          "metadata": {
            "tags": [],
            "needs_background": "light"
          }
        }
      ]
    },
    {
      "cell_type": "code",
      "metadata": {
        "id": "DHIq5bhxp6zb",
        "colab": {
          "base_uri": "https://localhost:8080/",
          "height": 1000
        },
        "outputId": "37d97402-0366-4645-8809-309f7135d866"
      },
      "source": [
        "from operator import itemgetter\n",
        "all_rules.sort(key=itemgetter(5), reverse=True)\n",
        "print(len(all_rules))\n",
        "all_rules[:20]"
      ],
      "execution_count": null,
      "outputs": [
        {
          "output_type": "stream",
          "text": [
            "288\n"
          ],
          "name": "stdout"
        },
        {
          "output_type": "execute_result",
          "data": {
            "text/plain": [
              "[('HR9',\n",
              "  ('H11', 'T5', 'C1', 'L1', 'OC0'),\n",
              "  448,\n",
              "  0.0550165786565148,\n",
              "  1.0,\n",
              "  11.004054054054054),\n",
              " ('HR9',\n",
              "  ('H11', 'T5', 'C1', 'L1'),\n",
              "  448,\n",
              "  0.0550165786565148,\n",
              "  1.0,\n",
              "  11.004054054054054),\n",
              " ('HR9',\n",
              "  ('H11', 'T5', 'C1', 'OC0'),\n",
              "  448,\n",
              "  0.0550165786565148,\n",
              "  1.0,\n",
              "  11.004054054054054),\n",
              " ('HR9',\n",
              "  ('H11', 'T5', 'C1'),\n",
              "  448,\n",
              "  0.0550165786565148,\n",
              "  1.0,\n",
              "  11.004054054054054),\n",
              " ('HR9',\n",
              "  ('H11', 'T5', 'L1', 'OC0'),\n",
              "  483,\n",
              "  0.059314748864055016,\n",
              "  1.0,\n",
              "  11.004054054054054),\n",
              " ('HR9',\n",
              "  ('H11', 'T5', 'L1'),\n",
              "  483,\n",
              "  0.059314748864055016,\n",
              "  1.0,\n",
              "  11.004054054054054),\n",
              " ('HR9',\n",
              "  ('H11', 'T5', 'OC0'),\n",
              "  483,\n",
              "  0.059314748864055016,\n",
              "  1.0,\n",
              "  11.004054054054054),\n",
              " ('HR9', ('H11', 'T5'), 483, 0.059314748864055016, 1.0, 11.004054054054054),\n",
              " ('H11',\n",
              "  ('HR9', 'T5', 'L1', 'OC0'),\n",
              "  483,\n",
              "  0.059314748864055016,\n",
              "  0.9679358717434869,\n",
              "  10.665631669292576),\n",
              " ('H11',\n",
              "  ('HR9', 'T5', 'L1'),\n",
              "  483,\n",
              "  0.059314748864055016,\n",
              "  0.9679358717434869,\n",
              "  10.665631669292576),\n",
              " ('H11',\n",
              "  ('HR9', 'C1', 'L1', 'OC0'),\n",
              "  522,\n",
              "  0.06410413852388555,\n",
              "  0.9666666666666667,\n",
              "  10.651646368967073),\n",
              " ('H11',\n",
              "  ('HR9', 'C1', 'L1'),\n",
              "  522,\n",
              "  0.06410413852388555,\n",
              "  0.9666666666666667,\n",
              "  10.651646368967073),\n",
              " ('H11',\n",
              "  ('HR9', 'T5', 'C1', 'L1', 'OC0'),\n",
              "  448,\n",
              "  0.0550165786565148,\n",
              "  0.9655172413793104,\n",
              "  10.638980915496244),\n",
              " ('H11',\n",
              "  ('HR9', 'T5', 'C1', 'L1'),\n",
              "  448,\n",
              "  0.0550165786565148,\n",
              "  0.9655172413793104,\n",
              "  10.638980915496244),\n",
              " ('H11',\n",
              "  ('HR9', 'T5', 'OC0'),\n",
              "  483,\n",
              "  0.059314748864055016,\n",
              "  0.9621513944223108,\n",
              "  10.60189283461553),\n",
              " ('H11',\n",
              "  ('HR9', 'C1', 'OC0'),\n",
              "  522,\n",
              "  0.06410413852388555,\n",
              "  0.9613259668508287,\n",
              "  10.592797494000404),\n",
              " ('H11',\n",
              "  ('HR9', 'T5', 'C1', 'OC0'),\n",
              "  448,\n",
              "  0.0550165786565148,\n",
              "  0.9593147751605996,\n",
              "  10.570636284347446),\n",
              " ('H11',\n",
              "  ('HR9', 'T5'),\n",
              "  483,\n",
              "  0.059314748864055016,\n",
              "  0.9583333333333334,\n",
              "  10.559821831303564),\n",
              " ('H11',\n",
              "  ('HR9', 'C1'),\n",
              "  522,\n",
              "  0.06410413852388555,\n",
              "  0.9577981651376147,\n",
              "  10.553924842646273),\n",
              " ('H11',\n",
              "  ('HR9', 'T5', 'C1'),\n",
              "  448,\n",
              "  0.0550165786565148,\n",
              "  0.9552238805970149,\n",
              "  10.525558944115687)]"
            ]
          },
          "metadata": {
            "tags": []
          },
          "execution_count": 60
        }
      ]
    },
    {
      "cell_type": "code",
      "metadata": {
        "id": "RQel2VQ3yXBT",
        "colab": {
          "base_uri": "https://localhost:8080/",
          "height": 1000
        },
        "outputId": "a9a3c160-8965-4599-dc84-cda754918c11"
      },
      "source": [
        "from operator import itemgetter\n",
        "rules.sort(key=itemgetter(5), reverse=True)\n",
        "print(len(rules))\n",
        "rules"
      ],
      "execution_count": null,
      "outputs": [
        {
          "output_type": "stream",
          "text": [
            "104\n"
          ],
          "name": "stdout"
        },
        {
          "output_type": "execute_result",
          "data": {
            "text/plain": [
              "[('OC1',\n",
              "  ('L5',),\n",
              "  1495,\n",
              "  0.1835932702935036,\n",
              "  0.9676375404530745,\n",
              "  4.557242621115897),\n",
              " ('OC0', ('T6', 'L1'), 502, 0.06164804126243399, 1.0, 1.269566573121297),\n",
              " ('OC0', ('T8', 'L1'), 462, 0.05673584673953089, 1.0, 1.269566573121297),\n",
              " ('OC0', ('T4', 'C1', 'L1'), 586, 0.07196364976053052, 1.0, 1.269566573121297),\n",
              " ('OC0', ('T4', 'C1'), 601, 0.07380572270661918, 1.0, 1.269566573121297),\n",
              " ('OC0', ('T4', 'L1'), 586, 0.07196364976053052, 1.0, 1.269566573121297),\n",
              " ('OC0', ('T3', 'C1', 'L1'), 611, 0.07503377133734496, 1.0, 1.269566573121297),\n",
              " ('OC0', ('T3', 'L1'), 611, 0.07503377133734496, 1.0, 1.269566573121297),\n",
              " ('OC0',\n",
              "  ('H10', 'HR7', 'C1', 'L1'),\n",
              "  625,\n",
              "  0.07675303942036105,\n",
              "  1.0,\n",
              "  1.269566573121297),\n",
              " ('OC0',\n",
              "  ('H10', 'HR7', 'C1'),\n",
              "  641,\n",
              "  0.07871791722952229,\n",
              "  1.0,\n",
              "  1.269566573121297),\n",
              " ('OC0',\n",
              "  ('H10', 'HR7', 'L1'),\n",
              "  625,\n",
              "  0.07675303942036105,\n",
              "  1.0,\n",
              "  1.269566573121297),\n",
              " ('OC0',\n",
              "  ('H10', 'C1', 'L1'),\n",
              "  625,\n",
              "  0.07675303942036105,\n",
              "  1.0,\n",
              "  1.269566573121297),\n",
              " ('OC0', ('H10', 'C1'), 641, 0.07871791722952229, 1.0, 1.269566573121297),\n",
              " ('OC0', ('H10', 'L1'), 625, 0.07675303942036105, 1.0, 1.269566573121297),\n",
              " ('OC0',\n",
              "  ('H8', 'T2', 'HR5', 'C1'),\n",
              "  408,\n",
              "  0.05010438413361169,\n",
              "  1.0,\n",
              "  1.269566573121297),\n",
              " ('OC0',\n",
              "  ('H8', 'T2', 'HR5'),\n",
              "  408,\n",
              "  0.05010438413361169,\n",
              "  1.0,\n",
              "  1.269566573121297),\n",
              " ('OC0', ('H8', 'T2', 'C1'), 408, 0.05010438413361169, 1.0, 1.269566573121297),\n",
              " ('OC0', ('H8', 'T2'), 408, 0.05010438413361169, 1.0, 1.269566573121297),\n",
              " ('OC0',\n",
              "  ('H8', 'HR5', 'C1', 'L1'),\n",
              "  451,\n",
              "  0.05538499324573253,\n",
              "  1.0,\n",
              "  1.269566573121297),\n",
              " ('OC0',\n",
              "  ('H8', 'HR5', 'L1'),\n",
              "  451,\n",
              "  0.05538499324573253,\n",
              "  1.0,\n",
              "  1.269566573121297),\n",
              " ('OC0', ('H8', 'C1', 'L1'), 511, 0.06275328503008719, 1.0, 1.269566573121297),\n",
              " ('OC0', ('H8', 'L1'), 597, 0.07331450325432887, 1.0, 1.269566573121297),\n",
              " ('OC0',\n",
              "  ('H11', 'HR9', 'T5', 'C1', 'L1'),\n",
              "  448,\n",
              "  0.0550165786565148,\n",
              "  1.0,\n",
              "  1.269566573121297),\n",
              " ('OC0',\n",
              "  ('H11', 'HR9', 'T5', 'C1'),\n",
              "  448,\n",
              "  0.0550165786565148,\n",
              "  1.0,\n",
              "  1.269566573121297),\n",
              " ('OC0',\n",
              "  ('H11', 'HR9', 'T5', 'L1'),\n",
              "  483,\n",
              "  0.059314748864055016,\n",
              "  1.0,\n",
              "  1.269566573121297),\n",
              " ('OC0',\n",
              "  ('H11', 'HR9', 'T5'),\n",
              "  483,\n",
              "  0.059314748864055016,\n",
              "  1.0,\n",
              "  1.269566573121297),\n",
              " ('OC0',\n",
              "  ('H11', 'HR9', 'C1', 'L1'),\n",
              "  522,\n",
              "  0.06410413852388555,\n",
              "  1.0,\n",
              "  1.269566573121297),\n",
              " ('OC0',\n",
              "  ('H11', 'HR9', 'C1'),\n",
              "  522,\n",
              "  0.06410413852388555,\n",
              "  1.0,\n",
              "  1.269566573121297),\n",
              " ('OC0',\n",
              "  ('H11', 'HR9', 'L1'),\n",
              "  587,\n",
              "  0.0720864546236031,\n",
              "  1.0,\n",
              "  1.269566573121297),\n",
              " ('OC0',\n",
              "  ('H11', 'T5', 'C1', 'L1'),\n",
              "  448,\n",
              "  0.0550165786565148,\n",
              "  1.0,\n",
              "  1.269566573121297),\n",
              " ('OC0', ('H11', 'T5', 'C1'), 448, 0.0550165786565148, 1.0, 1.269566573121297),\n",
              " ('OC0',\n",
              "  ('H11', 'T5', 'L1'),\n",
              "  483,\n",
              "  0.059314748864055016,\n",
              "  1.0,\n",
              "  1.269566573121297),\n",
              " ('OC0', ('H11', 'T5'), 483, 0.059314748864055016, 1.0, 1.269566573121297),\n",
              " ('OC0',\n",
              "  ('H11', 'C1', 'L1'),\n",
              "  546,\n",
              "  0.06705145523762741,\n",
              "  1.0,\n",
              "  1.269566573121297),\n",
              " ('OC0', ('H11', 'C1'), 546, 0.06705145523762741, 1.0, 1.269566573121297),\n",
              " ('OC0', ('H11', 'L1'), 630, 0.07736706373572394, 1.0, 1.269566573121297),\n",
              " ('OC0',\n",
              "  ('HR9', 'T5', 'C1', 'L1'),\n",
              "  464,\n",
              "  0.05698145646567604,\n",
              "  1.0,\n",
              "  1.269566573121297),\n",
              " ('OC0',\n",
              "  ('HR9', 'T5', 'L1'),\n",
              "  499,\n",
              "  0.06127962667321626,\n",
              "  1.0,\n",
              "  1.269566573121297),\n",
              " ('OC0',\n",
              "  ('HR9', 'C1', 'L1'),\n",
              "  540,\n",
              "  0.06631462605919194,\n",
              "  1.0,\n",
              "  1.269566573121297),\n",
              " ('OC0', ('HR9', 'L1'), 633, 0.07773547832494167, 1.0, 1.269566573121297),\n",
              " ('OC0', ('H3', 'L1'), 416, 0.051086823038192314, 1.0, 1.269566573121297),\n",
              " ('OC0',\n",
              "  ('HR2', 'C1', 'L1'),\n",
              "  555,\n",
              "  0.06815669900528061,\n",
              "  1.0,\n",
              "  1.269566573121297),\n",
              " ('OC0', ('HR2', 'C1'), 734, 0.09013876949527201, 1.0, 1.269566573121297),\n",
              " ('OC0', ('HR2', 'L1'), 641, 0.07871791722952229, 1.0, 1.269566573121297),\n",
              " ('OC0',\n",
              "  ('HR7', 'T2', 'C1'),\n",
              "  411,\n",
              "  0.05047279872282942,\n",
              "  1.0,\n",
              "  1.269566573121297),\n",
              " ('OC0', ('HR7', 'T2'), 411, 0.05047279872282942, 1.0, 1.269566573121297),\n",
              " ('OC0', ('HR7', 'C1', 'L1'), 739, 0.0907527938106349, 1.0, 1.269566573121297),\n",
              " ('OC0', ('HR7', 'C1'), 800, 0.09824389045806214, 1.0, 1.269566573121297),\n",
              " ('OC0', ('HR7', 'L1'), 813, 0.09984035367800564, 1.0, 1.269566573121297),\n",
              " ('OC0',\n",
              "  ('T5', 'C1', 'L1'),\n",
              "  1051,\n",
              "  0.12906791108927915,\n",
              "  1.0,\n",
              "  1.269566573121297),\n",
              " ('OC0', ('T5', 'L1'), 1086, 0.13336608129681934, 1.0, 1.269566573121297),\n",
              " ('OC0',\n",
              "  ('HR1', 'H2', 'C1', 'L1'),\n",
              "  1158,\n",
              "  0.14220803143804495,\n",
              "  1.0,\n",
              "  1.269566573121297),\n",
              " ('OC0', ('HR1', 'H2', 'L1'), 1165, 0.143067665479553, 1.0, 1.269566573121297),\n",
              " ('OC0',\n",
              "  ('HR1', 'C1', 'L1'),\n",
              "  1167,\n",
              "  0.14331327520569814,\n",
              "  1.0,\n",
              "  1.269566573121297),\n",
              " ('OC0', ('HR1', 'L1'), 1174, 0.1441729092472062, 1.0, 1.269566573121297),\n",
              " ('OC0',\n",
              "  ('T2', 'H7', 'HR5', 'C1', 'L1'),\n",
              "  446,\n",
              "  0.054770968930369646,\n",
              "  1.0,\n",
              "  1.269566573121297),\n",
              " ('OC0',\n",
              "  ('T2', 'H7', 'HR5', 'L1'),\n",
              "  446,\n",
              "  0.054770968930369646,\n",
              "  1.0,\n",
              "  1.269566573121297),\n",
              " ('OC0',\n",
              "  ('T2', 'H7', 'C1', 'L1'),\n",
              "  540,\n",
              "  0.06631462605919194,\n",
              "  1.0,\n",
              "  1.269566573121297),\n",
              " ('OC0', ('T2', 'H7', 'L1'), 540, 0.06631462605919194, 1.0, 1.269566573121297),\n",
              " ('OC0',\n",
              "  ('T2', 'HR5', 'C1', 'L1'),\n",
              "  852,\n",
              "  0.10462974333783617,\n",
              "  1.0,\n",
              "  1.269566573121297),\n",
              " ('OC0',\n",
              "  ('T2', 'HR5', 'L1'),\n",
              "  852,\n",
              "  0.10462974333783617,\n",
              "  1.0,\n",
              "  1.269566573121297),\n",
              " ('OC0',\n",
              "  ('T2', 'C1', 'L1'),\n",
              "  1350,\n",
              "  0.16578656514797985,\n",
              "  1.0,\n",
              "  1.269566573121297),\n",
              " ('OC0', ('T2', 'L1'), 1350, 0.16578656514797985, 1.0, 1.269566573121297),\n",
              " ('OC0',\n",
              "  ('H7', 'HR5', 'C1', 'L1'),\n",
              "  645,\n",
              "  0.0792091366818126,\n",
              "  1.0,\n",
              "  1.269566573121297),\n",
              " ('OC0', ('H7', 'HR5', 'L1'), 645, 0.0792091366818126, 1.0, 1.269566573121297),\n",
              " ('OC0', ('H7', 'C1', 'L1'), 890, 0.10929632813459413, 1.0, 1.269566573121297),\n",
              " ('OC0', ('H7', 'L1'), 971, 0.11924352204347292, 1.0, 1.269566573121297),\n",
              " ('OC0',\n",
              "  ('HR5', 'C1', 'L1'),\n",
              "  1358,\n",
              "  0.16676900405256048,\n",
              "  1.0,\n",
              "  1.269566573121297),\n",
              " ('OC0', ('HR5', 'L1'), 1385, 0.17008473535552007, 1.0, 1.269566573121297),\n",
              " ('OC0',\n",
              "  ('H2', 'C1', 'L1'),\n",
              "  1297,\n",
              "  0.15927790740513326,\n",
              "  1.0,\n",
              "  1.269566573121297),\n",
              " ('OC0', ('H2', 'L1'), 1322, 0.1623480289819477, 1.0, 1.269566573121297),\n",
              " ('OC0', ('C1', 'L1'), 5169, 0.634778337222154, 1.0, 1.269566573121297),\n",
              " ('OC0',\n",
              "  ('L1',),\n",
              "  5882,\n",
              "  0.7223382045929019,\n",
              "  0.9998300186979432,\n",
              "  1.2693507705421503),\n",
              " ('OC0',\n",
              "  ('T2', 'C1'),\n",
              "  1366,\n",
              "  0.1677514429571411,\n",
              "  0.997808619430241,\n",
              "  1.2667844696009436),\n",
              " ('OC0',\n",
              "  ('T2',),\n",
              "  1366,\n",
              "  0.1677514429571411,\n",
              "  0.997808619430241,\n",
              "  1.2667844696009436),\n",
              " ('OC0',\n",
              "  ('H7', 'C1'),\n",
              "  926,\n",
              "  0.11371730320520693,\n",
              "  0.9967707212055974,\n",
              "  1.2654667887086342),\n",
              " ('OC0',\n",
              "  ('T2', 'HR5', 'C1'),\n",
              "  854,\n",
              "  0.10487535306398134,\n",
              "  0.9964994165694282,\n",
              "  1.265122349411421),\n",
              " ('OC0',\n",
              "  ('T2', 'HR5'),\n",
              "  854,\n",
              "  0.10487535306398134,\n",
              "  0.9964994165694282,\n",
              "  1.265122349411421),\n",
              " ('OC0',\n",
              "  ('HR9', 'C1'),\n",
              "  543,\n",
              "  0.06668304064840967,\n",
              "  0.9963302752293578,\n",
              "  1.2649076132199346),\n",
              " ('OC0',\n",
              "  ('HR9', 'T5'),\n",
              "  502,\n",
              "  0.06164804126243399,\n",
              "  0.996031746031746,\n",
              "  1.264528610529546),\n",
              " ('OC0',\n",
              "  ('HR9', 'T5', 'C1'),\n",
              "  467,\n",
              "  0.057349871054893774,\n",
              "  0.9957356076759062,\n",
              "  1.2641526431719525),\n",
              " ('OC0',\n",
              "  ('H7', 'HR5', 'C1'),\n",
              "  649,\n",
              "  0.07970035613410291,\n",
              "  0.995398773006135,\n",
              "  1.2637250091345427),\n",
              " ('OC0',\n",
              "  ('H7', 'HR5'),\n",
              "  649,\n",
              "  0.07970035613410291,\n",
              "  0.995398773006135,\n",
              "  1.2637250091345427),\n",
              " ('OC0',\n",
              "  ('H10', 'HR7'),\n",
              "  641,\n",
              "  0.07871791722952229,\n",
              "  0.9953416149068323,\n",
              "  1.2636524431222849),\n",
              " ('OC0',\n",
              "  ('T2', 'H7', 'C1'),\n",
              "  540,\n",
              "  0.06631462605919194,\n",
              "  0.994475138121547,\n",
              "  1.262552393159301),\n",
              " ('OC0',\n",
              "  ('T2', 'H7'),\n",
              "  540,\n",
              "  0.06631462605919194,\n",
              "  0.994475138121547,\n",
              "  1.262552393159301),\n",
              " ('OC0',\n",
              "  ('T2', 'H7', 'HR5', 'C1'),\n",
              "  446,\n",
              "  0.054770968930369646,\n",
              "  0.9933184855233853,\n",
              "  1.261083945683961),\n",
              " ('OC0',\n",
              "  ('T2', 'H7', 'HR5'),\n",
              "  446,\n",
              "  0.054770968930369646,\n",
              "  0.9933184855233853,\n",
              "  1.261083945683961),\n",
              " ('OC0',\n",
              "  ('HR5', 'C1'),\n",
              "  1365,\n",
              "  0.16762863809406853,\n",
              "  0.9927272727272727,\n",
              "  1.260333361680415),\n",
              " ('OC0',\n",
              "  ('C1',),\n",
              "  5627,\n",
              "  0.6910229645093946,\n",
              "  0.9899718508092892,\n",
              "  1.2568351701184974),\n",
              " ('OC0',\n",
              "  ('T3', 'C1'),\n",
              "  619,\n",
              "  0.07601621024192558,\n",
              "  0.9888178913738019,\n",
              "  1.2553701417924648),\n",
              " ('OC0',\n",
              "  ('H8', 'C1'),\n",
              "  543,\n",
              "  0.06668304064840967,\n",
              "  0.9872727272727273,\n",
              "  1.2534084530997534),\n",
              " ('OC0',\n",
              "  ('H2', 'C1'),\n",
              "  1387,\n",
              "  0.17033034508166522,\n",
              "  0.9871886120996441,\n",
              "  1.2533016632877148),\n",
              " ('OC0',\n",
              "  ('HR1', 'C1'),\n",
              "  1327,\n",
              "  0.16296205329731056,\n",
              "  0.9866171003717472,\n",
              "  1.25257609110183),\n",
              " ('OC0',\n",
              "  ('HR1', 'H2', 'C1'),\n",
              "  1242,\n",
              "  0.15252363993614146,\n",
              "  0.9857142857142858,\n",
              "  1.251429907790993),\n",
              " ('OC0',\n",
              "  ('HR1',),\n",
              "  1334,\n",
              "  0.1638216873388186,\n",
              "  0.9852289512555391,\n",
              "  1.2508137433853843),\n",
              " ('OC0',\n",
              "  ('H8', 'HR5', 'C1'),\n",
              "  454,\n",
              "  0.05575340783495027,\n",
              "  0.9848156182212582,\n",
              "  1.2502889895814944),\n",
              " ('OC0',\n",
              "  ('H8', 'HR5'),\n",
              "  454,\n",
              "  0.05575340783495027,\n",
              "  0.9848156182212582,\n",
              "  1.2502889895814944),\n",
              " ('OC0',\n",
              "  ('HR1', 'H2'),\n",
              "  1249,\n",
              "  0.1533832739776495,\n",
              "  0.9842395587076438,\n",
              "  1.2495576436788811),\n",
              " ('OC0',\n",
              "  ('T5', 'C1'),\n",
              "  1086,\n",
              "  0.13336608129681934,\n",
              "  0.9836956521739131,\n",
              "  1.2488671181247544),\n",
              " ('OC0',\n",
              "  ('T3',),\n",
              "  619,\n",
              "  0.07601621024192558,\n",
              "  0.9778830963665087,\n",
              "  1.2414876915672717),\n",
              " ('OC0',\n",
              "  ('T4',),\n",
              "  601,\n",
              "  0.07380572270661918,\n",
              "  0.9772357723577236,\n",
              "  1.2406658706437392),\n",
              " ('OC0',\n",
              "  ('T5',),\n",
              "  1121,\n",
              "  0.13766425150435957,\n",
              "  0.9663793103448276,\n",
              "  1.2268828693698053),\n",
              " ('OC0',\n",
              "  ('HR5',),\n",
              "  1393,\n",
              "  0.1710671742601007,\n",
              "  0.9528043775649795,\n",
              "  1.2096485884801416)]"
            ]
          },
          "metadata": {
            "tags": []
          },
          "execution_count": 61
        }
      ]
    },
    {
      "cell_type": "markdown",
      "metadata": {
        "id": "05EHx8noNN3f"
      },
      "source": [
        "## Support 7%"
      ]
    },
    {
      "cell_type": "code",
      "metadata": {
        "id": "luW2YgrpNQnT",
        "colab": {
          "base_uri": "https://localhost:8080/",
          "height": 33
        },
        "outputId": "b245d4dc-3f70-4bfc-8a98-075155432936"
      },
      "source": [
        "# Type --> frequent\n",
        "\n",
        "itemsets = apriori(baskets_lists, supp=7, zmin=2, report='as')\n",
        "print(len(itemsets))\n",
        "itemsets\n",
        "\n",
        "min_sup.append(0.07)\n",
        "types.append(\"frequent\")\n",
        "itemsets_num.append(len(itemsets))"
      ],
      "execution_count": null,
      "outputs": [
        {
          "output_type": "stream",
          "text": [
            "125\n"
          ],
          "name": "stdout"
        }
      ]
    },
    {
      "cell_type": "code",
      "metadata": {
        "id": "d8S4_oV1NWVI",
        "colab": {
          "base_uri": "https://localhost:8080/",
          "height": 33
        },
        "outputId": "66c7164c-28b8-4c26-e553-1767b6176f5a"
      },
      "source": [
        "# Type --> maximal\n",
        "\n",
        "itemsets = apriori(baskets_lists, supp=7, zmin=2, target='m', report='as')\n",
        "print(len(itemsets))\n",
        "itemsets\n",
        "\n",
        "min_sup.append(0.07)\n",
        "types.append(\"maximal\")\n",
        "itemsets_num.append(len(itemsets))"
      ],
      "execution_count": null,
      "outputs": [
        {
          "output_type": "stream",
          "text": [
            "12\n"
          ],
          "name": "stdout"
        }
      ]
    },
    {
      "cell_type": "code",
      "metadata": {
        "id": "e9_tBVdOPPHm",
        "colab": {
          "base_uri": "https://localhost:8080/",
          "height": 33
        },
        "outputId": "fd7156d2-78f3-4f42-add9-3712413f2847"
      },
      "source": [
        "# Type --> closed\n",
        "\n",
        "itemsets = apriori(baskets_lists, supp=7, zmin=2, target='c', report='as')\n",
        "print(len(itemsets))\n",
        "itemsets\n",
        "\n",
        "min_sup.append(0.07)\n",
        "types.append(\"closed\")\n",
        "itemsets_num.append(len(itemsets))"
      ],
      "execution_count": null,
      "outputs": [
        {
          "output_type": "stream",
          "text": [
            "67\n"
          ],
          "name": "stdout"
        }
      ]
    },
    {
      "cell_type": "markdown",
      "metadata": {
        "id": "OJpUOmJbNgNS"
      },
      "source": [
        "## Support 8%"
      ]
    },
    {
      "cell_type": "code",
      "metadata": {
        "id": "pbyR8Bz-NlxB",
        "colab": {
          "base_uri": "https://localhost:8080/",
          "height": 33
        },
        "outputId": "eeb65165-cc67-4dae-8a27-e13aa0ca67a0"
      },
      "source": [
        "# Type --> frequent\n",
        "\n",
        "itemsets = apriori(baskets_lists, supp=8, zmin=2, report='as')\n",
        "print(len(itemsets))\n",
        "itemsets\n",
        "\n",
        "min_sup.append(0.08)\n",
        "types.append(\"frequent\")\n",
        "itemsets_num.append(len(itemsets))"
      ],
      "execution_count": null,
      "outputs": [
        {
          "output_type": "stream",
          "text": [
            "75\n"
          ],
          "name": "stdout"
        }
      ]
    },
    {
      "cell_type": "code",
      "metadata": {
        "id": "uKbxliYaNvpj",
        "colab": {
          "base_uri": "https://localhost:8080/",
          "height": 33
        },
        "outputId": "fabe9bef-edc2-436d-868f-5e596036e074"
      },
      "source": [
        "# Type --> maximal\n",
        "\n",
        "itemsets = apriori(baskets_lists, supp=8, zmin=2, target='m', report='as')\n",
        "print(len(itemsets))\n",
        "itemsets\n",
        "\n",
        "min_sup.append(0.08)\n",
        "types.append(\"maximal\")\n",
        "itemsets_num.append(len(itemsets))"
      ],
      "execution_count": null,
      "outputs": [
        {
          "output_type": "stream",
          "text": [
            "8\n"
          ],
          "name": "stdout"
        }
      ]
    },
    {
      "cell_type": "code",
      "metadata": {
        "id": "VpA6uVxBPKU7",
        "colab": {
          "base_uri": "https://localhost:8080/",
          "height": 33
        },
        "outputId": "8231d7a2-de57-4ae6-c601-5b7e3d178fdb"
      },
      "source": [
        "# Type --> closed\n",
        "\n",
        "itemsets = apriori(baskets_lists, supp=8, zmin=2, target='c', report='as')\n",
        "print(len(itemsets))\n",
        "itemsets\n",
        "\n",
        "min_sup.append(0.08)\n",
        "types.append(\"closed\")\n",
        "itemsets_num.append(len(itemsets))"
      ],
      "execution_count": null,
      "outputs": [
        {
          "output_type": "stream",
          "text": [
            "48\n"
          ],
          "name": "stdout"
        }
      ]
    },
    {
      "cell_type": "markdown",
      "metadata": {
        "id": "7GZ8XjgQN3bN"
      },
      "source": [
        "## Support 9%"
      ]
    },
    {
      "cell_type": "code",
      "metadata": {
        "id": "5TQE9Z5eN6PT",
        "colab": {
          "base_uri": "https://localhost:8080/"
        },
        "outputId": "706829a8-6fe7-4958-d8e9-39dfff03ac6e"
      },
      "source": [
        "# Type --> frequent\n",
        "\n",
        "itemsets = apriori(baskets_lists, supp=9, zmin=2, report='as')\n",
        "print(len(itemsets))\n",
        "itemsets\n",
        "\n",
        "min_sup.append(0.09)\n",
        "types.append(\"frequent\")\n",
        "itemsets_num.append(len(itemsets))"
      ],
      "execution_count": null,
      "outputs": [
        {
          "output_type": "stream",
          "text": [
            "73\n"
          ],
          "name": "stdout"
        }
      ]
    },
    {
      "cell_type": "code",
      "metadata": {
        "id": "ySt86CrrODeV",
        "colab": {
          "base_uri": "https://localhost:8080/"
        },
        "outputId": "21136cf7-bee5-446b-ad7b-16d1d3078bf0"
      },
      "source": [
        "# Type --> maximal\n",
        "\n",
        "itemsets = apriori(baskets_lists, supp=9, zmin=2, target='m', report='as')\n",
        "print(len(itemsets))\n",
        "itemsets\n",
        "\n",
        "min_sup.append(0.09)\n",
        "types.append(\"maximal\")\n",
        "itemsets_num.append(len(itemsets))"
      ],
      "execution_count": null,
      "outputs": [
        {
          "output_type": "stream",
          "text": [
            "7\n"
          ],
          "name": "stdout"
        }
      ]
    },
    {
      "cell_type": "code",
      "metadata": {
        "id": "gLkqPXnlPCQm",
        "colab": {
          "base_uri": "https://localhost:8080/"
        },
        "outputId": "6f3414b6-fe2c-4e0c-a0d2-c1bf5a485e6d"
      },
      "source": [
        "# Type --> closed\n",
        "\n",
        "itemsets = apriori(baskets_lists, supp=9, zmin=2, target='c', report='as')\n",
        "print(len(itemsets))\n",
        "itemsets\n",
        "\n",
        "min_sup.append(0.09)\n",
        "types.append(\"closed\")\n",
        "itemsets_num.append(len(itemsets))"
      ],
      "execution_count": null,
      "outputs": [
        {
          "output_type": "stream",
          "text": [
            "47\n"
          ],
          "name": "stdout"
        }
      ]
    },
    {
      "cell_type": "markdown",
      "metadata": {
        "id": "Tqp2JMjDONk7"
      },
      "source": [
        "## Support 10%"
      ]
    },
    {
      "cell_type": "code",
      "metadata": {
        "id": "ti_0M0cROPwc",
        "colab": {
          "base_uri": "https://localhost:8080/",
          "height": 33
        },
        "outputId": "6eaa81fc-1988-4244-b2ff-26d07e5cb035"
      },
      "source": [
        "# Type --> frequent\n",
        "\n",
        "itemsets = apriori(baskets_lists, supp=10, zmin=2, report='as')\n",
        "print(len(itemsets))\n",
        "itemsets\n",
        "\n",
        "min_sup.append(0.10)\n",
        "types.append(\"frequent\")\n",
        "itemsets_num.append(len(itemsets))"
      ],
      "execution_count": null,
      "outputs": [
        {
          "output_type": "stream",
          "text": [
            "65\n"
          ],
          "name": "stdout"
        }
      ]
    },
    {
      "cell_type": "code",
      "metadata": {
        "id": "bYbCBRdSOUZ9",
        "colab": {
          "base_uri": "https://localhost:8080/",
          "height": 33
        },
        "outputId": "9d32419e-fdf6-440d-c276-269bfcf10297"
      },
      "source": [
        "# Type --> maximal\n",
        "\n",
        "itemsets = apriori(baskets_lists, supp=10, zmin=2, target='m', report='as')\n",
        "print(len(itemsets))\n",
        "itemsets\n",
        "\n",
        "min_sup.append(0.10)\n",
        "types.append(\"maximal\")\n",
        "itemsets_num.append(len(itemsets))"
      ],
      "execution_count": null,
      "outputs": [
        {
          "output_type": "stream",
          "text": [
            "7\n"
          ],
          "name": "stdout"
        }
      ]
    },
    {
      "cell_type": "code",
      "metadata": {
        "id": "qMBr6joMO9UV",
        "colab": {
          "base_uri": "https://localhost:8080/",
          "height": 33
        },
        "outputId": "c8f12861-0fe2-458e-f860-4418bed08646"
      },
      "source": [
        "# Type --> closed\n",
        "\n",
        "itemsets = apriori(baskets_lists, supp=10, zmin=2, target='c', report='as')\n",
        "print(len(itemsets))\n",
        "itemsets\n",
        "\n",
        "min_sup.append(0.10)\n",
        "types.append(\"closed\")\n",
        "itemsets_num.append(len(itemsets))"
      ],
      "execution_count": null,
      "outputs": [
        {
          "output_type": "stream",
          "text": [
            "43\n"
          ],
          "name": "stdout"
        }
      ]
    },
    {
      "cell_type": "code",
      "metadata": {
        "id": "_ALLGrY6VzkR",
        "colab": {
          "base_uri": "https://localhost:8080/",
          "height": 585
        },
        "outputId": "f25cdfae-e9d9-4121-966e-3d985a1af0cf"
      },
      "source": [
        "table = pd.DataFrame({'min_sup': min_sup,\n",
        "                   'tipo': types,\n",
        "                   'numero itemsets': itemsets_num})\n",
        "\n",
        "print(table.to_latex(index=False))"
      ],
      "execution_count": null,
      "outputs": [
        {
          "output_type": "stream",
          "text": [
            "\\begin{tabular}{rlr}\n",
            "\\toprule\n",
            " min\\_sup &      tipo &  numero itemsets \\\\\n",
            "\\midrule\n",
            "    0.02 &  frequent &              553 \\\\\n",
            "    0.02 &   maximal &               41 \\\\\n",
            "    0.02 &    closed &              239 \\\\\n",
            "    0.03 &  frequent &              446 \\\\\n",
            "    0.03 &   maximal &               31 \\\\\n",
            "    0.03 &    closed &              171 \\\\\n",
            "    0.04 &  frequent &              329 \\\\\n",
            "    0.04 &   maximal &               17 \\\\\n",
            "    0.04 &    closed &              127 \\\\\n",
            "    0.05 &  frequent &              217 \\\\\n",
            "    0.05 &   maximal &               16 \\\\\n",
            "    0.05 &    closed &              104 \\\\\n",
            "    0.06 &  frequent &              158 \\\\\n",
            "    0.06 &   maximal &               14 \\\\\n",
            "    0.06 &    closed &               83 \\\\\n",
            "    0.07 &  frequent &              125 \\\\\n",
            "    0.07 &   maximal &               12 \\\\\n",
            "    0.07 &    closed &               67 \\\\\n",
            "    0.08 &  frequent &               75 \\\\\n",
            "    0.08 &   maximal &                8 \\\\\n",
            "    0.08 &    closed &               48 \\\\\n",
            "    0.09 &  frequent &               73 \\\\\n",
            "    0.09 &   maximal &                7 \\\\\n",
            "    0.09 &    closed &               47 \\\\\n",
            "    0.10 &  frequent &               65 \\\\\n",
            "    0.10 &   maximal &                7 \\\\\n",
            "    0.10 &    closed &               43 \\\\\n",
            "\\bottomrule\n",
            "\\end{tabular}\n",
            "\n"
          ],
          "name": "stdout"
        }
      ]
    },
    {
      "cell_type": "code",
      "metadata": {
        "id": "VARddrDmRToX",
        "colab": {
          "base_uri": "https://localhost:8080/",
          "height": 117
        },
        "outputId": "1383408b-6aee-4b1d-ec42-217604907fcb"
      },
      "source": [
        "# Type --> maximal\n",
        "\n",
        "itemsets = apriori(baskets_lists, supp=15, zmin=2, target='m', report='as')\n",
        "print(len(itemsets))\n",
        "itemsets"
      ],
      "execution_count": null,
      "outputs": [
        {
          "output_type": "stream",
          "text": [
            "5\n"
          ],
          "name": "stdout"
        },
        {
          "output_type": "execute_result",
          "data": {
            "text/plain": [
              "[(('HR1', 'H2', 'C1', 'OC0'), 1242, 0.15252363993614146),\n",
              " (('T2', 'C1', 'L1', 'OC0'), 1350, 0.16578656514797985),\n",
              " (('HR5', 'C1', 'L1', 'OC0'), 1358, 0.16676900405256048),\n",
              " (('H2', 'C1', 'L1', 'OC0'), 1297, 0.15927790740513326),\n",
              " (('L5', 'OC1'), 1495, 0.1835932702935036)]"
            ]
          },
          "metadata": {
            "tags": []
          },
          "execution_count": 75
        }
      ]
    },
    {
      "cell_type": "code",
      "metadata": {
        "id": "HIi_qJm3UEw4",
        "colab": {
          "base_uri": "https://localhost:8080/",
          "height": 33
        },
        "outputId": "48ae2d33-88f8-43b9-aa9e-9cdc0e149210"
      },
      "source": [
        "all_rules = apriori(baskets_lists, supp=10, conf=70, zmin=2, target='r', report='ascl')\n",
        "rules = []\n",
        "\n",
        "rules = []\n",
        "conf_list = []\n",
        "lift_list = []\n",
        "\n",
        "for r in all_rules:\n",
        "  conf_list.append(r[4])\n",
        "  lift_list.append(r[5])\n",
        "  if(r[0]=='OC0' or r[0]=='OC1'):\n",
        "    rules.append(r)\n",
        "\n",
        "\n",
        "print(len(all_rules))\n",
        "#rules"
      ],
      "execution_count": null,
      "outputs": [
        {
          "output_type": "stream",
          "text": [
            "136\n"
          ],
          "name": "stdout"
        }
      ]
    },
    {
      "cell_type": "code",
      "metadata": {
        "id": "PT-mfKp_kHaG",
        "colab": {
          "base_uri": "https://localhost:8080/",
          "height": 312
        },
        "outputId": "50a3c989-2dbd-4680-f435-9dc3299f21eb"
      },
      "source": [
        "plt.hist(lift_list, bins='sturges')\n",
        "plt.title(\"Lift\")\n",
        "plt.xlabel(\"Lift value\")\n",
        "plt.ylabel(\"Occurrences\")"
      ],
      "execution_count": null,
      "outputs": [
        {
          "output_type": "execute_result",
          "data": {
            "text/plain": [
              "Text(0, 0.5, 'Occurrences')"
            ]
          },
          "metadata": {
            "tags": []
          },
          "execution_count": 77
        },
        {
          "output_type": "display_data",
          "data": {
            "image/png": "[encoded data removed]",
            "text/plain": [
              "<Figure size 432x288 with 1 Axes>"
            ]
          },
          "metadata": {
            "tags": [],
            "needs_background": "light"
          }
        }
      ]
    },
    {
      "cell_type": "code",
      "metadata": {
        "id": "GQ-ROltwkmVE",
        "colab": {
          "base_uri": "https://localhost:8080/",
          "height": 312
        },
        "outputId": "d3eb75e0-1d9c-42a6-eb25-6c8159ec62f7"
      },
      "source": [
        "plt.hist(conf_list, bins='sturges')\n",
        "plt.title(\"Confidence\")\n",
        "plt.xlabel(\"Confidence value\")\n",
        "plt.ylabel(\"Occurrences\")"
      ],
      "execution_count": null,
      "outputs": [
        {
          "output_type": "execute_result",
          "data": {
            "text/plain": [
              "Text(0, 0.5, 'Occurrences')"
            ]
          },
          "metadata": {
            "tags": []
          },
          "execution_count": 78
        },
        {
          "output_type": "display_data",
          "data": {
            "image/png": "[encoded data removed]",
            "text/plain": [
              "<Figure size 432x288 with 1 Axes>"
            ]
          },
          "metadata": {
            "tags": [],
            "needs_background": "light"
          }
        }
      ]
    },
    {
      "cell_type": "code",
      "metadata": {
        "id": "vDU8CVhcbqHV",
        "colab": {
          "base_uri": "https://localhost:8080/",
          "height": 33
        },
        "outputId": "eda93fb7-2750-4bf3-e927-98e6a853b8ed"
      },
      "source": [
        "all_rules = apriori(baskets_lists, supp=10, conf=80, zmin=2, target='r', report='ascl')\n",
        "rules = []\n",
        "\n",
        "rules = []\n",
        "conf_list = []\n",
        "lift_list = []\n",
        "\n",
        "for r in all_rules:\n",
        "  conf_list.append(r[4])\n",
        "  lift_list.append(r[5])\n",
        "  if(r[0]=='OC0' or r[0]=='OC1'):\n",
        "    rules.append(r)\n",
        "\n",
        "\n",
        "print(len(all_rules))\n",
        "#rules"
      ],
      "execution_count": null,
      "outputs": [
        {
          "output_type": "stream",
          "text": [
            "125\n"
          ],
          "name": "stdout"
        }
      ]
    },
    {
      "cell_type": "code",
      "metadata": {
        "id": "puAHHHwvkcv1",
        "colab": {
          "base_uri": "https://localhost:8080/",
          "height": 312
        },
        "outputId": "a6703216-6c05-488a-b779-80bbf3089972"
      },
      "source": [
        "plt.hist(lift_list, bins='sturges')\n",
        "plt.title(\"Lift\")\n",
        "plt.xlabel(\"Lift value\")\n",
        "plt.ylabel(\"Occurrences\")"
      ],
      "execution_count": null,
      "outputs": [
        {
          "output_type": "execute_result",
          "data": {
            "text/plain": [
              "Text(0, 0.5, 'Occurrences')"
            ]
          },
          "metadata": {
            "tags": []
          },
          "execution_count": 80
        },
        {
          "output_type": "display_data",
          "data": {
            "image/png": "[encoded data removed]",
            "text/plain": [
              "<Figure size 432x288 with 1 Axes>"
            ]
          },
          "metadata": {
            "tags": [],
            "needs_background": "light"
          }
        }
      ]
    },
    {
      "cell_type": "code",
      "metadata": {
        "id": "2fUG0e4kkntX",
        "colab": {
          "base_uri": "https://localhost:8080/",
          "height": 312
        },
        "outputId": "bdb18c70-4d8c-4ab0-d914-27b64ed9dd23"
      },
      "source": [
        "plt.hist(conf_list, bins='sturges')\n",
        "plt.title(\"Confidence\")\n",
        "plt.xlabel(\"Confidence value\")\n",
        "plt.ylabel(\"Occurrences\")"
      ],
      "execution_count": null,
      "outputs": [
        {
          "output_type": "execute_result",
          "data": {
            "text/plain": [
              "Text(0, 0.5, 'Occurrences')"
            ]
          },
          "metadata": {
            "tags": []
          },
          "execution_count": 81
        },
        {
          "output_type": "display_data",
          "data": {
            "image/png": "[encoded data removed]",
            "text/plain": [
              "<Figure size 432x288 with 1 Axes>"
            ]
          },
          "metadata": {
            "tags": [],
            "needs_background": "light"
          }
        }
      ]
    },
    {
      "cell_type": "code",
      "metadata": {
        "id": "e-nsjOhJbzTu",
        "colab": {
          "base_uri": "https://localhost:8080/",
          "height": 33
        },
        "outputId": "0573afc8-9a40-445c-dcae-7a4e219c9a85"
      },
      "source": [
        "all_rules = apriori(baskets_lists, supp=10, conf=85, zmin=2, target='r', report='ascl')\n",
        "rules = []\n",
        "\n",
        "rules = []\n",
        "conf_list = []\n",
        "lift_list = []\n",
        "\n",
        "for r in all_rules:\n",
        "  conf_list.append(r[4])\n",
        "  lift_list.append(r[5])\n",
        "  if(r[0]=='OC0' or r[0]=='OC1'):\n",
        "    rules.append(r)\n",
        "\n",
        "\n",
        "print(len(all_rules))\n",
        "#rules"
      ],
      "execution_count": null,
      "outputs": [
        {
          "output_type": "stream",
          "text": [
            "123\n"
          ],
          "name": "stdout"
        }
      ]
    },
    {
      "cell_type": "code",
      "metadata": {
        "id": "M23G2S6ekeTM",
        "colab": {
          "base_uri": "https://localhost:8080/",
          "height": 312
        },
        "outputId": "6bff1f2f-d9b1-4d49-ee08-b9a2bebdadb6"
      },
      "source": [
        "plt.hist(lift_list, bins='sturges')\n",
        "plt.title(\"Lift\")\n",
        "plt.xlabel(\"Lift value\")\n",
        "plt.ylabel(\"Occurrences\")"
      ],
      "execution_count": null,
      "outputs": [
        {
          "output_type": "execute_result",
          "data": {
            "text/plain": [
              "Text(0, 0.5, 'Occurrences')"
            ]
          },
          "metadata": {
            "tags": []
          },
          "execution_count": 83
        },
        {
          "output_type": "display_data",
          "data": {
            "image/png": "[encoded data removed]",
            "text/plain": [
              "<Figure size 432x288 with 1 Axes>"
            ]
          },
          "metadata": {
            "tags": [],
            "needs_background": "light"
          }
        }
      ]
    },
    {
      "cell_type": "code",
      "metadata": {
        "id": "fMoauJURkpLw",
        "colab": {
          "base_uri": "https://localhost:8080/",
          "height": 312
        },
        "outputId": "4364f00a-9507-471b-8209-58a59a4634e5"
      },
      "source": [
        "plt.hist(conf_list, bins='sturges')\n",
        "plt.title(\"Confidence\")\n",
        "plt.xlabel(\"Confidence value\")\n",
        "plt.ylabel(\"Occurrences\")"
      ],
      "execution_count": null,
      "outputs": [
        {
          "output_type": "execute_result",
          "data": {
            "text/plain": [
              "Text(0, 0.5, 'Occurrences')"
            ]
          },
          "metadata": {
            "tags": []
          },
          "execution_count": 84
        },
        {
          "output_type": "display_data",
          "data": {
            "image/png": "[encoded data removed]",
            "text/plain": [
              "<Figure size 432x288 with 1 Axes>"
            ]
          },
          "metadata": {
            "tags": [],
            "needs_background": "light"
          }
        }
      ]
    },
    {
      "cell_type": "code",
      "metadata": {
        "id": "xTEa_BfvcCP8",
        "colab": {
          "base_uri": "https://localhost:8080/",
          "height": 33
        },
        "outputId": "4d799374-15b8-4c1d-a55e-52a1426d658e"
      },
      "source": [
        "all_rules = apriori(baskets_lists, supp=10, conf=90, zmin=2, target='r', report='ascl')\n",
        "rules = []\n",
        "\n",
        "rules = []\n",
        "conf_list = []\n",
        "lift_list = []\n",
        "\n",
        "for r in all_rules:\n",
        "  conf_list.append(r[4])\n",
        "  lift_list.append(r[5])\n",
        "  if(r[0]=='OC0' or r[0]=='OC1'):\n",
        "    rules.append(r)\n",
        "\n",
        "\n",
        "print(len(all_rules))\n",
        "#rules"
      ],
      "execution_count": null,
      "outputs": [
        {
          "output_type": "stream",
          "text": [
            "102\n"
          ],
          "name": "stdout"
        }
      ]
    },
    {
      "cell_type": "code",
      "metadata": {
        "id": "hVE4xLuYkfk5",
        "colab": {
          "base_uri": "https://localhost:8080/",
          "height": 312
        },
        "outputId": "a95fc5e5-085d-470a-d7ad-0823eb76d442"
      },
      "source": [
        "plt.hist(lift_list, bins='sturges')\n",
        "plt.title(\"Lift\")\n",
        "plt.xlabel(\"Lift value\")\n",
        "plt.ylabel(\"Occurrences\")"
      ],
      "execution_count": null,
      "outputs": [
        {
          "output_type": "execute_result",
          "data": {
            "text/plain": [
              "Text(0, 0.5, 'Occurrences')"
            ]
          },
          "metadata": {
            "tags": []
          },
          "execution_count": 86
        },
        {
          "output_type": "display_data",
          "data": {
            "image/png": "[encoded data removed]",
            "text/plain": [
              "<Figure size 432x288 with 1 Axes>"
            ]
          },
          "metadata": {
            "tags": [],
            "needs_background": "light"
          }
        }
      ]
    },
    {
      "cell_type": "code",
      "metadata": {
        "id": "iPK6DTqfksUK",
        "colab": {
          "base_uri": "https://localhost:8080/",
          "height": 312
        },
        "outputId": "0a221a33-a583-40e1-ada7-0a4c646c170c"
      },
      "source": [
        "plt.hist(conf_list, bins='sturges')\n",
        "plt.title(\"Confidence\")\n",
        "plt.xlabel(\"Confidence value\")\n",
        "plt.ylabel(\"Occurrences\")"
      ],
      "execution_count": null,
      "outputs": [
        {
          "output_type": "execute_result",
          "data": {
            "text/plain": [
              "Text(0, 0.5, 'Occurrences')"
            ]
          },
          "metadata": {
            "tags": []
          },
          "execution_count": 87
        },
        {
          "output_type": "display_data",
          "data": {
            "image/png": "[encoded data removed]",
            "text/plain": [
              "<Figure size 432x288 with 1 Axes>"
            ]
          },
          "metadata": {
            "tags": [],
            "needs_background": "light"
          }
        }
      ]
    },
    {
      "cell_type": "code",
      "metadata": {
        "id": "webTCjoYcHmN",
        "colab": {
          "base_uri": "https://localhost:8080/",
          "height": 1000
        },
        "outputId": "155ada78-16cd-4e12-f972-e36a4df25188"
      },
      "source": [
        "all_rules = apriori(baskets_lists, supp=10, conf=95, zmin=2, target='r', report='ascl')\n",
        "\n",
        "rules = []\n",
        "conf_list = []\n",
        "lift_list = []\n",
        "\n",
        "for r in all_rules:\n",
        "  conf_list.append(r[4])\n",
        "  lift_list.append(r[5])\n",
        "  if(r[0]=='OC0' or r[0]=='OC1'):\n",
        "    rules.append(r)\n",
        "\n",
        "\n",
        "print(len(all_rules))\n",
        "all_rules"
      ],
      "execution_count": null,
      "outputs": [
        {
          "output_type": "stream",
          "text": [
            "80\n"
          ],
          "name": "stdout"
        },
        {
          "output_type": "execute_result",
          "data": {
            "text/plain": [
              "[('OC0',\n",
              "  ('T5', 'C1', 'L1'),\n",
              "  1051,\n",
              "  0.12906791108927915,\n",
              "  1.0,\n",
              "  1.269566573121297),\n",
              " ('L1',\n",
              "  ('T5', 'C1', 'OC0'),\n",
              "  1051,\n",
              "  0.12906791108927915,\n",
              "  0.9677716390423573,\n",
              "  1.339548607295923),\n",
              " ('C1',\n",
              "  ('T5', 'L1', 'OC0'),\n",
              "  1051,\n",
              "  0.12906791108927915,\n",
              "  0.9677716390423573,\n",
              "  1.3864469487547353),\n",
              " ('L1',\n",
              "  ('T5', 'C1'),\n",
              "  1051,\n",
              "  0.12906791108927915,\n",
              "  0.9519927536231884,\n",
              "  1.31770814087262),\n",
              " ('C1',\n",
              "  ('T5', 'L1'),\n",
              "  1051,\n",
              "  0.12906791108927915,\n",
              "  0.9677716390423573,\n",
              "  1.3864469487547353),\n",
              " ('OC0',\n",
              "  ('T5', 'C1'),\n",
              "  1086,\n",
              "  0.13336608129681934,\n",
              "  0.9836956521739131,\n",
              "  1.2488671181247544),\n",
              " ('C1',\n",
              "  ('T5', 'OC0'),\n",
              "  1086,\n",
              "  0.13336608129681934,\n",
              "  0.9687778768956289,\n",
              "  1.3878885030895682),\n",
              " ('C1',\n",
              "  ('T5',),\n",
              "  1104,\n",
              "  0.13557656883212577,\n",
              "  0.9517241379310345,\n",
              "  1.3634570118178069),\n",
              " ('OC0', ('T5', 'L1'), 1086, 0.13336608129681934, 1.0, 1.269566573121297),\n",
              " ('L1',\n",
              "  ('T5', 'OC0'),\n",
              "  1086,\n",
              "  0.13336608129681934,\n",
              "  0.9687778768956289,\n",
              "  1.3409413992114747),\n",
              " ('OC0',\n",
              "  ('T5',),\n",
              "  1121,\n",
              "  0.13766425150435957,\n",
              "  0.9663793103448276,\n",
              "  1.2268828693698053),\n",
              " ('OC0',\n",
              "  ('HR1', 'H2', 'C1', 'L1'),\n",
              "  1158,\n",
              "  0.14220803143804495,\n",
              "  1.0,\n",
              "  1.269566573121297),\n",
              " ('C1',\n",
              "  ('HR1', 'H2', 'L1', 'OC0'),\n",
              "  1158,\n",
              "  0.14220803143804495,\n",
              "  0.9939914163090129,\n",
              "  1.4240098703385453),\n",
              " ('H2',\n",
              "  ('HR1', 'C1', 'L1', 'OC0'),\n",
              "  1158,\n",
              "  0.14220803143804495,\n",
              "  0.9922879177377892,\n",
              "  5.30893594884285),\n",
              " ('C1',\n",
              "  ('HR1', 'H2', 'L1'),\n",
              "  1158,\n",
              "  0.14220803143804495,\n",
              "  0.9939914163090129,\n",
              "  1.4240098703385453),\n",
              " ('H2',\n",
              "  ('HR1', 'C1', 'L1'),\n",
              "  1158,\n",
              "  0.14220803143804495,\n",
              "  0.9922879177377892,\n",
              "  5.30893594884285),\n",
              " ('OC0',\n",
              "  ('HR1', 'H2', 'C1'),\n",
              "  1242,\n",
              "  0.15252363993614146,\n",
              "  0.9857142857142858,\n",
              "  1.251429907790993),\n",
              " ('C1',\n",
              "  ('HR1', 'H2', 'OC0'),\n",
              "  1242,\n",
              "  0.15252363993614146,\n",
              "  0.9943955164131305,\n",
              "  1.424588791370887),\n",
              " ('C1',\n",
              "  ('HR1', 'H2'),\n",
              "  1260,\n",
              "  0.15473412747144788,\n",
              "  0.9929078014184397,\n",
              "  1.42245746427698),\n",
              " ('OC0', ('HR1', 'H2', 'L1'), 1165, 0.143067665479553, 1.0, 1.269566573121297),\n",
              " ('H2',\n",
              "  ('HR1', 'L1', 'OC0'),\n",
              "  1165,\n",
              "  0.143067665479553,\n",
              "  0.9923339011925043,\n",
              "  5.309181969389331),\n",
              " ('H2',\n",
              "  ('HR1', 'L1'),\n",
              "  1165,\n",
              "  0.143067665479553,\n",
              "  0.9923339011925043,\n",
              "  5.309181969389331),\n",
              " ('OC0',\n",
              "  ('HR1', 'H2'),\n",
              "  1249,\n",
              "  0.1533832739776495,\n",
              "  0.9842395587076438,\n",
              "  1.2495576436788811),\n",
              " ('OC0',\n",
              "  ('HR1', 'C1', 'L1'),\n",
              "  1167,\n",
              "  0.14331327520569814,\n",
              "  1.0,\n",
              "  1.269566573121297),\n",
              " ('C1',\n",
              "  ('HR1', 'L1', 'OC0'),\n",
              "  1167,\n",
              "  0.14331327520569814,\n",
              "  0.9940374787052811,\n",
              "  1.4240758601507923),\n",
              " ('C1',\n",
              "  ('HR1', 'L1'),\n",
              "  1167,\n",
              "  0.14331327520569814,\n",
              "  0.9940374787052811,\n",
              "  1.4240758601507923),\n",
              " ('OC0',\n",
              "  ('HR1', 'C1'),\n",
              "  1327,\n",
              "  0.16296205329731056,\n",
              "  0.9866171003717472,\n",
              "  1.25257609110183),\n",
              " ('C1',\n",
              "  ('HR1', 'OC0'),\n",
              "  1327,\n",
              "  0.16296205329731056,\n",
              "  0.9947526236881559,\n",
              "  1.4251003896362866),\n",
              " ('C1',\n",
              "  ('HR1',),\n",
              "  1345,\n",
              "  0.16517254083261698,\n",
              "  0.9933530280649926,\n",
              "  1.4230953039291405),\n",
              " ('OC0', ('HR1', 'L1'), 1174, 0.1441729092472062, 1.0, 1.269566573121297),\n",
              " ('OC0',\n",
              "  ('HR1',),\n",
              "  1334,\n",
              "  0.1638216873388186,\n",
              "  0.9852289512555391,\n",
              "  1.2508137433853843),\n",
              " ('OC0',\n",
              "  ('T2', 'HR5', 'C1', 'L1'),\n",
              "  852,\n",
              "  0.10462974333783617,\n",
              "  1.0,\n",
              "  1.269566573121297),\n",
              " ('L1',\n",
              "  ('T2', 'HR5', 'C1', 'OC0'),\n",
              "  852,\n",
              "  0.10462974333783617,\n",
              "  0.9976580796252927,\n",
              "  1.3809161554289917),\n",
              " ('C1',\n",
              "  ('T2', 'HR5', 'L1', 'OC0'),\n",
              "  852,\n",
              "  0.10462974333783617,\n",
              "  1.0,\n",
              "  1.4326178747361014),\n",
              " ('L1',\n",
              "  ('T2', 'HR5', 'C1'),\n",
              "  852,\n",
              "  0.10462974333783617,\n",
              "  0.9941656942823804,\n",
              "  1.3760821432162882),\n",
              " ('C1',\n",
              "  ('T2', 'HR5', 'L1'),\n",
              "  852,\n",
              "  0.10462974333783617,\n",
              "  1.0,\n",
              "  1.4326178747361014),\n",
              " ('OC0',\n",
              "  ('T2', 'HR5', 'C1'),\n",
              "  854,\n",
              "  0.10487535306398134,\n",
              "  0.9964994165694282,\n",
              "  1.265122349411421),\n",
              " ('C1',\n",
              "  ('T2', 'HR5', 'OC0'),\n",
              "  854,\n",
              "  0.10487535306398134,\n",
              "  1.0,\n",
              "  1.4326178747361014),\n",
              " ('C1', ('T2', 'HR5'), 857, 0.10524376765319907, 1.0, 1.4326178747361014),\n",
              " ('OC0',\n",
              "  ('T2', 'HR5', 'L1'),\n",
              "  852,\n",
              "  0.10462974333783617,\n",
              "  1.0,\n",
              "  1.269566573121297),\n",
              " ('L1',\n",
              "  ('T2', 'HR5', 'OC0'),\n",
              "  852,\n",
              "  0.10462974333783617,\n",
              "  0.9976580796252927,\n",
              "  1.3809161554289917),\n",
              " ('L1',\n",
              "  ('T2', 'HR5'),\n",
              "  852,\n",
              "  0.10462974333783617,\n",
              "  0.9941656942823804,\n",
              "  1.3760821432162882),\n",
              " ('OC0',\n",
              "  ('T2', 'HR5'),\n",
              "  854,\n",
              "  0.10487535306398134,\n",
              "  0.9964994165694282,\n",
              "  1.265122349411421),\n",
              " ('OC0',\n",
              "  ('T2', 'C1', 'L1'),\n",
              "  1350,\n",
              "  0.16578656514797985,\n",
              "  1.0,\n",
              "  1.269566573121297),\n",
              " ('L1',\n",
              "  ('T2', 'C1', 'OC0'),\n",
              "  1350,\n",
              "  0.16578656514797985,\n",
              "  0.9882869692532943,\n",
              "  1.3679450604503782),\n",
              " ('C1',\n",
              "  ('T2', 'L1', 'OC0'),\n",
              "  1350,\n",
              "  0.16578656514797985,\n",
              "  1.0,\n",
              "  1.4326178747361014),\n",
              " ('L1',\n",
              "  ('T2', 'C1'),\n",
              "  1350,\n",
              "  0.16578656514797985,\n",
              "  0.9861212563915267,\n",
              "  1.3649473722244096),\n",
              " ('C1', ('T2', 'L1'), 1350, 0.16578656514797985, 1.0, 1.4326178747361014),\n",
              " ('OC0',\n",
              "  ('T2', 'C1'),\n",
              "  1366,\n",
              "  0.1677514429571411,\n",
              "  0.997808619430241,\n",
              "  1.2667844696009436),\n",
              " ('C1', ('T2', 'OC0'), 1366, 0.1677514429571411, 1.0, 1.4326178747361014),\n",
              " ('C1', ('T2',), 1369, 0.16811985754635883, 1.0, 1.4326178747361014),\n",
              " ('OC0', ('T2', 'L1'), 1350, 0.16578656514797985, 1.0, 1.269566573121297),\n",
              " ('L1',\n",
              "  ('T2', 'OC0'),\n",
              "  1350,\n",
              "  0.16578656514797985,\n",
              "  0.9882869692532943,\n",
              "  1.3679450604503782),\n",
              " ('L1',\n",
              "  ('T2',),\n",
              "  1350,\n",
              "  0.16578656514797985,\n",
              "  0.9861212563915267,\n",
              "  1.3649473722244096),\n",
              " ('OC0',\n",
              "  ('T2',),\n",
              "  1366,\n",
              "  0.1677514429571411,\n",
              "  0.997808619430241,\n",
              "  1.2667844696009436),\n",
              " ('OC0', ('H7', 'C1', 'L1'), 890, 0.10929632813459413, 1.0, 1.269566573121297),\n",
              " ('L1',\n",
              "  ('H7', 'C1', 'OC0'),\n",
              "  890,\n",
              "  0.10929632813459413,\n",
              "  0.9611231101511879,\n",
              "  1.33034599455399),\n",
              " ('L1',\n",
              "  ('H7', 'C1'),\n",
              "  890,\n",
              "  0.10929632813459413,\n",
              "  0.9580193756727664,\n",
              "  1.3260499364445584),\n",
              " ('OC0',\n",
              "  ('H7', 'C1'),\n",
              "  926,\n",
              "  0.11371730320520693,\n",
              "  0.9967707212055974,\n",
              "  1.2654667887086342),\n",
              " ('OC0', ('H7', 'L1'), 971, 0.11924352204347292, 1.0, 1.269566573121297),\n",
              " ('OC0',\n",
              "  ('HR5', 'C1', 'L1'),\n",
              "  1358,\n",
              "  0.16676900405256048,\n",
              "  1.0,\n",
              "  1.269566573121297),\n",
              " ('L1',\n",
              "  ('HR5', 'C1', 'OC0'),\n",
              "  1358,\n",
              "  0.16676900405256048,\n",
              "  0.9948717948717949,\n",
              "  1.3770594978142148),\n",
              " ('C1',\n",
              "  ('HR5', 'L1', 'OC0'),\n",
              "  1358,\n",
              "  0.16676900405256048,\n",
              "  0.9805054151624548,\n",
              "  1.4046895840372748),\n",
              " ('L1',\n",
              "  ('HR5', 'C1'),\n",
              "  1358,\n",
              "  0.16676900405256048,\n",
              "  0.9876363636363636,\n",
              "  1.3670445196482932),\n",
              " ('C1',\n",
              "  ('HR5', 'L1'),\n",
              "  1358,\n",
              "  0.16676900405256048,\n",
              "  0.9805054151624548,\n",
              "  1.4046895840372748),\n",
              " ('OC0',\n",
              "  ('HR5', 'C1'),\n",
              "  1365,\n",
              "  0.16762863809406853,\n",
              "  0.9927272727272727,\n",
              "  1.260333361680415),\n",
              " ('C1',\n",
              "  ('HR5', 'OC0'),\n",
              "  1365,\n",
              "  0.16762863809406853,\n",
              "  0.9798994974874372,\n",
              "  1.403821535545426),\n",
              " ('OC0', ('HR5', 'L1'), 1385, 0.17008473535552007, 1.0, 1.269566573121297),\n",
              " ('L1',\n",
              "  ('HR5', 'OC0'),\n",
              "  1385,\n",
              "  0.17008473535552007,\n",
              "  0.994256999282125,\n",
              "  1.376208523738627),\n",
              " ('OC0',\n",
              "  ('HR5',),\n",
              "  1393,\n",
              "  0.1710671742601007,\n",
              "  0.9528043775649795,\n",
              "  1.2096485884801416),\n",
              " ('OC0',\n",
              "  ('H2', 'C1', 'L1'),\n",
              "  1297,\n",
              "  0.15927790740513326,\n",
              "  1.0,\n",
              "  1.269566573121297),\n",
              " ('C1',\n",
              "  ('H2', 'L1', 'OC0'),\n",
              "  1297,\n",
              "  0.15927790740513326,\n",
              "  0.981089258698941,\n",
              "  1.405526008723694),\n",
              " ('C1',\n",
              "  ('H2', 'L1'),\n",
              "  1297,\n",
              "  0.15927790740513326,\n",
              "  0.981089258698941,\n",
              "  1.405526008723694),\n",
              " ('OC0',\n",
              "  ('H2', 'C1'),\n",
              "  1387,\n",
              "  0.17033034508166522,\n",
              "  0.9871886120996441,\n",
              "  1.2533016632877148),\n",
              " ('C1',\n",
              "  ('H2', 'OC0'),\n",
              "  1387,\n",
              "  0.17033034508166522,\n",
              "  0.9774489076814659,\n",
              "  1.4003107767857452),\n",
              " ('OC0', ('H2', 'L1'), 1322, 0.1623480289819477, 1.0, 1.269566573121297),\n",
              " ('OC1',\n",
              "  ('L5',),\n",
              "  1495,\n",
              "  0.1835932702935036,\n",
              "  0.9676375404530745,\n",
              "  4.557242621115897),\n",
              " ('OC0', ('C1', 'L1'), 5169, 0.634778337222154, 1.0, 1.269566573121297),\n",
              " ('OC0',\n",
              "  ('C1',),\n",
              "  5627,\n",
              "  0.6910229645093946,\n",
              "  0.9899718508092892,\n",
              "  1.2568351701184974),\n",
              " ('OC0',\n",
              "  ('L1',),\n",
              "  5882,\n",
              "  0.7223382045929019,\n",
              "  0.9998300186979432,\n",
              "  1.2693507705421503)]"
            ]
          },
          "metadata": {
            "tags": []
          },
          "execution_count": 88
        }
      ]
    },
    {
      "cell_type": "code",
      "metadata": {
        "id": "8pT3iI89kg-_",
        "colab": {
          "base_uri": "https://localhost:8080/",
          "height": 312
        },
        "outputId": "d6a08eaf-90ee-45af-c8cc-510e48127a9a"
      },
      "source": [
        "plt.hist(lift_list, bins='sturges')\n",
        "plt.title(\"Lift\")\n",
        "plt.xlabel(\"Lift value\")\n",
        "plt.ylabel(\"Occurrences\")"
      ],
      "execution_count": null,
      "outputs": [
        {
          "output_type": "execute_result",
          "data": {
            "text/plain": [
              "Text(0, 0.5, 'Occurrences')"
            ]
          },
          "metadata": {
            "tags": []
          },
          "execution_count": 89
        },
        {
          "output_type": "display_data",
          "data": {
            "image/png": "[encoded data removed]",
            "text/plain": [
              "<Figure size 432x288 with 1 Axes>"
            ]
          },
          "metadata": {
            "tags": [],
            "needs_background": "light"
          }
        }
      ]
    },
    {
      "cell_type": "code",
      "metadata": {
        "id": "8qSiSQClkujO",
        "colab": {
          "base_uri": "https://localhost:8080/",
          "height": 312
        },
        "outputId": "fcedfe45-1325-45ff-c4a2-aaeb271519c9"
      },
      "source": [
        "plt.hist(conf_list, bins='sturges')\n",
        "plt.title(\"Confidence\")\n",
        "plt.xlabel(\"Confidence value\")\n",
        "plt.ylabel(\"Occurrences\")"
      ],
      "execution_count": null,
      "outputs": [
        {
          "output_type": "execute_result",
          "data": {
            "text/plain": [
              "Text(0, 0.5, 'Occurrences')"
            ]
          },
          "metadata": {
            "tags": []
          },
          "execution_count": 90
        },
        {
          "output_type": "display_data",
          "data": {
            "image/png": "[encoded data removed]",
            "text/plain": [
              "<Figure size 432x288 with 1 Axes>"
            ]
          },
          "metadata": {
            "tags": [],
            "needs_background": "light"
          }
        }
      ]
    },
    {
      "cell_type": "code",
      "metadata": {
        "id": "AwX6gIyYmYWU",
        "colab": {
          "base_uri": "https://localhost:8080/",
          "height": 1000
        },
        "outputId": "a3dd7674-9bb2-4abc-a3cc-f49dd4cb63dd"
      },
      "source": [
        "conf_list"
      ],
      "execution_count": null,
      "outputs": [
        {
          "output_type": "execute_result",
          "data": {
            "text/plain": [
              "[1.0,\n",
              " 0.9677716390423573,\n",
              " 0.9677716390423573,\n",
              " 0.9519927536231884,\n",
              " 0.9677716390423573,\n",
              " 0.9836956521739131,\n",
              " 0.9687778768956289,\n",
              " 0.9517241379310345,\n",
              " 1.0,\n",
              " 0.9687778768956289,\n",
              " 0.9663793103448276,\n",
              " 1.0,\n",
              " 0.9939914163090129,\n",
              " 0.9922879177377892,\n",
              " 0.9939914163090129,\n",
              " 0.9922879177377892,\n",
              " 0.9857142857142858,\n",
              " 0.9943955164131305,\n",
              " 0.9929078014184397,\n",
              " 1.0,\n",
              " 0.9923339011925043,\n",
              " 0.9923339011925043,\n",
              " 0.9842395587076438,\n",
              " 1.0,\n",
              " 0.9940374787052811,\n",
              " 0.9940374787052811,\n",
              " 0.9866171003717472,\n",
              " 0.9947526236881559,\n",
              " 0.9933530280649926,\n",
              " 1.0,\n",
              " 0.9852289512555391,\n",
              " 1.0,\n",
              " 0.9976580796252927,\n",
              " 1.0,\n",
              " 0.9941656942823804,\n",
              " 1.0,\n",
              " 0.9964994165694282,\n",
              " 1.0,\n",
              " 1.0,\n",
              " 1.0,\n",
              " 0.9976580796252927,\n",
              " 0.9941656942823804,\n",
              " 0.9964994165694282,\n",
              " 1.0,\n",
              " 0.9882869692532943,\n",
              " 1.0,\n",
              " 0.9861212563915267,\n",
              " 1.0,\n",
              " 0.997808619430241,\n",
              " 1.0,\n",
              " 1.0,\n",
              " 1.0,\n",
              " 0.9882869692532943,\n",
              " 0.9861212563915267,\n",
              " 0.997808619430241,\n",
              " 1.0,\n",
              " 0.9611231101511879,\n",
              " 0.9580193756727664,\n",
              " 0.9967707212055974,\n",
              " 1.0,\n",
              " 1.0,\n",
              " 0.9948717948717949,\n",
              " 0.9805054151624548,\n",
              " 0.9876363636363636,\n",
              " 0.9805054151624548,\n",
              " 0.9927272727272727,\n",
              " 0.9798994974874372,\n",
              " 1.0,\n",
              " 0.994256999282125,\n",
              " 0.9528043775649795,\n",
              " 1.0,\n",
              " 0.981089258698941,\n",
              " 0.981089258698941,\n",
              " 0.9871886120996441,\n",
              " 0.9774489076814659,\n",
              " 1.0,\n",
              " 0.9676375404530745,\n",
              " 1.0,\n",
              " 0.9899718508092892,\n",
              " 0.9998300186979432]"
            ]
          },
          "metadata": {
            "tags": []
          },
          "execution_count": 91
        }
      ]
    },
    {
      "cell_type": "markdown",
      "metadata": {
        "id": "mK7Mpue2zY58"
      },
      "source": [
        "# 5 bins"
      ]
    },
    {
      "cell_type": "code",
      "metadata": {
        "id": "mrqW4Jp6zjC0"
      },
      "source": [
        "prova = tr.copy()\n",
        "prova = prova.drop(columns=['Day', 'Time'])"
      ],
      "execution_count": null,
      "outputs": []
    },
    {
      "cell_type": "code",
      "metadata": {
        "id": "1dnWc7LEz7Xq"
      },
      "source": [
        "#discretizzo in 5 bins e rinomino\n",
        "\n",
        "#indici\n",
        "index = range(8143)\n",
        "prova = prova.assign(indexes = index)\n",
        "\n",
        "# Temperature\n",
        "T = pd.cut(prova['Temperature'], 5, labels = ['T1', 'T2', 'T3', 'T4', 'T5'])\n",
        "prova['T'] = T\n",
        "prova = prova.drop(labels = 'Temperature', axis = 1)\n",
        "\n",
        "# Humidity\n",
        "H = pd.cut(prova['Humidity'], 5, labels = ['H1', 'H2', 'H3', 'H4', 'H5'])\n",
        "prova['H'] = H\n",
        "prova = prova.drop(labels = 'Humidity', axis = 1)\n",
        "\n",
        "# HumidityRatio\n",
        "HR = pd.cut(prova['HumidityRatio'], 5, labels = ['HR1', 'HR2', 'HR3', 'HR4', 'HR5'])\n",
        "prova['HR'] = HR\n",
        "prova = prova.drop(labels = 'HumidityRatio', axis = 1)\n",
        "\n",
        "# Light\n",
        "L = pd.cut(prova['Light'], 15, labels = ['L1', 'L2', 'L3', 'L4', 'L5', 'L6', 'L7', 'L8', 'L9', 'L10', 'L11', 'L12', 'L13', 'L14', 'L15'])\n",
        "prova['L'] = L\n",
        "prova = prova.drop(labels = 'Light', axis = 1)\n",
        "\n",
        "# CO2\n",
        "C = pd.cut(prova['CO2'], 15, labels = ['C1', 'C2', 'C3', 'C4', 'C5', 'C6', 'C7', 'C8', 'C9', 'C10', 'C11', 'C12', 'C13', 'C14','C15'])\n",
        "prova['C'] = C\n",
        "prova = prova.drop(labels = 'CO2', axis = 1)\n",
        "\n",
        "# Occupancy\n",
        "OC = pd.cut(prova['Occupancy'], 2, labels = ['OC0', 'OC1'])\n",
        "prova['OC'] = OC\n",
        "prova = prova.drop(labels = 'Occupancy', axis = 1)"
      ],
      "execution_count": null,
      "outputs": []
    },
    {
      "cell_type": "code",
      "metadata": {
        "id": "iW1_ztys03iq"
      },
      "source": [
        "#transform dataframe into a transaction like dictionary: index -> list of items\n",
        "baskets_2 = defaultdict(list)\n",
        "\n",
        "for i in range(len(prova)):\n",
        "    row = prova[prova['indexes'] == i]\n",
        "    item = row['T']\n",
        "    baskets_2[i].append(item[i])\n",
        "    item = row['H']\n",
        "    baskets_2[i].append(item[i])\n",
        "    item = row['HR']\n",
        "    baskets_2[i].append(item[i])\n",
        "    item = row['L']\n",
        "    baskets_2[i].append(item[i])\n",
        "    item = row['C']\n",
        "    baskets_2[i].append(item[i])\n",
        "    item = row['OC']\n",
        "    baskets_2[i].append(item[i])"
      ],
      "execution_count": null,
      "outputs": []
    },
    {
      "cell_type": "code",
      "metadata": {
        "id": "_CKSzp0P2HDl"
      },
      "source": [
        "#get the list of items from the transactions\n",
        "baskets_lists_2 = [b for b in baskets_2.values()]"
      ],
      "execution_count": null,
      "outputs": []
    },
    {
      "cell_type": "code",
      "metadata": {
        "id": "fRs3fFNQ1oLC",
        "colab": {
          "base_uri": "https://localhost:8080/",
          "height": 33
        },
        "outputId": "09ab3f9b-f7fd-4d13-9226-1b509e4e0af7"
      },
      "source": [
        "# Type --> frequent\n",
        "\n",
        "itemsets = apriori(baskets_lists_2, supp=6, zmin=2, report='as')\n",
        "print(len(itemsets))\n",
        "itemsets\n",
        "\n",
        "min_sup.append(0.06)\n",
        "types.append(\"frequent\")\n",
        "itemsets_num.append(len(itemsets))"
      ],
      "execution_count": null,
      "outputs": [
        {
          "output_type": "stream",
          "text": [
            "234\n"
          ],
          "name": "stdout"
        }
      ]
    },
    {
      "cell_type": "code",
      "metadata": {
        "id": "jmIh0NmA1rO1",
        "colab": {
          "base_uri": "https://localhost:8080/",
          "height": 33
        },
        "outputId": "1b939f7d-1389-4f6f-e656-f7ed2b69829d"
      },
      "source": [
        "# Type --> maximal\n",
        "\n",
        "itemsets = apriori(baskets_lists_2, supp=6, zmin=2, target='m', report='as')\n",
        "print(len(itemsets))\n",
        "itemsets\n",
        "min_sup.append(0.06)\n",
        "types.append(\"maximal\")\n",
        "itemsets_num.append(len(itemsets))"
      ],
      "execution_count": null,
      "outputs": [
        {
          "output_type": "stream",
          "text": [
            "15\n"
          ],
          "name": "stdout"
        }
      ]
    },
    {
      "cell_type": "code",
      "metadata": {
        "id": "lknJSs6818Ik",
        "colab": {
          "base_uri": "https://localhost:8080/",
          "height": 33
        },
        "outputId": "96e28560-170c-4982-c70f-39bbdc09fd07"
      },
      "source": [
        "# Type --> closed\n",
        "\n",
        "itemsets = apriori(baskets_lists_2, supp=6, zmin=2, target='c', report='as')\n",
        "print(len(itemsets))\n",
        "itemsets\n",
        "\n",
        "min_sup.append(0.06)\n",
        "types.append(\"closed\")\n",
        "itemsets_num.append(len(itemsets))"
      ],
      "execution_count": null,
      "outputs": [
        {
          "output_type": "stream",
          "text": [
            "131\n"
          ],
          "name": "stdout"
        }
      ]
    },
    {
      "cell_type": "code",
      "metadata": {
        "id": "ATBFB0pI2VNC",
        "colab": {
          "base_uri": "https://localhost:8080/",
          "height": 33
        },
        "outputId": "be8ec135-57af-441c-a291-50781a4784a3"
      },
      "source": [
        "all_rules = apriori(baskets_lists_2, supp=5, conf=90, zmin=2, target='r', report='ascl')\n",
        "rules = []\n",
        "conf_list = []\n",
        "lift_list = []\n",
        "\n",
        "for r in all_rules:\n",
        "  conf_list.append(r[4])\n",
        "  lift_list.append(r[5])\n",
        "  if(r[0]=='OC0' or r[0]=='OC1'):\n",
        "    rules.append(r)\n",
        "\n",
        "\n",
        "print(len(all_rules))\n",
        "#rules"
      ],
      "execution_count": null,
      "outputs": [
        {
          "output_type": "stream",
          "text": [
            "372\n"
          ],
          "name": "stdout"
        }
      ]
    },
    {
      "cell_type": "code",
      "metadata": {
        "id": "SO8tknBdAapf",
        "colab": {
          "base_uri": "https://localhost:8080/",
          "height": 1000
        },
        "outputId": "4cc3364e-33ae-4988-9f5e-7ef31cc02311"
      },
      "source": [
        "from operator import itemgetter\n",
        "rules.sort(key=itemgetter(5), reverse=True)\n",
        "print(len(rules))\n",
        "rules"
      ],
      "execution_count": null,
      "outputs": [
        {
          "output_type": "stream",
          "text": [
            "110\n"
          ],
          "name": "stdout"
        },
        {
          "output_type": "execute_result",
          "data": {
            "text/plain": [
              "[('OC1',\n",
              "  ('L5', 'T3'),\n",
              "  488,\n",
              "  0.0599287731794179,\n",
              "  0.991869918699187,\n",
              "  4.671368853653834),\n",
              " ('OC1',\n",
              "  ('L5',),\n",
              "  1495,\n",
              "  0.1835932702935036,\n",
              "  0.9676375404530745,\n",
              "  4.557242621115897),\n",
              " ('OC1',\n",
              "  ('T4', 'L5'),\n",
              "  837,\n",
              "  0.10278767039174751,\n",
              "  0.9554794520547946,\n",
              "  4.499982173558237),\n",
              " ('OC1',\n",
              "  ('L5', 'HR3'),\n",
              "  429,\n",
              "  0.05268328625813582,\n",
              "  0.9206008583690987,\n",
              "  4.335715899190035),\n",
              " ('OC0',\n",
              "  ('H2', 'T3', 'HR2', 'C1', 'L1'),\n",
              "  488,\n",
              "  0.0599287731794179,\n",
              "  1.0,\n",
              "  1.269566573121297),\n",
              " ('OC0',\n",
              "  ('H2', 'T3', 'HR2', 'L1'),\n",
              "  504,\n",
              "  0.06189365098857915,\n",
              "  1.0,\n",
              "  1.269566573121297),\n",
              " ('OC0',\n",
              "  ('H2', 'T3', 'C1', 'L1'),\n",
              "  523,\n",
              "  0.06422694338695813,\n",
              "  1.0,\n",
              "  1.269566573121297),\n",
              " ('OC0', ('H2', 'T3', 'L1'), 553, 0.06791108927913546, 1.0, 1.269566573121297),\n",
              " ('OC0',\n",
              "  ('H2', 'HR2', 'C1', 'L1'),\n",
              "  578,\n",
              "  0.0709812108559499,\n",
              "  1.0,\n",
              "  1.269566573121297),\n",
              " ('OC0',\n",
              "  ('H2', 'HR2', 'L1'),\n",
              "  620,\n",
              "  0.07613901510499815,\n",
              "  1.0,\n",
              "  1.269566573121297),\n",
              " ('OC0', ('H2', 'C1', 'L1'), 784, 0.0962790126489009, 1.0, 1.269566573121297),\n",
              " ('OC0', ('H2', 'L1'), 840, 0.10315608498096525, 1.0, 1.269566573121297),\n",
              " ('OC0',\n",
              "  ('H4', 'HR3', 'T1', 'C1', 'L1'),\n",
              "  649,\n",
              "  0.07970035613410291,\n",
              "  1.0,\n",
              "  1.269566573121297),\n",
              " ('OC0',\n",
              "  ('H4', 'HR3', 'T1', 'C1'),\n",
              "  665,\n",
              "  0.08166523394326415,\n",
              "  1.0,\n",
              "  1.269566573121297),\n",
              " ('OC0',\n",
              "  ('H4', 'HR3', 'T1', 'L1'),\n",
              "  649,\n",
              "  0.07970035613410291,\n",
              "  1.0,\n",
              "  1.269566573121297),\n",
              " ('OC0',\n",
              "  ('H4', 'HR3', 'T1'),\n",
              "  665,\n",
              "  0.08166523394326415,\n",
              "  1.0,\n",
              "  1.269566573121297),\n",
              " ('OC0',\n",
              "  ('H4', 'HR3', 'T2', 'C1', 'L1'),\n",
              "  540,\n",
              "  0.06631462605919194,\n",
              "  1.0,\n",
              "  1.269566573121297),\n",
              " ('OC0',\n",
              "  ('H4', 'HR3', 'T2', 'L1'),\n",
              "  618,\n",
              "  0.075893405378853,\n",
              "  1.0,\n",
              "  1.269566573121297),\n",
              " ('OC0',\n",
              "  ('H4', 'HR3', 'C1', 'L1'),\n",
              "  1189,\n",
              "  0.14601498219329487,\n",
              "  1.0,\n",
              "  1.269566573121297),\n",
              " ('OC0',\n",
              "  ('H4', 'HR3', 'L1'),\n",
              "  1267,\n",
              "  0.15559376151295592,\n",
              "  1.0,\n",
              "  1.269566573121297),\n",
              " ('OC0',\n",
              "  ('H4', 'T1', 'C1', 'L1'),\n",
              "  649,\n",
              "  0.07970035613410291,\n",
              "  1.0,\n",
              "  1.269566573121297),\n",
              " ('OC0', ('H4', 'T1', 'C1'), 665, 0.08166523394326415, 1.0, 1.269566573121297),\n",
              " ('OC0', ('H4', 'T1', 'L1'), 649, 0.07970035613410291, 1.0, 1.269566573121297),\n",
              " ('OC0', ('H4', 'T1'), 665, 0.08166523394326415, 1.0, 1.269566573121297),\n",
              " ('OC0',\n",
              "  ('H4', 'T2', 'C1', 'L1'),\n",
              "  540,\n",
              "  0.06631462605919194,\n",
              "  1.0,\n",
              "  1.269566573121297),\n",
              " ('OC0', ('H4', 'T2', 'L1'), 729, 0.08952474517990912, 1.0, 1.269566573121297),\n",
              " ('OC0',\n",
              "  ('H4', 'C1', 'L1'),\n",
              "  1189,\n",
              "  0.14601498219329487,\n",
              "  1.0,\n",
              "  1.269566573121297),\n",
              " ('OC0',\n",
              "  ('T3', 'HR2', 'C1', 'L1'),\n",
              "  609,\n",
              "  0.0747881616111998,\n",
              "  1.0,\n",
              "  1.269566573121297),\n",
              " ('OC0',\n",
              "  ('T3', 'HR2', 'L1'),\n",
              "  625,\n",
              "  0.07675303942036105,\n",
              "  1.0,\n",
              "  1.269566573121297),\n",
              " ('OC0', ('T3', 'C1', 'L1'), 875, 0.10745425518850546, 1.0, 1.269566573121297),\n",
              " ('OC0',\n",
              "  ('HR3', 'T1', 'C1', 'L1'),\n",
              "  709,\n",
              "  0.08706864791845757,\n",
              "  1.0,\n",
              "  1.269566573121297),\n",
              " ('OC0',\n",
              "  ('HR3', 'T1', 'C1'),\n",
              "  731,\n",
              "  0.08977035490605428,\n",
              "  1.0,\n",
              "  1.269566573121297),\n",
              " ('OC0',\n",
              "  ('HR3', 'T1', 'L1'),\n",
              "  709,\n",
              "  0.08706864791845757,\n",
              "  1.0,\n",
              "  1.269566573121297),\n",
              " ('OC0', ('HR3', 'T1'), 731, 0.08977035490605428, 1.0, 1.269566573121297),\n",
              " ('OC0',\n",
              "  ('HR3', 'T2', 'C1', 'L1'),\n",
              "  540,\n",
              "  0.06631462605919194,\n",
              "  1.0,\n",
              "  1.269566573121297),\n",
              " ('OC0', ('HR3', 'T2', 'L1'), 618, 0.075893405378853, 1.0, 1.269566573121297),\n",
              " ('OC0',\n",
              "  ('HR3', 'C1', 'L1'),\n",
              "  1279,\n",
              "  0.15706741986982684,\n",
              "  1.0,\n",
              "  1.269566573121297),\n",
              " ('OC0', ('HR3', 'L1'), 1524, 0.18715461132260838, 1.0, 1.269566573121297),\n",
              " ('OC0',\n",
              "  ('T1', 'H3', 'HR2', 'C1', 'L1'),\n",
              "  1181,\n",
              "  0.14503254328871423,\n",
              "  1.0,\n",
              "  1.269566573121297),\n",
              " ('OC0',\n",
              "  ('T1', 'H3', 'HR2', 'L1'),\n",
              "  1181,\n",
              "  0.14503254328871423,\n",
              "  1.0,\n",
              "  1.269566573121297),\n",
              " ('OC0',\n",
              "  ('T1', 'H3', 'C1', 'L1'),\n",
              "  1241,\n",
              "  0.1524008350730689,\n",
              "  1.0,\n",
              "  1.269566573121297),\n",
              " ('OC0', ('T1', 'H3', 'L1'), 1241, 0.1524008350730689, 1.0, 1.269566573121297),\n",
              " ('OC0',\n",
              "  ('T1', 'HR2', 'C1', 'L1'),\n",
              "  1181,\n",
              "  0.14503254328871423,\n",
              "  1.0,\n",
              "  1.269566573121297),\n",
              " ('OC0',\n",
              "  ('T1', 'HR2', 'L1'),\n",
              "  1181,\n",
              "  0.14503254328871423,\n",
              "  1.0,\n",
              "  1.269566573121297),\n",
              " ('OC0',\n",
              "  ('T1', 'C1', 'L1'),\n",
              "  2256,\n",
              "  0.27704777109173523,\n",
              "  1.0,\n",
              "  1.269566573121297),\n",
              " ('OC0', ('T1', 'L1'), 2256, 0.27704777109173523, 1.0, 1.269566573121297),\n",
              " ('OC0',\n",
              "  ('H3', 'HR2', 'C1', 'L1'),\n",
              "  1465,\n",
              "  0.17990912440132628,\n",
              "  1.0,\n",
              "  1.269566573121297),\n",
              " ('OC0',\n",
              "  ('H3', 'HR2', 'L1'),\n",
              "  1465,\n",
              "  0.17990912440132628,\n",
              "  1.0,\n",
              "  1.269566573121297),\n",
              " ('OC0',\n",
              "  ('H3', 'C1', 'L1'),\n",
              "  1555,\n",
              "  0.19096156207785828,\n",
              "  1.0,\n",
              "  1.269566573121297),\n",
              " ('OC0', ('H3', 'L1'), 1722, 0.21146997421097877, 1.0, 1.269566573121297),\n",
              " ('OC0',\n",
              "  ('T2', 'H1', 'HR1', 'C1', 'L1'),\n",
              "  989,\n",
              "  0.12145400957877932,\n",
              "  1.0,\n",
              "  1.269566573121297),\n",
              " ('OC0',\n",
              "  ('T2', 'H1', 'HR1', 'L1'),\n",
              "  993,\n",
              "  0.12194522903106964,\n",
              "  1.0,\n",
              "  1.269566573121297),\n",
              " ('OC0',\n",
              "  ('T2', 'H1', 'C1', 'L1'),\n",
              "  989,\n",
              "  0.12145400957877932,\n",
              "  1.0,\n",
              "  1.269566573121297),\n",
              " ('OC0', ('T2', 'H1', 'L1'), 993, 0.12194522903106964, 1.0, 1.269566573121297),\n",
              " ('OC0',\n",
              "  ('T2', 'HR1', 'C1', 'L1'),\n",
              "  1160,\n",
              "  0.1424536411641901,\n",
              "  1.0,\n",
              "  1.269566573121297),\n",
              " ('OC0',\n",
              "  ('T2', 'HR1', 'L1'),\n",
              "  1164,\n",
              "  0.1429448606164804,\n",
              "  1.0,\n",
              "  1.269566573121297),\n",
              " ('OC0',\n",
              "  ('T2', 'C1', 'L1'),\n",
              "  1947,\n",
              "  0.23910106840230874,\n",
              "  1.0,\n",
              "  1.269566573121297),\n",
              " ('OC0', ('T2', 'L1'), 2174, 0.26697777231978387, 1.0, 1.269566573121297),\n",
              " ('OC0',\n",
              "  ('HR2', 'C1', 'L1'),\n",
              "  2043,\n",
              "  0.25089033525727616,\n",
              "  1.0,\n",
              "  1.269566573121297),\n",
              " ('OC0', ('HR2', 'L1'), 2085, 0.25604813950632443, 1.0, 1.269566573121297),\n",
              " ('OC0',\n",
              "  ('H1', 'HR1', 'C1', 'L1'),\n",
              "  1641,\n",
              "  0.20152278030209997,\n",
              "  1.0,\n",
              "  1.269566573121297),\n",
              " ('OC0',\n",
              "  ('H1', 'HR1', 'L1'),\n",
              "  1777,\n",
              "  0.21822424167997054,\n",
              "  1.0,\n",
              "  1.269566573121297),\n",
              " ('OC0',\n",
              "  ('H1', 'C1', 'L1'),\n",
              "  1641,\n",
              "  0.20152278030209997,\n",
              "  1.0,\n",
              "  1.269566573121297),\n",
              " ('OC0', ('H1', 'L1'), 1777, 0.21822424167997054, 1.0, 1.269566573121297),\n",
              " ('OC0',\n",
              "  ('HR1', 'C1', 'L1'),\n",
              "  1847,\n",
              "  0.22682058209505096,\n",
              "  1.0,\n",
              "  1.269566573121297),\n",
              " ('OC0', ('HR1', 'L1'), 1997, 0.24524131155593762, 1.0, 1.269566573121297),\n",
              " ('OC0', ('C1', 'L1'), 5169, 0.634778337222154, 1.0, 1.269566573121297),\n",
              " ('OC0',\n",
              "  ('L1',),\n",
              "  5882,\n",
              "  0.7223382045929019,\n",
              "  0.9998300186979432,\n",
              "  1.2693507705421503),\n",
              " ('OC0',\n",
              "  ('H4', 'L1'),\n",
              "  1400,\n",
              "  0.17192680830160875,\n",
              "  0.9992862241256245,\n",
              "  1.2686603871304896),\n",
              " ('OC0',\n",
              "  ('T3', 'L1'),\n",
              "  1123,\n",
              "  0.13790986123050472,\n",
              "  0.9991103202846975,\n",
              "  1.268437065493965),\n",
              " ('OC0',\n",
              "  ('HR3', 'C1'),\n",
              "  1343,\n",
              "  0.1649269311064718,\n",
              "  0.9985130111524163,\n",
              "  1.2676787417858009),\n",
              " ('OC0',\n",
              "  ('H4', 'HR3', 'C1'),\n",
              "  1208,\n",
              "  0.14834827459167382,\n",
              "  0.9983471074380166,\n",
              "  1.267468115975642),\n",
              " ('OC0',\n",
              "  ('HR3', 'T2', 'C1'),\n",
              "  570,\n",
              "  0.06999877195136928,\n",
              "  0.9965034965034965,\n",
              "  1.2651275291593347),\n",
              " ('OC0',\n",
              "  ('H4', 'HR3', 'T2', 'C1'),\n",
              "  543,\n",
              "  0.06668304064840967,\n",
              "  0.9963302752293578,\n",
              "  1.2649076132199346),\n",
              " ('OC0',\n",
              "  ('T1', 'C1'),\n",
              "  2281,\n",
              "  0.2801178926685497,\n",
              "  0.9956350938454823,\n",
              "  1.2640250341727102),\n",
              " ('OC0',\n",
              "  ('H3', 'C1'),\n",
              "  1652,\n",
              "  0.20287363379589832,\n",
              "  0.9939831528279182,\n",
              "  1.2619277850760426),\n",
              " ('OC0',\n",
              "  ('H3', 'HR2', 'C1'),\n",
              "  1517,\n",
              "  0.18629497728110034,\n",
              "  0.9934512115258677,\n",
              "  1.2612524501800968),\n",
              " ('OC0',\n",
              "  ('T1',),\n",
              "  2281,\n",
              "  0.2801178926685497,\n",
              "  0.9926022628372497,\n",
              "  1.2601746533027323),\n",
              " ('OC0',\n",
              "  ('HR2', 'C1'),\n",
              "  2095,\n",
              "  0.2572761881370502,\n",
              "  0.9924206537186168,\n",
              "  1.2599440884363418),\n",
              " ('OC0',\n",
              "  ('T1', 'H3', 'C1'),\n",
              "  1250,\n",
              "  0.1535060788407221,\n",
              "  0.9920634920634921,\n",
              "  1.2594906479377947),\n",
              " ('OC0',\n",
              "  ('T1', 'H3', 'HR2', 'C1'),\n",
              "  1184,\n",
              "  0.14540095787793197,\n",
              "  0.9916247906197655,\n",
              "  1.2589336872492596),\n",
              " ('OC0',\n",
              "  ('T1', 'HR2', 'C1'),\n",
              "  1184,\n",
              "  0.14540095787793197,\n",
              "  0.9916247906197655,\n",
              "  1.2589336872492596),\n",
              " ('OC0',\n",
              "  ('H1', 'HR1', 'C1'),\n",
              "  1980,\n",
              "  0.2431536288837038,\n",
              "  0.990990990990991,\n",
              "  1.2581290364265107),\n",
              " ('OC0',\n",
              "  ('H1', 'C1'),\n",
              "  1980,\n",
              "  0.2431536288837038,\n",
              "  0.990990990990991,\n",
              "  1.2581290364265107),\n",
              " ('OC0',\n",
              "  ('T3', 'HR2', 'C1'),\n",
              "  640,\n",
              "  0.07859511236644971,\n",
              "  0.9907120743034056,\n",
              "  1.2577749331232666),\n",
              " ('OC0',\n",
              "  ('C1',),\n",
              "  5627,\n",
              "  0.6910229645093946,\n",
              "  0.9899718508092892,\n",
              "  1.2568351701184974),\n",
              " ('OC0',\n",
              "  ('H2', 'HR2', 'C1'),\n",
              "  578,\n",
              "  0.0709812108559499,\n",
              "  0.9897260273972602,\n",
              "  1.2565230809316947),\n",
              " ('OC0',\n",
              "  ('HR1', 'C1'),\n",
              "  2189,\n",
              "  0.26881984526587255,\n",
              "  0.9896021699819169,\n",
              "  1.2563658356973415),\n",
              " ('OC0',\n",
              "  ('T3', 'C1'),\n",
              "  964,\n",
              "  0.11838388800196488,\n",
              "  0.9887179487179487,\n",
              "  1.2552432579373647),\n",
              " ('OC0',\n",
              "  ('H2', 'T3', 'HR2', 'C1'),\n",
              "  488,\n",
              "  0.0599287731794179,\n",
              "  0.9878542510121457,\n",
              "  1.2541467362007956),\n",
              " ('OC0',\n",
              "  ('T1', 'H3'),\n",
              "  1250,\n",
              "  0.1535060788407221,\n",
              "  0.9865824782951855,\n",
              "  1.252532136070735),\n",
              " ('OC0',\n",
              "  ('H2', 'C1'),\n",
              "  787,\n",
              "  0.09664742723811863,\n",
              "  0.9862155388471178,\n",
              "  1.2520662820131088),\n",
              " ('OC0',\n",
              "  ('T1', 'H3', 'HR2'),\n",
              "  1184,\n",
              "  0.14540095787793197,\n",
              "  0.9858451290591174,\n",
              "  1.2515960221279065),\n",
              " ('OC0',\n",
              "  ('T1', 'HR2'),\n",
              "  1184,\n",
              "  0.14540095787793197,\n",
              "  0.9858451290591174,\n",
              "  1.2515960221279065),\n",
              " ('OC0',\n",
              "  ('H4', 'C1'),\n",
              "  1208,\n",
              "  0.14834827459167382,\n",
              "  0.9853181076672104,\n",
              "  1.2509269333854216),\n",
              " ('OC0',\n",
              "  ('T2', 'HR1', 'C1'),\n",
              "  1197,\n",
              "  0.14699742109787547,\n",
              "  0.9851851851851852,\n",
              "  1.250758179445426),\n",
              " ('OC0',\n",
              "  ('H3', 'HR2'),\n",
              "  1517,\n",
              "  0.18629497728110034,\n",
              "  0.9850649350649351,\n",
              "  1.2506055139123426),\n",
              " ('OC0',\n",
              "  ('T2', 'HR1'),\n",
              "  1201,\n",
              "  0.14748864055016578,\n",
              "  0.9836199836199836,\n",
              "  1.248771051858049),\n",
              " ('OC0',\n",
              "  ('T2', 'H1', 'HR1', 'C1'),\n",
              "  1026,\n",
              "  0.12599778951246468,\n",
              "  0.9827586206896551,\n",
              "  1.2476774942743782),\n",
              " ('OC0',\n",
              "  ('T2', 'H1', 'C1'),\n",
              "  1026,\n",
              "  0.12599778951246468,\n",
              "  0.9827586206896551,\n",
              "  1.2476774942743782),\n",
              " ('OC0',\n",
              "  ('T2', 'C1'),\n",
              "  2032,\n",
              "  0.24953948176347784,\n",
              "  0.9825918762088974,\n",
              "  1.2474658010553559),\n",
              " ('OC0',\n",
              "  ('T2', 'H1', 'HR1'),\n",
              "  1030,\n",
              "  0.126489008964755,\n",
              "  0.9809523809523809,\n",
              "  1.2453843526808914),\n",
              " ('OC0',\n",
              "  ('T2', 'H1'),\n",
              "  1030,\n",
              "  0.126489008964755,\n",
              "  0.9809523809523809,\n",
              "  1.2453843526808914),\n",
              " ('OC0',\n",
              "  ('H2', 'T3', 'C1'),\n",
              "  526,\n",
              "  0.06459535797617585,\n",
              "  0.9795158286778398,\n",
              "  1.2435605539325927),\n",
              " ('OC0',\n",
              "  ('H4', 'T2', 'C1'),\n",
              "  543,\n",
              "  0.06668304064840967,\n",
              "  0.9679144385026738,\n",
              "  1.228831816764464),\n",
              " ('OC0',\n",
              "  ('T2',),\n",
              "  2259,\n",
              "  0.27741618568095294,\n",
              "  0.9580152671755725,\n",
              "  1.2162641597459756),\n",
              " ('OC0',\n",
              "  ('H4', 'HR3'),\n",
              "  1286,\n",
              "  0.15792705391133488,\n",
              "  0.9435069699192957,\n",
              "  1.197844910516499),\n",
              " ('OC0',\n",
              "  ('H4', 'HR3', 'T2'),\n",
              "  621,\n",
              "  0.07626181996807073,\n",
              "  0.9394856278366112,\n",
              "  1.1927395490292367),\n",
              " ('OC0',\n",
              "  ('HR3', 'T2'),\n",
              "  648,\n",
              "  0.07957755127103033,\n",
              "  0.9257142857142857,\n",
              "  1.175255913403715),\n",
              " ('OC0',\n",
              "  ('H4', 'T2'),\n",
              "  732,\n",
              "  0.08989315976912686,\n",
              "  0.9230769230769231,\n",
              "  1.1719076059581204)]"
            ]
          },
          "metadata": {
            "tags": []
          },
          "execution_count": 103
        }
      ]
    },
    {
      "cell_type": "code",
      "metadata": {
        "id": "EYGGFz2m2rBB",
        "colab": {
          "base_uri": "https://localhost:8080/",
          "height": 241
        },
        "outputId": "5010f3e2-5adf-4685-fcaf-ba38b8bb0edf"
      },
      "source": [
        "f, axes = plt.subplots(1, 2, figsize=(12, 3))\n",
        "ax1 = sns.distplot(conf_list, kde=False, ax=axes[0])\n",
        "ax1.set_xlabel(\"Confidence\")\n",
        "ax1.set_ylabel(\"Occurrences\")\n",
        "\n",
        "ax2 = sns.distplot(lift_list, kde=False, ax=axes[1])\n",
        "ax2.set_xlabel(\"Lift\")\n",
        "ax2.set_ylabel(\"Occurrences\")"
      ],
      "execution_count": null,
      "outputs": [
        {
          "output_type": "execute_result",
          "data": {
            "text/plain": [
              "Text(0, 0.5, 'Occurrences')"
            ]
          },
          "metadata": {
            "tags": []
          },
          "execution_count": 100
        },
        {
          "output_type": "display_data",
          "data": {
            "image/png": "[encoded data removed]",
            "text/plain": [
              "<Figure size 864x216 with 2 Axes>"
            ]
          },
          "metadata": {
            "tags": [],
            "needs_background": "light"
          }
        }
      ]
    },
    {
      "cell_type": "code",
      "metadata": {
        "id": "MhuLzJtr22Vh",
        "colab": {
          "base_uri": "https://localhost:8080/",
          "height": 1000
        },
        "outputId": "92e8c5d2-f161-446c-bb8b-cc236a0283f8"
      },
      "source": [
        "from operator import itemgetter\n",
        "rules.sort(key=itemgetter(5), reverse=True)\n",
        "print(len(rules))\n",
        "rules"
      ],
      "execution_count": null,
      "outputs": [
        {
          "output_type": "stream",
          "text": [
            "110\n"
          ],
          "name": "stdout"
        },
        {
          "output_type": "execute_result",
          "data": {
            "text/plain": [
              "[('OC1',\n",
              "  ('L5', 'T3'),\n",
              "  488,\n",
              "  0.0599287731794179,\n",
              "  0.991869918699187,\n",
              "  4.671368853653834),\n",
              " ('OC1',\n",
              "  ('L5',),\n",
              "  1495,\n",
              "  0.1835932702935036,\n",
              "  0.9676375404530745,\n",
              "  4.557242621115897),\n",
              " ('OC1',\n",
              "  ('T4', 'L5'),\n",
              "  837,\n",
              "  0.10278767039174751,\n",
              "  0.9554794520547946,\n",
              "  4.499982173558237),\n",
              " ('OC1',\n",
              "  ('L5', 'HR3'),\n",
              "  429,\n",
              "  0.05268328625813582,\n",
              "  0.9206008583690987,\n",
              "  4.335715899190035),\n",
              " ('OC0',\n",
              "  ('H2', 'T3', 'HR2', 'C1', 'L1'),\n",
              "  488,\n",
              "  0.0599287731794179,\n",
              "  1.0,\n",
              "  1.269566573121297),\n",
              " ('OC0',\n",
              "  ('H2', 'T3', 'HR2', 'L1'),\n",
              "  504,\n",
              "  0.06189365098857915,\n",
              "  1.0,\n",
              "  1.269566573121297),\n",
              " ('OC0',\n",
              "  ('H2', 'T3', 'C1', 'L1'),\n",
              "  523,\n",
              "  0.06422694338695813,\n",
              "  1.0,\n",
              "  1.269566573121297),\n",
              " ('OC0', ('H2', 'T3', 'L1'), 553, 0.06791108927913546, 1.0, 1.269566573121297),\n",
              " ('OC0',\n",
              "  ('H2', 'HR2', 'C1', 'L1'),\n",
              "  578,\n",
              "  0.0709812108559499,\n",
              "  1.0,\n",
              "  1.269566573121297),\n",
              " ('OC0',\n",
              "  ('H2', 'HR2', 'L1'),\n",
              "  620,\n",
              "  0.07613901510499815,\n",
              "  1.0,\n",
              "  1.269566573121297),\n",
              " ('OC0', ('H2', 'C1', 'L1'), 784, 0.0962790126489009, 1.0, 1.269566573121297),\n",
              " ('OC0', ('H2', 'L1'), 840, 0.10315608498096525, 1.0, 1.269566573121297),\n",
              " ('OC0',\n",
              "  ('H4', 'HR3', 'T1', 'C1', 'L1'),\n",
              "  649,\n",
              "  0.07970035613410291,\n",
              "  1.0,\n",
              "  1.269566573121297),\n",
              " ('OC0',\n",
              "  ('H4', 'HR3', 'T1', 'C1'),\n",
              "  665,\n",
              "  0.08166523394326415,\n",
              "  1.0,\n",
              "  1.269566573121297),\n",
              " ('OC0',\n",
              "  ('H4', 'HR3', 'T1', 'L1'),\n",
              "  649,\n",
              "  0.07970035613410291,\n",
              "  1.0,\n",
              "  1.269566573121297),\n",
              " ('OC0',\n",
              "  ('H4', 'HR3', 'T1'),\n",
              "  665,\n",
              "  0.08166523394326415,\n",
              "  1.0,\n",
              "  1.269566573121297),\n",
              " ('OC0',\n",
              "  ('H4', 'HR3', 'T2', 'C1', 'L1'),\n",
              "  540,\n",
              "  0.06631462605919194,\n",
              "  1.0,\n",
              "  1.269566573121297),\n",
              " ('OC0',\n",
              "  ('H4', 'HR3', 'T2', 'L1'),\n",
              "  618,\n",
              "  0.075893405378853,\n",
              "  1.0,\n",
              "  1.269566573121297),\n",
              " ('OC0',\n",
              "  ('H4', 'HR3', 'C1', 'L1'),\n",
              "  1189,\n",
              "  0.14601498219329487,\n",
              "  1.0,\n",
              "  1.269566573121297),\n",
              " ('OC0',\n",
              "  ('H4', 'HR3', 'L1'),\n",
              "  1267,\n",
              "  0.15559376151295592,\n",
              "  1.0,\n",
              "  1.269566573121297),\n",
              " ('OC0',\n",
              "  ('H4', 'T1', 'C1', 'L1'),\n",
              "  649,\n",
              "  0.07970035613410291,\n",
              "  1.0,\n",
              "  1.269566573121297),\n",
              " ('OC0', ('H4', 'T1', 'C1'), 665, 0.08166523394326415, 1.0, 1.269566573121297),\n",
              " ('OC0', ('H4', 'T1', 'L1'), 649, 0.07970035613410291, 1.0, 1.269566573121297),\n",
              " ('OC0', ('H4', 'T1'), 665, 0.08166523394326415, 1.0, 1.269566573121297),\n",
              " ('OC0',\n",
              "  ('H4', 'T2', 'C1', 'L1'),\n",
              "  540,\n",
              "  0.06631462605919194,\n",
              "  1.0,\n",
              "  1.269566573121297),\n",
              " ('OC0', ('H4', 'T2', 'L1'), 729, 0.08952474517990912, 1.0, 1.269566573121297),\n",
              " ('OC0',\n",
              "  ('H4', 'C1', 'L1'),\n",
              "  1189,\n",
              "  0.14601498219329487,\n",
              "  1.0,\n",
              "  1.269566573121297),\n",
              " ('OC0',\n",
              "  ('T3', 'HR2', 'C1', 'L1'),\n",
              "  609,\n",
              "  0.0747881616111998,\n",
              "  1.0,\n",
              "  1.269566573121297),\n",
              " ('OC0',\n",
              "  ('T3', 'HR2', 'L1'),\n",
              "  625,\n",
              "  0.07675303942036105,\n",
              "  1.0,\n",
              "  1.269566573121297),\n",
              " ('OC0', ('T3', 'C1', 'L1'), 875, 0.10745425518850546, 1.0, 1.269566573121297),\n",
              " ('OC0',\n",
              "  ('HR3', 'T1', 'C1', 'L1'),\n",
              "  709,\n",
              "  0.08706864791845757,\n",
              "  1.0,\n",
              "  1.269566573121297),\n",
              " ('OC0',\n",
              "  ('HR3', 'T1', 'C1'),\n",
              "  731,\n",
              "  0.08977035490605428,\n",
              "  1.0,\n",
              "  1.269566573121297),\n",
              " ('OC0',\n",
              "  ('HR3', 'T1', 'L1'),\n",
              "  709,\n",
              "  0.08706864791845757,\n",
              "  1.0,\n",
              "  1.269566573121297),\n",
              " ('OC0', ('HR3', 'T1'), 731, 0.08977035490605428, 1.0, 1.269566573121297),\n",
              " ('OC0',\n",
              "  ('HR3', 'T2', 'C1', 'L1'),\n",
              "  540,\n",
              "  0.06631462605919194,\n",
              "  1.0,\n",
              "  1.269566573121297),\n",
              " ('OC0', ('HR3', 'T2', 'L1'), 618, 0.075893405378853, 1.0, 1.269566573121297),\n",
              " ('OC0',\n",
              "  ('HR3', 'C1', 'L1'),\n",
              "  1279,\n",
              "  0.15706741986982684,\n",
              "  1.0,\n",
              "  1.269566573121297),\n",
              " ('OC0', ('HR3', 'L1'), 1524, 0.18715461132260838, 1.0, 1.269566573121297),\n",
              " ('OC0',\n",
              "  ('T1', 'H3', 'HR2', 'C1', 'L1'),\n",
              "  1181,\n",
              "  0.14503254328871423,\n",
              "  1.0,\n",
              "  1.269566573121297),\n",
              " ('OC0',\n",
              "  ('T1', 'H3', 'HR2', 'L1'),\n",
              "  1181,\n",
              "  0.14503254328871423,\n",
              "  1.0,\n",
              "  1.269566573121297),\n",
              " ('OC0',\n",
              "  ('T1', 'H3', 'C1', 'L1'),\n",
              "  1241,\n",
              "  0.1524008350730689,\n",
              "  1.0,\n",
              "  1.269566573121297),\n",
              " ('OC0', ('T1', 'H3', 'L1'), 1241, 0.1524008350730689, 1.0, 1.269566573121297),\n",
              " ('OC0',\n",
              "  ('T1', 'HR2', 'C1', 'L1'),\n",
              "  1181,\n",
              "  0.14503254328871423,\n",
              "  1.0,\n",
              "  1.269566573121297),\n",
              " ('OC0',\n",
              "  ('T1', 'HR2', 'L1'),\n",
              "  1181,\n",
              "  0.14503254328871423,\n",
              "  1.0,\n",
              "  1.269566573121297),\n",
              " ('OC0',\n",
              "  ('T1', 'C1', 'L1'),\n",
              "  2256,\n",
              "  0.27704777109173523,\n",
              "  1.0,\n",
              "  1.269566573121297),\n",
              " ('OC0', ('T1', 'L1'), 2256, 0.27704777109173523, 1.0, 1.269566573121297),\n",
              " ('OC0',\n",
              "  ('H3', 'HR2', 'C1', 'L1'),\n",
              "  1465,\n",
              "  0.17990912440132628,\n",
              "  1.0,\n",
              "  1.269566573121297),\n",
              " ('OC0',\n",
              "  ('H3', 'HR2', 'L1'),\n",
              "  1465,\n",
              "  0.17990912440132628,\n",
              "  1.0,\n",
              "  1.269566573121297),\n",
              " ('OC0',\n",
              "  ('H3', 'C1', 'L1'),\n",
              "  1555,\n",
              "  0.19096156207785828,\n",
              "  1.0,\n",
              "  1.269566573121297),\n",
              " ('OC0', ('H3', 'L1'), 1722, 0.21146997421097877, 1.0, 1.269566573121297),\n",
              " ('OC0',\n",
              "  ('T2', 'H1', 'HR1', 'C1', 'L1'),\n",
              "  989,\n",
              "  0.12145400957877932,\n",
              "  1.0,\n",
              "  1.269566573121297),\n",
              " ('OC0',\n",
              "  ('T2', 'H1', 'HR1', 'L1'),\n",
              "  993,\n",
              "  0.12194522903106964,\n",
              "  1.0,\n",
              "  1.269566573121297),\n",
              " ('OC0',\n",
              "  ('T2', 'H1', 'C1', 'L1'),\n",
              "  989,\n",
              "  0.12145400957877932,\n",
              "  1.0,\n",
              "  1.269566573121297),\n",
              " ('OC0', ('T2', 'H1', 'L1'), 993, 0.12194522903106964, 1.0, 1.269566573121297),\n",
              " ('OC0',\n",
              "  ('T2', 'HR1', 'C1', 'L1'),\n",
              "  1160,\n",
              "  0.1424536411641901,\n",
              "  1.0,\n",
              "  1.269566573121297),\n",
              " ('OC0',\n",
              "  ('T2', 'HR1', 'L1'),\n",
              "  1164,\n",
              "  0.1429448606164804,\n",
              "  1.0,\n",
              "  1.269566573121297),\n",
              " ('OC0',\n",
              "  ('T2', 'C1', 'L1'),\n",
              "  1947,\n",
              "  0.23910106840230874,\n",
              "  1.0,\n",
              "  1.269566573121297),\n",
              " ('OC0', ('T2', 'L1'), 2174, 0.26697777231978387, 1.0, 1.269566573121297),\n",
              " ('OC0',\n",
              "  ('HR2', 'C1', 'L1'),\n",
              "  2043,\n",
              "  0.25089033525727616,\n",
              "  1.0,\n",
              "  1.269566573121297),\n",
              " ('OC0', ('HR2', 'L1'), 2085, 0.25604813950632443, 1.0, 1.269566573121297),\n",
              " ('OC0',\n",
              "  ('H1', 'HR1', 'C1', 'L1'),\n",
              "  1641,\n",
              "  0.20152278030209997,\n",
              "  1.0,\n",
              "  1.269566573121297),\n",
              " ('OC0',\n",
              "  ('H1', 'HR1', 'L1'),\n",
              "  1777,\n",
              "  0.21822424167997054,\n",
              "  1.0,\n",
              "  1.269566573121297),\n",
              " ('OC0',\n",
              "  ('H1', 'C1', 'L1'),\n",
              "  1641,\n",
              "  0.20152278030209997,\n",
              "  1.0,\n",
              "  1.269566573121297),\n",
              " ('OC0', ('H1', 'L1'), 1777, 0.21822424167997054, 1.0, 1.269566573121297),\n",
              " ('OC0',\n",
              "  ('HR1', 'C1', 'L1'),\n",
              "  1847,\n",
              "  0.22682058209505096,\n",
              "  1.0,\n",
              "  1.269566573121297),\n",
              " ('OC0', ('HR1', 'L1'), 1997, 0.24524131155593762, 1.0, 1.269566573121297),\n",
              " ('OC0', ('C1', 'L1'), 5169, 0.634778337222154, 1.0, 1.269566573121297),\n",
              " ('OC0',\n",
              "  ('L1',),\n",
              "  5882,\n",
              "  0.7223382045929019,\n",
              "  0.9998300186979432,\n",
              "  1.2693507705421503),\n",
              " ('OC0',\n",
              "  ('H4', 'L1'),\n",
              "  1400,\n",
              "  0.17192680830160875,\n",
              "  0.9992862241256245,\n",
              "  1.2686603871304896),\n",
              " ('OC0',\n",
              "  ('T3', 'L1'),\n",
              "  1123,\n",
              "  0.13790986123050472,\n",
              "  0.9991103202846975,\n",
              "  1.268437065493965),\n",
              " ('OC0',\n",
              "  ('HR3', 'C1'),\n",
              "  1343,\n",
              "  0.1649269311064718,\n",
              "  0.9985130111524163,\n",
              "  1.2676787417858009),\n",
              " ('OC0',\n",
              "  ('H4', 'HR3', 'C1'),\n",
              "  1208,\n",
              "  0.14834827459167382,\n",
              "  0.9983471074380166,\n",
              "  1.267468115975642),\n",
              " ('OC0',\n",
              "  ('HR3', 'T2', 'C1'),\n",
              "  570,\n",
              "  0.06999877195136928,\n",
              "  0.9965034965034965,\n",
              "  1.2651275291593347),\n",
              " ('OC0',\n",
              "  ('H4', 'HR3', 'T2', 'C1'),\n",
              "  543,\n",
              "  0.06668304064840967,\n",
              "  0.9963302752293578,\n",
              "  1.2649076132199346),\n",
              " ('OC0',\n",
              "  ('T1', 'C1'),\n",
              "  2281,\n",
              "  0.2801178926685497,\n",
              "  0.9956350938454823,\n",
              "  1.2640250341727102),\n",
              " ('OC0',\n",
              "  ('H3', 'C1'),\n",
              "  1652,\n",
              "  0.20287363379589832,\n",
              "  0.9939831528279182,\n",
              "  1.2619277850760426),\n",
              " ('OC0',\n",
              "  ('H3', 'HR2', 'C1'),\n",
              "  1517,\n",
              "  0.18629497728110034,\n",
              "  0.9934512115258677,\n",
              "  1.2612524501800968),\n",
              " ('OC0',\n",
              "  ('T1',),\n",
              "  2281,\n",
              "  0.2801178926685497,\n",
              "  0.9926022628372497,\n",
              "  1.2601746533027323),\n",
              " ('OC0',\n",
              "  ('HR2', 'C1'),\n",
              "  2095,\n",
              "  0.2572761881370502,\n",
              "  0.9924206537186168,\n",
              "  1.2599440884363418),\n",
              " ('OC0',\n",
              "  ('T1', 'H3', 'C1'),\n",
              "  1250,\n",
              "  0.1535060788407221,\n",
              "  0.9920634920634921,\n",
              "  1.2594906479377947),\n",
              " ('OC0',\n",
              "  ('T1', 'H3', 'HR2', 'C1'),\n",
              "  1184,\n",
              "  0.14540095787793197,\n",
              "  0.9916247906197655,\n",
              "  1.2589336872492596),\n",
              " ('OC0',\n",
              "  ('T1', 'HR2', 'C1'),\n",
              "  1184,\n",
              "  0.14540095787793197,\n",
              "  0.9916247906197655,\n",
              "  1.2589336872492596),\n",
              " ('OC0',\n",
              "  ('H1', 'HR1', 'C1'),\n",
              "  1980,\n",
              "  0.2431536288837038,\n",
              "  0.990990990990991,\n",
              "  1.2581290364265107),\n",
              " ('OC0',\n",
              "  ('H1', 'C1'),\n",
              "  1980,\n",
              "  0.2431536288837038,\n",
              "  0.990990990990991,\n",
              "  1.2581290364265107),\n",
              " ('OC0',\n",
              "  ('T3', 'HR2', 'C1'),\n",
              "  640,\n",
              "  0.07859511236644971,\n",
              "  0.9907120743034056,\n",
              "  1.2577749331232666),\n",
              " ('OC0',\n",
              "  ('C1',),\n",
              "  5627,\n",
              "  0.6910229645093946,\n",
              "  0.9899718508092892,\n",
              "  1.2568351701184974),\n",
              " ('OC0',\n",
              "  ('H2', 'HR2', 'C1'),\n",
              "  578,\n",
              "  0.0709812108559499,\n",
              "  0.9897260273972602,\n",
              "  1.2565230809316947),\n",
              " ('OC0',\n",
              "  ('HR1', 'C1'),\n",
              "  2189,\n",
              "  0.26881984526587255,\n",
              "  0.9896021699819169,\n",
              "  1.2563658356973415),\n",
              " ('OC0',\n",
              "  ('T3', 'C1'),\n",
              "  964,\n",
              "  0.11838388800196488,\n",
              "  0.9887179487179487,\n",
              "  1.2552432579373647),\n",
              " ('OC0',\n",
              "  ('H2', 'T3', 'HR2', 'C1'),\n",
              "  488,\n",
              "  0.0599287731794179,\n",
              "  0.9878542510121457,\n",
              "  1.2541467362007956),\n",
              " ('OC0',\n",
              "  ('T1', 'H3'),\n",
              "  1250,\n",
              "  0.1535060788407221,\n",
              "  0.9865824782951855,\n",
              "  1.252532136070735),\n",
              " ('OC0',\n",
              "  ('H2', 'C1'),\n",
              "  787,\n",
              "  0.09664742723811863,\n",
              "  0.9862155388471178,\n",
              "  1.2520662820131088),\n",
              " ('OC0',\n",
              "  ('T1', 'H3', 'HR2'),\n",
              "  1184,\n",
              "  0.14540095787793197,\n",
              "  0.9858451290591174,\n",
              "  1.2515960221279065),\n",
              " ('OC0',\n",
              "  ('T1', 'HR2'),\n",
              "  1184,\n",
              "  0.14540095787793197,\n",
              "  0.9858451290591174,\n",
              "  1.2515960221279065),\n",
              " ('OC0',\n",
              "  ('H4', 'C1'),\n",
              "  1208,\n",
              "  0.14834827459167382,\n",
              "  0.9853181076672104,\n",
              "  1.2509269333854216),\n",
              " ('OC0',\n",
              "  ('T2', 'HR1', 'C1'),\n",
              "  1197,\n",
              "  0.14699742109787547,\n",
              "  0.9851851851851852,\n",
              "  1.250758179445426),\n",
              " ('OC0',\n",
              "  ('H3', 'HR2'),\n",
              "  1517,\n",
              "  0.18629497728110034,\n",
              "  0.9850649350649351,\n",
              "  1.2506055139123426),\n",
              " ('OC0',\n",
              "  ('T2', 'HR1'),\n",
              "  1201,\n",
              "  0.14748864055016578,\n",
              "  0.9836199836199836,\n",
              "  1.248771051858049),\n",
              " ('OC0',\n",
              "  ('T2', 'H1', 'HR1', 'C1'),\n",
              "  1026,\n",
              "  0.12599778951246468,\n",
              "  0.9827586206896551,\n",
              "  1.2476774942743782),\n",
              " ('OC0',\n",
              "  ('T2', 'H1', 'C1'),\n",
              "  1026,\n",
              "  0.12599778951246468,\n",
              "  0.9827586206896551,\n",
              "  1.2476774942743782),\n",
              " ('OC0',\n",
              "  ('T2', 'C1'),\n",
              "  2032,\n",
              "  0.24953948176347784,\n",
              "  0.9825918762088974,\n",
              "  1.2474658010553559),\n",
              " ('OC0',\n",
              "  ('T2', 'H1', 'HR1'),\n",
              "  1030,\n",
              "  0.126489008964755,\n",
              "  0.9809523809523809,\n",
              "  1.2453843526808914),\n",
              " ('OC0',\n",
              "  ('T2', 'H1'),\n",
              "  1030,\n",
              "  0.126489008964755,\n",
              "  0.9809523809523809,\n",
              "  1.2453843526808914),\n",
              " ('OC0',\n",
              "  ('H2', 'T3', 'C1'),\n",
              "  526,\n",
              "  0.06459535797617585,\n",
              "  0.9795158286778398,\n",
              "  1.2435605539325927),\n",
              " ('OC0',\n",
              "  ('H4', 'T2', 'C1'),\n",
              "  543,\n",
              "  0.06668304064840967,\n",
              "  0.9679144385026738,\n",
              "  1.228831816764464),\n",
              " ('OC0',\n",
              "  ('T2',),\n",
              "  2259,\n",
              "  0.27741618568095294,\n",
              "  0.9580152671755725,\n",
              "  1.2162641597459756),\n",
              " ('OC0',\n",
              "  ('H4', 'HR3'),\n",
              "  1286,\n",
              "  0.15792705391133488,\n",
              "  0.9435069699192957,\n",
              "  1.197844910516499),\n",
              " ('OC0',\n",
              "  ('H4', 'HR3', 'T2'),\n",
              "  621,\n",
              "  0.07626181996807073,\n",
              "  0.9394856278366112,\n",
              "  1.1927395490292367),\n",
              " ('OC0',\n",
              "  ('HR3', 'T2'),\n",
              "  648,\n",
              "  0.07957755127103033,\n",
              "  0.9257142857142857,\n",
              "  1.175255913403715),\n",
              " ('OC0',\n",
              "  ('H4', 'T2'),\n",
              "  732,\n",
              "  0.08989315976912686,\n",
              "  0.9230769230769231,\n",
              "  1.1719076059581204)]"
            ]
          },
          "metadata": {
            "tags": []
          },
          "execution_count": 101
        }
      ]
    }
  ]
}